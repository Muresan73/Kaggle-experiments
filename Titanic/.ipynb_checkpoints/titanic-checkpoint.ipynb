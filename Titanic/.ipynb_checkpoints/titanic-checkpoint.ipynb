{
 "cells": [
  {
   "cell_type": "code",
   "execution_count": 1,
   "metadata": {},
   "outputs": [],
   "source": [
    "using DataFrames\n",
    "using CSV\n",
    "ENV[\"COLUMNS\"] = 1000\n",
    "using CategoricalArrays\n",
    "\n",
    "\n",
    "using Pipe: @pipe\n",
    "using Setfield"
   ]
  },
  {
   "cell_type": "markdown",
   "metadata": {},
   "source": [
    "## Initial steps"
   ]
  },
  {
   "cell_type": "code",
   "execution_count": 2,
   "metadata": {},
   "outputs": [
    {
     "data": {
      "text/html": [
       "<table class=\"data-frame\"><thead><tr><th></th><th>PassengerId</th><th>Survived</th><th>Pclass</th><th>Name</th><th>Sex</th><th>Age</th><th>SibSp</th><th>Parch</th><th>Ticket</th><th>Fare</th><th>Cabin</th><th>Embarked</th></tr><tr><th></th><th>Int64</th><th>Int64</th><th>Int64</th><th>String</th><th>String7</th><th>Float64?</th><th>Int64</th><th>Int64</th><th>String31</th><th>Float64</th><th>String15?</th><th>String1?</th></tr></thead><tbody><p>891 rows × 12 columns</p><tr><th>1</th><td>1</td><td>0</td><td>3</td><td>Braund, Mr. Owen Harris</td><td>male</td><td>22.0</td><td>1</td><td>0</td><td>A/5 21171</td><td>7.25</td><td><em>missing</em></td><td>S</td></tr><tr><th>2</th><td>2</td><td>1</td><td>1</td><td>Cumings, Mrs. John Bradley (Florence Briggs Thayer)</td><td>female</td><td>38.0</td><td>1</td><td>0</td><td>PC 17599</td><td>71.2833</td><td>C85</td><td>C</td></tr><tr><th>3</th><td>3</td><td>1</td><td>3</td><td>Heikkinen, Miss. Laina</td><td>female</td><td>26.0</td><td>0</td><td>0</td><td>STON/O2. 3101282</td><td>7.925</td><td><em>missing</em></td><td>S</td></tr><tr><th>4</th><td>4</td><td>1</td><td>1</td><td>Futrelle, Mrs. Jacques Heath (Lily May Peel)</td><td>female</td><td>35.0</td><td>1</td><td>0</td><td>113803</td><td>53.1</td><td>C123</td><td>S</td></tr><tr><th>5</th><td>5</td><td>0</td><td>3</td><td>Allen, Mr. William Henry</td><td>male</td><td>35.0</td><td>0</td><td>0</td><td>373450</td><td>8.05</td><td><em>missing</em></td><td>S</td></tr><tr><th>6</th><td>6</td><td>0</td><td>3</td><td>Moran, Mr. James</td><td>male</td><td><em>missing</em></td><td>0</td><td>0</td><td>330877</td><td>8.4583</td><td><em>missing</em></td><td>Q</td></tr><tr><th>7</th><td>7</td><td>0</td><td>1</td><td>McCarthy, Mr. Timothy J</td><td>male</td><td>54.0</td><td>0</td><td>0</td><td>17463</td><td>51.8625</td><td>E46</td><td>S</td></tr><tr><th>8</th><td>8</td><td>0</td><td>3</td><td>Palsson, Master. Gosta Leonard</td><td>male</td><td>2.0</td><td>3</td><td>1</td><td>349909</td><td>21.075</td><td><em>missing</em></td><td>S</td></tr><tr><th>9</th><td>9</td><td>1</td><td>3</td><td>Johnson, Mrs. Oscar W (Elisabeth Vilhelmina Berg)</td><td>female</td><td>27.0</td><td>0</td><td>2</td><td>347742</td><td>11.1333</td><td><em>missing</em></td><td>S</td></tr><tr><th>10</th><td>10</td><td>1</td><td>2</td><td>Nasser, Mrs. Nicholas (Adele Achem)</td><td>female</td><td>14.0</td><td>1</td><td>0</td><td>237736</td><td>30.0708</td><td><em>missing</em></td><td>C</td></tr><tr><th>11</th><td>11</td><td>1</td><td>3</td><td>Sandstrom, Miss. Marguerite Rut</td><td>female</td><td>4.0</td><td>1</td><td>1</td><td>PP 9549</td><td>16.7</td><td>G6</td><td>S</td></tr><tr><th>12</th><td>12</td><td>1</td><td>1</td><td>Bonnell, Miss. Elizabeth</td><td>female</td><td>58.0</td><td>0</td><td>0</td><td>113783</td><td>26.55</td><td>C103</td><td>S</td></tr><tr><th>13</th><td>13</td><td>0</td><td>3</td><td>Saundercock, Mr. William Henry</td><td>male</td><td>20.0</td><td>0</td><td>0</td><td>A/5. 2151</td><td>8.05</td><td><em>missing</em></td><td>S</td></tr><tr><th>14</th><td>14</td><td>0</td><td>3</td><td>Andersson, Mr. Anders Johan</td><td>male</td><td>39.0</td><td>1</td><td>5</td><td>347082</td><td>31.275</td><td><em>missing</em></td><td>S</td></tr><tr><th>15</th><td>15</td><td>0</td><td>3</td><td>Vestrom, Miss. Hulda Amanda Adolfina</td><td>female</td><td>14.0</td><td>0</td><td>0</td><td>350406</td><td>7.8542</td><td><em>missing</em></td><td>S</td></tr><tr><th>16</th><td>16</td><td>1</td><td>2</td><td>Hewlett, Mrs. (Mary D Kingcome) </td><td>female</td><td>55.0</td><td>0</td><td>0</td><td>248706</td><td>16.0</td><td><em>missing</em></td><td>S</td></tr><tr><th>17</th><td>17</td><td>0</td><td>3</td><td>Rice, Master. Eugene</td><td>male</td><td>2.0</td><td>4</td><td>1</td><td>382652</td><td>29.125</td><td><em>missing</em></td><td>Q</td></tr><tr><th>18</th><td>18</td><td>1</td><td>2</td><td>Williams, Mr. Charles Eugene</td><td>male</td><td><em>missing</em></td><td>0</td><td>0</td><td>244373</td><td>13.0</td><td><em>missing</em></td><td>S</td></tr><tr><th>19</th><td>19</td><td>0</td><td>3</td><td>Vander Planke, Mrs. Julius (Emelia Maria Vandemoortele)</td><td>female</td><td>31.0</td><td>1</td><td>0</td><td>345763</td><td>18.0</td><td><em>missing</em></td><td>S</td></tr><tr><th>20</th><td>20</td><td>1</td><td>3</td><td>Masselmani, Mrs. Fatima</td><td>female</td><td><em>missing</em></td><td>0</td><td>0</td><td>2649</td><td>7.225</td><td><em>missing</em></td><td>C</td></tr><tr><th>21</th><td>21</td><td>0</td><td>2</td><td>Fynney, Mr. Joseph J</td><td>male</td><td>35.0</td><td>0</td><td>0</td><td>239865</td><td>26.0</td><td><em>missing</em></td><td>S</td></tr><tr><th>22</th><td>22</td><td>1</td><td>2</td><td>Beesley, Mr. Lawrence</td><td>male</td><td>34.0</td><td>0</td><td>0</td><td>248698</td><td>13.0</td><td>D56</td><td>S</td></tr><tr><th>23</th><td>23</td><td>1</td><td>3</td><td>McGowan, Miss. Anna \"Annie\"</td><td>female</td><td>15.0</td><td>0</td><td>0</td><td>330923</td><td>8.0292</td><td><em>missing</em></td><td>Q</td></tr><tr><th>24</th><td>24</td><td>1</td><td>1</td><td>Sloper, Mr. William Thompson</td><td>male</td><td>28.0</td><td>0</td><td>0</td><td>113788</td><td>35.5</td><td>A6</td><td>S</td></tr><tr><th>25</th><td>25</td><td>0</td><td>3</td><td>Palsson, Miss. Torborg Danira</td><td>female</td><td>8.0</td><td>3</td><td>1</td><td>349909</td><td>21.075</td><td><em>missing</em></td><td>S</td></tr><tr><th>26</th><td>26</td><td>1</td><td>3</td><td>Asplund, Mrs. Carl Oscar (Selma Augusta Emilia Johansson)</td><td>female</td><td>38.0</td><td>1</td><td>5</td><td>347077</td><td>31.3875</td><td><em>missing</em></td><td>S</td></tr><tr><th>27</th><td>27</td><td>0</td><td>3</td><td>Emir, Mr. Farred Chehab</td><td>male</td><td><em>missing</em></td><td>0</td><td>0</td><td>2631</td><td>7.225</td><td><em>missing</em></td><td>C</td></tr><tr><th>28</th><td>28</td><td>0</td><td>1</td><td>Fortune, Mr. Charles Alexander</td><td>male</td><td>19.0</td><td>3</td><td>2</td><td>19950</td><td>263.0</td><td>C23 C25 C27</td><td>S</td></tr><tr><th>29</th><td>29</td><td>1</td><td>3</td><td>O'Dwyer, Miss. Ellen \"Nellie\"</td><td>female</td><td><em>missing</em></td><td>0</td><td>0</td><td>330959</td><td>7.8792</td><td><em>missing</em></td><td>Q</td></tr><tr><th>30</th><td>30</td><td>0</td><td>3</td><td>Todoroff, Mr. Lalio</td><td>male</td><td><em>missing</em></td><td>0</td><td>0</td><td>349216</td><td>7.8958</td><td><em>missing</em></td><td>S</td></tr><tr><th>&vellip;</th><td>&vellip;</td><td>&vellip;</td><td>&vellip;</td><td>&vellip;</td><td>&vellip;</td><td>&vellip;</td><td>&vellip;</td><td>&vellip;</td><td>&vellip;</td><td>&vellip;</td><td>&vellip;</td><td>&vellip;</td></tr></tbody></table>"
      ],
      "text/latex": [
       "\\begin{tabular}{r|cccccccccccc}\n",
       "\t& PassengerId & Survived & Pclass & Name & Sex & Age & SibSp & Parch & Ticket & Fare & Cabin & Embarked\\\\\n",
       "\t\\hline\n",
       "\t& Int64 & Int64 & Int64 & String & String7 & Float64? & Int64 & Int64 & String31 & Float64 & String15? & String1?\\\\\n",
       "\t\\hline\n",
       "\t1 & 1 & 0 & 3 & Braund, Mr. Owen Harris & male & 22.0 & 1 & 0 & A/5 21171 & 7.25 & \\emph{missing} & S \\\\\n",
       "\t2 & 2 & 1 & 1 & Cumings, Mrs. John Bradley (Florence Briggs Thayer) & female & 38.0 & 1 & 0 & PC 17599 & 71.2833 & C85 & C \\\\\n",
       "\t3 & 3 & 1 & 3 & Heikkinen, Miss. Laina & female & 26.0 & 0 & 0 & STON/O2. 3101282 & 7.925 & \\emph{missing} & S \\\\\n",
       "\t4 & 4 & 1 & 1 & Futrelle, Mrs. Jacques Heath (Lily May Peel) & female & 35.0 & 1 & 0 & 113803 & 53.1 & C123 & S \\\\\n",
       "\t5 & 5 & 0 & 3 & Allen, Mr. William Henry & male & 35.0 & 0 & 0 & 373450 & 8.05 & \\emph{missing} & S \\\\\n",
       "\t6 & 6 & 0 & 3 & Moran, Mr. James & male & \\emph{missing} & 0 & 0 & 330877 & 8.4583 & \\emph{missing} & Q \\\\\n",
       "\t7 & 7 & 0 & 1 & McCarthy, Mr. Timothy J & male & 54.0 & 0 & 0 & 17463 & 51.8625 & E46 & S \\\\\n",
       "\t8 & 8 & 0 & 3 & Palsson, Master. Gosta Leonard & male & 2.0 & 3 & 1 & 349909 & 21.075 & \\emph{missing} & S \\\\\n",
       "\t9 & 9 & 1 & 3 & Johnson, Mrs. Oscar W (Elisabeth Vilhelmina Berg) & female & 27.0 & 0 & 2 & 347742 & 11.1333 & \\emph{missing} & S \\\\\n",
       "\t10 & 10 & 1 & 2 & Nasser, Mrs. Nicholas (Adele Achem) & female & 14.0 & 1 & 0 & 237736 & 30.0708 & \\emph{missing} & C \\\\\n",
       "\t11 & 11 & 1 & 3 & Sandstrom, Miss. Marguerite Rut & female & 4.0 & 1 & 1 & PP 9549 & 16.7 & G6 & S \\\\\n",
       "\t12 & 12 & 1 & 1 & Bonnell, Miss. Elizabeth & female & 58.0 & 0 & 0 & 113783 & 26.55 & C103 & S \\\\\n",
       "\t13 & 13 & 0 & 3 & Saundercock, Mr. William Henry & male & 20.0 & 0 & 0 & A/5. 2151 & 8.05 & \\emph{missing} & S \\\\\n",
       "\t14 & 14 & 0 & 3 & Andersson, Mr. Anders Johan & male & 39.0 & 1 & 5 & 347082 & 31.275 & \\emph{missing} & S \\\\\n",
       "\t15 & 15 & 0 & 3 & Vestrom, Miss. Hulda Amanda Adolfina & female & 14.0 & 0 & 0 & 350406 & 7.8542 & \\emph{missing} & S \\\\\n",
       "\t16 & 16 & 1 & 2 & Hewlett, Mrs. (Mary D Kingcome)  & female & 55.0 & 0 & 0 & 248706 & 16.0 & \\emph{missing} & S \\\\\n",
       "\t17 & 17 & 0 & 3 & Rice, Master. Eugene & male & 2.0 & 4 & 1 & 382652 & 29.125 & \\emph{missing} & Q \\\\\n",
       "\t18 & 18 & 1 & 2 & Williams, Mr. Charles Eugene & male & \\emph{missing} & 0 & 0 & 244373 & 13.0 & \\emph{missing} & S \\\\\n",
       "\t19 & 19 & 0 & 3 & Vander Planke, Mrs. Julius (Emelia Maria Vandemoortele) & female & 31.0 & 1 & 0 & 345763 & 18.0 & \\emph{missing} & S \\\\\n",
       "\t20 & 20 & 1 & 3 & Masselmani, Mrs. Fatima & female & \\emph{missing} & 0 & 0 & 2649 & 7.225 & \\emph{missing} & C \\\\\n",
       "\t21 & 21 & 0 & 2 & Fynney, Mr. Joseph J & male & 35.0 & 0 & 0 & 239865 & 26.0 & \\emph{missing} & S \\\\\n",
       "\t22 & 22 & 1 & 2 & Beesley, Mr. Lawrence & male & 34.0 & 0 & 0 & 248698 & 13.0 & D56 & S \\\\\n",
       "\t23 & 23 & 1 & 3 & McGowan, Miss. Anna \"Annie\" & female & 15.0 & 0 & 0 & 330923 & 8.0292 & \\emph{missing} & Q \\\\\n",
       "\t24 & 24 & 1 & 1 & Sloper, Mr. William Thompson & male & 28.0 & 0 & 0 & 113788 & 35.5 & A6 & S \\\\\n",
       "\t25 & 25 & 0 & 3 & Palsson, Miss. Torborg Danira & female & 8.0 & 3 & 1 & 349909 & 21.075 & \\emph{missing} & S \\\\\n",
       "\t26 & 26 & 1 & 3 & Asplund, Mrs. Carl Oscar (Selma Augusta Emilia Johansson) & female & 38.0 & 1 & 5 & 347077 & 31.3875 & \\emph{missing} & S \\\\\n",
       "\t27 & 27 & 0 & 3 & Emir, Mr. Farred Chehab & male & \\emph{missing} & 0 & 0 & 2631 & 7.225 & \\emph{missing} & C \\\\\n",
       "\t28 & 28 & 0 & 1 & Fortune, Mr. Charles Alexander & male & 19.0 & 3 & 2 & 19950 & 263.0 & C23 C25 C27 & S \\\\\n",
       "\t29 & 29 & 1 & 3 & O'Dwyer, Miss. Ellen \"Nellie\" & female & \\emph{missing} & 0 & 0 & 330959 & 7.8792 & \\emph{missing} & Q \\\\\n",
       "\t30 & 30 & 0 & 3 & Todoroff, Mr. Lalio & male & \\emph{missing} & 0 & 0 & 349216 & 7.8958 & \\emph{missing} & S \\\\\n",
       "\t$\\dots$ & $\\dots$ & $\\dots$ & $\\dots$ & $\\dots$ & $\\dots$ & $\\dots$ & $\\dots$ & $\\dots$ & $\\dots$ & $\\dots$ & $\\dots$ & $\\dots$ \\\\\n",
       "\\end{tabular}\n"
      ],
      "text/plain": [
       "\u001b[1m891×12 DataFrame\u001b[0m\n",
       "\u001b[1m Row \u001b[0m│\u001b[1m PassengerId \u001b[0m\u001b[1m Survived \u001b[0m\u001b[1m Pclass \u001b[0m\u001b[1m Name                              \u001b[0m\u001b[1m Sex     \u001b[0m\u001b[1m Age       \u001b[0m\u001b[1m SibSp \u001b[0m\u001b[1m Parch \u001b[0m\u001b[1m Ticket           \u001b[0m\u001b[1m Fare    \u001b[0m\u001b[1m Cabin     \u001b[0m\u001b[1m Embarked \u001b[0m\n",
       "\u001b[1m     \u001b[0m│\u001b[90m Int64       \u001b[0m\u001b[90m Int64    \u001b[0m\u001b[90m Int64  \u001b[0m\u001b[90m String                            \u001b[0m\u001b[90m String7 \u001b[0m\u001b[90m Float64?  \u001b[0m\u001b[90m Int64 \u001b[0m\u001b[90m Int64 \u001b[0m\u001b[90m String31         \u001b[0m\u001b[90m Float64 \u001b[0m\u001b[90m String15? \u001b[0m\u001b[90m String1? \u001b[0m\n",
       "─────┼────────────────────────────────────────────────────────────────────────────────────────────────────────────────────────────────────────────────────\n",
       "   1 │           1         0       3  Braund, Mr. Owen Harris            male          22.0      1      0  A/5 21171          7.25   \u001b[90m missing   \u001b[0m S\n",
       "   2 │           2         1       1  Cumings, Mrs. John Bradley (Flor…  female        38.0      1      0  PC 17599          71.2833  C85        C\n",
       "   3 │           3         1       3  Heikkinen, Miss. Laina             female        26.0      0      0  STON/O2. 3101282   7.925  \u001b[90m missing   \u001b[0m S\n",
       "   4 │           4         1       1  Futrelle, Mrs. Jacques Heath (Li…  female        35.0      1      0  113803            53.1     C123       S\n",
       "   5 │           5         0       3  Allen, Mr. William Henry           male          35.0      0      0  373450             8.05   \u001b[90m missing   \u001b[0m S\n",
       "   6 │           6         0       3  Moran, Mr. James                   male    \u001b[90m missing   \u001b[0m     0      0  330877             8.4583 \u001b[90m missing   \u001b[0m Q\n",
       "   7 │           7         0       1  McCarthy, Mr. Timothy J            male          54.0      0      0  17463             51.8625  E46        S\n",
       "   8 │           8         0       3  Palsson, Master. Gosta Leonard     male           2.0      3      1  349909            21.075  \u001b[90m missing   \u001b[0m S\n",
       "   9 │           9         1       3  Johnson, Mrs. Oscar W (Elisabeth…  female        27.0      0      2  347742            11.1333 \u001b[90m missing   \u001b[0m S\n",
       "  10 │          10         1       2  Nasser, Mrs. Nicholas (Adele Ach…  female        14.0      1      0  237736            30.0708 \u001b[90m missing   \u001b[0m C\n",
       "  11 │          11         1       3  Sandstrom, Miss. Marguerite Rut    female         4.0      1      1  PP 9549           16.7     G6         S\n",
       "  ⋮  │      ⋮          ⋮        ⋮                     ⋮                     ⋮         ⋮        ⋮      ⋮           ⋮             ⋮         ⋮         ⋮\n",
       " 882 │         882         0       3  Markun, Mr. Johann                 male          33.0      0      0  349257             7.8958 \u001b[90m missing   \u001b[0m S\n",
       " 883 │         883         0       3  Dahlberg, Miss. Gerda Ulrika       female        22.0      0      0  7552              10.5167 \u001b[90m missing   \u001b[0m S\n",
       " 884 │         884         0       2  Banfield, Mr. Frederick James      male          28.0      0      0  C.A./SOTON 34068  10.5    \u001b[90m missing   \u001b[0m S\n",
       " 885 │         885         0       3  Sutehall, Mr. Henry Jr             male          25.0      0      0  SOTON/OQ 392076    7.05   \u001b[90m missing   \u001b[0m S\n",
       " 886 │         886         0       3  Rice, Mrs. William (Margaret Nor…  female        39.0      0      5  382652            29.125  \u001b[90m missing   \u001b[0m Q\n",
       " 887 │         887         0       2  Montvila, Rev. Juozas              male          27.0      0      0  211536            13.0    \u001b[90m missing   \u001b[0m S\n",
       " 888 │         888         1       1  Graham, Miss. Margaret Edith       female        19.0      0      0  112053            30.0     B42        S\n",
       " 889 │         889         0       3  Johnston, Miss. Catherine Helen …  female  \u001b[90m missing   \u001b[0m     1      2  W./C. 6607        23.45   \u001b[90m missing   \u001b[0m S\n",
       " 890 │         890         1       1  Behr, Mr. Karl Howell              male          26.0      0      0  111369            30.0     C148       C\n",
       " 891 │         891         0       3  Dooley, Mr. Patrick                male          32.0      0      0  370376             7.75   \u001b[90m missing   \u001b[0m Q\n",
       "\u001b[36m                                                                                                                                          870 rows omitted\u001b[0m"
      ]
     },
     "execution_count": 2,
     "metadata": {},
     "output_type": "execute_result"
    }
   ],
   "source": [
    "df = CSV.File(\"data/train.csv\") |> DataFrame"
   ]
  },
  {
   "cell_type": "code",
   "execution_count": 3,
   "metadata": {},
   "outputs": [
    {
     "name": "stdout",
     "output_type": "stream",
     "text": [
      "[\"PassengerId\", \"Survived\", \"Pclass\", \"Name\", \"Sex\", \"Age\", \"SibSp\", \"Parch\", \"Ticket\", \"Fare\", \"Cabin\", \"Embarked\"]"
     ]
    },
    {
     "data": {
      "text/html": [
       "<table class=\"data-frame\"><thead><tr><th></th><th>variable</th><th>mean</th><th>min</th><th>median</th><th>max</th><th>nmissing</th><th>eltype</th></tr><tr><th></th><th>Symbol</th><th>Union…</th><th>Any</th><th>Union…</th><th>Any</th><th>Int64</th><th>Type</th></tr></thead><tbody><p>12 rows × 7 columns</p><tr><th>1</th><td>PassengerId</td><td>446.0</td><td>1</td><td>446.0</td><td>891</td><td>0</td><td>Int64</td></tr><tr><th>2</th><td>Survived</td><td>0.383838</td><td>0</td><td>0.0</td><td>1</td><td>0</td><td>Int64</td></tr><tr><th>3</th><td>Pclass</td><td>2.30864</td><td>1</td><td>3.0</td><td>3</td><td>0</td><td>Int64</td></tr><tr><th>4</th><td>Name</td><td></td><td>Abbing, Mr. Anthony</td><td></td><td>van Melkebeke, Mr. Philemon</td><td>0</td><td>String</td></tr><tr><th>5</th><td>Sex</td><td></td><td>female</td><td></td><td>male</td><td>0</td><td>String7</td></tr><tr><th>6</th><td>Age</td><td>29.6991</td><td>0.42</td><td>28.0</td><td>80.0</td><td>177</td><td>Union{Missing, Float64}</td></tr><tr><th>7</th><td>SibSp</td><td>0.523008</td><td>0</td><td>0.0</td><td>8</td><td>0</td><td>Int64</td></tr><tr><th>8</th><td>Parch</td><td>0.381594</td><td>0</td><td>0.0</td><td>6</td><td>0</td><td>Int64</td></tr><tr><th>9</th><td>Ticket</td><td></td><td>110152</td><td></td><td>WE/P 5735</td><td>0</td><td>String31</td></tr><tr><th>10</th><td>Fare</td><td>32.2042</td><td>0.0</td><td>14.4542</td><td>512.329</td><td>0</td><td>Float64</td></tr><tr><th>11</th><td>Cabin</td><td></td><td>A10</td><td></td><td>T</td><td>687</td><td>Union{Missing, String15}</td></tr><tr><th>12</th><td>Embarked</td><td></td><td>C</td><td></td><td>S</td><td>2</td><td>Union{Missing, String1}</td></tr></tbody></table>"
      ],
      "text/latex": [
       "\\begin{tabular}{r|ccccccc}\n",
       "\t& variable & mean & min & median & max & nmissing & eltype\\\\\n",
       "\t\\hline\n",
       "\t& Symbol & Union… & Any & Union… & Any & Int64 & Type\\\\\n",
       "\t\\hline\n",
       "\t1 & PassengerId & 446.0 & 1 & 446.0 & 891 & 0 & Int64 \\\\\n",
       "\t2 & Survived & 0.383838 & 0 & 0.0 & 1 & 0 & Int64 \\\\\n",
       "\t3 & Pclass & 2.30864 & 1 & 3.0 & 3 & 0 & Int64 \\\\\n",
       "\t4 & Name &  & Abbing, Mr. Anthony &  & van Melkebeke, Mr. Philemon & 0 & String \\\\\n",
       "\t5 & Sex &  & female &  & male & 0 & String7 \\\\\n",
       "\t6 & Age & 29.6991 & 0.42 & 28.0 & 80.0 & 177 & Union\\{Missing, Float64\\} \\\\\n",
       "\t7 & SibSp & 0.523008 & 0 & 0.0 & 8 & 0 & Int64 \\\\\n",
       "\t8 & Parch & 0.381594 & 0 & 0.0 & 6 & 0 & Int64 \\\\\n",
       "\t9 & Ticket &  & 110152 &  & WE/P 5735 & 0 & String31 \\\\\n",
       "\t10 & Fare & 32.2042 & 0.0 & 14.4542 & 512.329 & 0 & Float64 \\\\\n",
       "\t11 & Cabin &  & A10 &  & T & 687 & Union\\{Missing, String15\\} \\\\\n",
       "\t12 & Embarked &  & C &  & S & 2 & Union\\{Missing, String1\\} \\\\\n",
       "\\end{tabular}\n"
      ],
      "text/plain": [
       "\u001b[1m12×7 DataFrame\u001b[0m\n",
       "\u001b[1m Row \u001b[0m│\u001b[1m variable    \u001b[0m\u001b[1m mean     \u001b[0m\u001b[1m min                 \u001b[0m\u001b[1m median  \u001b[0m\u001b[1m max                         \u001b[0m\u001b[1m nmissing \u001b[0m\u001b[1m eltype                   \u001b[0m\n",
       "\u001b[1m     \u001b[0m│\u001b[90m Symbol      \u001b[0m\u001b[90m Union…   \u001b[0m\u001b[90m Any                 \u001b[0m\u001b[90m Union…  \u001b[0m\u001b[90m Any                         \u001b[0m\u001b[90m Int64    \u001b[0m\u001b[90m Type                     \u001b[0m\n",
       "─────┼──────────────────────────────────────────────────────────────────────────────────────────────────────────────────────\n",
       "   1 │ PassengerId  446.0     1                    446.0    891                                 0  Int64\n",
       "   2 │ Survived     0.383838  0                    0.0      1                                   0  Int64\n",
       "   3 │ Pclass       2.30864   1                    3.0      3                                   0  Int64\n",
       "   4 │ Name        \u001b[90m          \u001b[0m Abbing, Mr. Anthony \u001b[90m         \u001b[0m van Melkebeke, Mr. Philemon         0  String\n",
       "   5 │ Sex         \u001b[90m          \u001b[0m female              \u001b[90m         \u001b[0m male                                0  String7\n",
       "   6 │ Age          29.6991   0.42                 28.0     80.0                              177  Union{Missing, Float64}\n",
       "   7 │ SibSp        0.523008  0                    0.0      8                                   0  Int64\n",
       "   8 │ Parch        0.381594  0                    0.0      6                                   0  Int64\n",
       "   9 │ Ticket      \u001b[90m          \u001b[0m 110152              \u001b[90m         \u001b[0m WE/P 5735                           0  String31\n",
       "  10 │ Fare         32.2042   0.0                  14.4542  512.329                             0  Float64\n",
       "  11 │ Cabin       \u001b[90m          \u001b[0m A10                 \u001b[90m         \u001b[0m T                                 687  Union{Missing, String15}\n",
       "  12 │ Embarked    \u001b[90m          \u001b[0m C                   \u001b[90m         \u001b[0m S                                   2  Union{Missing, String1}"
      ]
     },
     "execution_count": 3,
     "metadata": {},
     "output_type": "execute_result"
    }
   ],
   "source": [
    "names(df) |> show\n",
    "describe(df) "
   ]
  },
  {
   "cell_type": "code",
   "execution_count": 4,
   "metadata": {},
   "outputs": [
    {
     "data": {
      "text/html": [
       "<table class=\"data-frame\"><thead><tr><th></th><th>Survived</th><th>Name</th></tr><tr><th></th><th>Int64</th><th>String</th></tr></thead><tbody><p>5 rows × 2 columns</p><tr><th>1</th><td>0</td><td>Braund, Mr. Owen Harris</td></tr><tr><th>2</th><td>1</td><td>Cumings, Mrs. John Bradley (Florence Briggs Thayer)</td></tr><tr><th>3</th><td>1</td><td>Heikkinen, Miss. Laina</td></tr><tr><th>4</th><td>1</td><td>Futrelle, Mrs. Jacques Heath (Lily May Peel)</td></tr><tr><th>5</th><td>0</td><td>Allen, Mr. William Henry</td></tr></tbody></table>"
      ],
      "text/latex": [
       "\\begin{tabular}{r|cc}\n",
       "\t& Survived & Name\\\\\n",
       "\t\\hline\n",
       "\t& Int64 & String\\\\\n",
       "\t\\hline\n",
       "\t1 & 0 & Braund, Mr. Owen Harris \\\\\n",
       "\t2 & 1 & Cumings, Mrs. John Bradley (Florence Briggs Thayer) \\\\\n",
       "\t3 & 1 & Heikkinen, Miss. Laina \\\\\n",
       "\t4 & 1 & Futrelle, Mrs. Jacques Heath (Lily May Peel) \\\\\n",
       "\t5 & 0 & Allen, Mr. William Henry \\\\\n",
       "\\end{tabular}\n"
      ],
      "text/plain": [
       "\u001b[1m5×2 DataFrame\u001b[0m\n",
       "\u001b[1m Row \u001b[0m│\u001b[1m Survived \u001b[0m\u001b[1m Name                              \u001b[0m\n",
       "\u001b[1m     \u001b[0m│\u001b[90m Int64    \u001b[0m\u001b[90m String                            \u001b[0m\n",
       "─────┼─────────────────────────────────────────────\n",
       "   1 │        0  Braund, Mr. Owen Harris\n",
       "   2 │        1  Cumings, Mrs. John Bradley (Flor…\n",
       "   3 │        1  Heikkinen, Miss. Laina\n",
       "   4 │        1  Futrelle, Mrs. Jacques Heath (Li…\n",
       "   5 │        0  Allen, Mr. William Henry"
      ]
     },
     "execution_count": 4,
     "metadata": {},
     "output_type": "execute_result"
    }
   ],
   "source": [
    "df[1:5,[:Survived,:Name]]"
   ]
  },
  {
   "cell_type": "code",
   "execution_count": 5,
   "metadata": {},
   "outputs": [
    {
     "data": {
      "text/plain": [
       "2-element Vector{String7}:\n",
       " \"female\"\n",
       " \"male\""
      ]
     },
     "execution_count": 5,
     "metadata": {},
     "output_type": "execute_result"
    }
   ],
   "source": [
    "# List of recorded sexes\n",
    "levels(df[!,:Sex])"
   ]
  },
  {
   "cell_type": "code",
   "execution_count": 6,
   "metadata": {},
   "outputs": [
    {
     "data": {
      "text/html": [
       "<table class=\"data-frame\"><thead><tr><th></th><th>PassengerId</th><th>Survived</th><th>Pclass</th><th>Name</th><th>Male</th><th>Age</th><th>SibSp</th><th>Parch</th><th>Ticket</th><th>Fare</th><th>Cabin</th><th>Embarked</th></tr><tr><th></th><th>Int64</th><th>Bool</th><th>Int64</th><th>String</th><th>Bool</th><th>Float64?</th><th>Int64</th><th>Int64</th><th>String31</th><th>Float64</th><th>String15?</th><th>Cat…?</th></tr></thead><tbody><p>5 rows × 12 columns</p><tr><th>1</th><td>1</td><td>0</td><td>3</td><td>Braund, Mr. Owen Harris</td><td>1</td><td>22.0</td><td>1</td><td>0</td><td>A/5 21171</td><td>7.25</td><td><em>missing</em></td><td>S</td></tr><tr><th>2</th><td>2</td><td>1</td><td>1</td><td>Cumings, Mrs. John Bradley (Florence Briggs Thayer)</td><td>0</td><td>38.0</td><td>1</td><td>0</td><td>PC 17599</td><td>71.2833</td><td>C85</td><td>C</td></tr><tr><th>3</th><td>3</td><td>1</td><td>3</td><td>Heikkinen, Miss. Laina</td><td>0</td><td>26.0</td><td>0</td><td>0</td><td>STON/O2. 3101282</td><td>7.925</td><td><em>missing</em></td><td>S</td></tr><tr><th>4</th><td>4</td><td>1</td><td>1</td><td>Futrelle, Mrs. Jacques Heath (Lily May Peel)</td><td>0</td><td>35.0</td><td>1</td><td>0</td><td>113803</td><td>53.1</td><td>C123</td><td>S</td></tr><tr><th>5</th><td>5</td><td>0</td><td>3</td><td>Allen, Mr. William Henry</td><td>1</td><td>35.0</td><td>0</td><td>0</td><td>373450</td><td>8.05</td><td><em>missing</em></td><td>S</td></tr></tbody></table>"
      ],
      "text/latex": [
       "\\begin{tabular}{r|cccccccccccc}\n",
       "\t& PassengerId & Survived & Pclass & Name & Male & Age & SibSp & Parch & Ticket & Fare & Cabin & Embarked\\\\\n",
       "\t\\hline\n",
       "\t& Int64 & Bool & Int64 & String & Bool & Float64? & Int64 & Int64 & String31 & Float64 & String15? & Cat…?\\\\\n",
       "\t\\hline\n",
       "\t1 & 1 & 0 & 3 & Braund, Mr. Owen Harris & 1 & 22.0 & 1 & 0 & A/5 21171 & 7.25 & \\emph{missing} & S \\\\\n",
       "\t2 & 2 & 1 & 1 & Cumings, Mrs. John Bradley (Florence Briggs Thayer) & 0 & 38.0 & 1 & 0 & PC 17599 & 71.2833 & C85 & C \\\\\n",
       "\t3 & 3 & 1 & 3 & Heikkinen, Miss. Laina & 0 & 26.0 & 0 & 0 & STON/O2. 3101282 & 7.925 & \\emph{missing} & S \\\\\n",
       "\t4 & 4 & 1 & 1 & Futrelle, Mrs. Jacques Heath (Lily May Peel) & 0 & 35.0 & 1 & 0 & 113803 & 53.1 & C123 & S \\\\\n",
       "\t5 & 5 & 0 & 3 & Allen, Mr. William Henry & 1 & 35.0 & 0 & 0 & 373450 & 8.05 & \\emph{missing} & S \\\\\n",
       "\\end{tabular}\n"
      ],
      "text/plain": [
       "\u001b[1m5×12 DataFrame\u001b[0m\n",
       "\u001b[1m Row \u001b[0m│\u001b[1m PassengerId \u001b[0m\u001b[1m Survived \u001b[0m\u001b[1m Pclass \u001b[0m\u001b[1m Name                              \u001b[0m\u001b[1m Male  \u001b[0m\u001b[1m Age      \u001b[0m\u001b[1m SibSp \u001b[0m\u001b[1m Parch \u001b[0m\u001b[1m Ticket           \u001b[0m\u001b[1m Fare    \u001b[0m\u001b[1m Cabin     \u001b[0m\u001b[1m Embarked \u001b[0m\n",
       "\u001b[1m     \u001b[0m│\u001b[90m Int64       \u001b[0m\u001b[90m Bool     \u001b[0m\u001b[90m Int64  \u001b[0m\u001b[90m String                            \u001b[0m\u001b[90m Bool  \u001b[0m\u001b[90m Float64? \u001b[0m\u001b[90m Int64 \u001b[0m\u001b[90m Int64 \u001b[0m\u001b[90m String31         \u001b[0m\u001b[90m Float64 \u001b[0m\u001b[90m String15? \u001b[0m\u001b[90m Cat…?    \u001b[0m\n",
       "─────┼─────────────────────────────────────────────────────────────────────────────────────────────────────────────────────────────────────────────────\n",
       "   1 │           1     false       3  Braund, Mr. Owen Harris             true      22.0      1      0  A/5 21171          7.25   \u001b[90m missing   \u001b[0m S\n",
       "   2 │           2      true       1  Cumings, Mrs. John Bradley (Flor…  false      38.0      1      0  PC 17599          71.2833  C85        C\n",
       "   3 │           3      true       3  Heikkinen, Miss. Laina             false      26.0      0      0  STON/O2. 3101282   7.925  \u001b[90m missing   \u001b[0m S\n",
       "   4 │           4      true       1  Futrelle, Mrs. Jacques Heath (Li…  false      35.0      1      0  113803            53.1     C123       S\n",
       "   5 │           5     false       3  Allen, Mr. William Henry            true      35.0      0      0  373450             8.05   \u001b[90m missing   \u001b[0m S"
      ]
     },
     "execution_count": 6,
     "metadata": {},
     "output_type": "execute_result"
    }
   ],
   "source": [
    "# Convert Survived column to boolean\n",
    "df[!,:Survived] = convert.(Bool,df[!,:Survived])\n",
    "\n",
    "# Convert Sex column to boolean\n",
    "if columnindex(df,:Sex) != 0\n",
    "    (df[!,:Sex] = df[!,:Sex] .== \"male\")\n",
    "    rename!(df,:Sex => :Male)\n",
    "end \n",
    "df.Embarked = categorical(df.Embarked)\n",
    "\n",
    "first(df,5)"
   ]
  },
  {
   "cell_type": "code",
   "execution_count": 7,
   "metadata": {},
   "outputs": [
    {
     "data": {
      "text/html": [
       "<table class=\"data-frame\"><thead><tr><th></th><th>PassengerId</th><th>Survived</th><th>Pclass</th><th>Name</th><th>Male</th><th>Age</th><th>SibSp</th><th>Parch</th><th>Ticket</th><th>Fare</th><th>Cabin</th><th>Embarked</th></tr><tr><th></th><th>Int64</th><th>Bool</th><th>Int64</th><th>String</th><th>Bool</th><th>Float64?</th><th>Int64</th><th>Int64</th><th>String31</th><th>Float64</th><th>String15?</th><th>Cat…?</th></tr></thead><tbody><p>5 rows × 12 columns</p><tr><th>1</th><td>1</td><td>0</td><td>3</td><td>Braund, Mr. Owen Harris</td><td>1</td><td>22.0</td><td>1</td><td>0</td><td>A/5 21171</td><td>7.25</td><td><em>missing</em></td><td>S</td></tr><tr><th>2</th><td>2</td><td>1</td><td>1</td><td>Cumings, Mrs. John Bradley (Florence Briggs Thayer)</td><td>0</td><td>38.0</td><td>1</td><td>0</td><td>PC 17599</td><td>71.2833</td><td>C85</td><td>C</td></tr><tr><th>3</th><td>3</td><td>1</td><td>3</td><td>Heikkinen, Miss. Laina</td><td>0</td><td>26.0</td><td>0</td><td>0</td><td>STON/O2. 3101282</td><td>7.925</td><td><em>missing</em></td><td>S</td></tr><tr><th>4</th><td>4</td><td>1</td><td>1</td><td>Futrelle, Mrs. Jacques Heath (Lily May Peel)</td><td>0</td><td>35.0</td><td>1</td><td>0</td><td>113803</td><td>53.1</td><td>C123</td><td>S</td></tr><tr><th>5</th><td>5</td><td>0</td><td>3</td><td>Allen, Mr. William Henry</td><td>1</td><td>35.0</td><td>0</td><td>0</td><td>373450</td><td>8.05</td><td><em>missing</em></td><td>S</td></tr></tbody></table>"
      ],
      "text/latex": [
       "\\begin{tabular}{r|cccccccccccc}\n",
       "\t& PassengerId & Survived & Pclass & Name & Male & Age & SibSp & Parch & Ticket & Fare & Cabin & Embarked\\\\\n",
       "\t\\hline\n",
       "\t& Int64 & Bool & Int64 & String & Bool & Float64? & Int64 & Int64 & String31 & Float64 & String15? & Cat…?\\\\\n",
       "\t\\hline\n",
       "\t1 & 1 & 0 & 3 & Braund, Mr. Owen Harris & 1 & 22.0 & 1 & 0 & A/5 21171 & 7.25 & \\emph{missing} & S \\\\\n",
       "\t2 & 2 & 1 & 1 & Cumings, Mrs. John Bradley (Florence Briggs Thayer) & 0 & 38.0 & 1 & 0 & PC 17599 & 71.2833 & C85 & C \\\\\n",
       "\t3 & 3 & 1 & 3 & Heikkinen, Miss. Laina & 0 & 26.0 & 0 & 0 & STON/O2. 3101282 & 7.925 & \\emph{missing} & S \\\\\n",
       "\t4 & 4 & 1 & 1 & Futrelle, Mrs. Jacques Heath (Lily May Peel) & 0 & 35.0 & 1 & 0 & 113803 & 53.1 & C123 & S \\\\\n",
       "\t5 & 5 & 0 & 3 & Allen, Mr. William Henry & 1 & 35.0 & 0 & 0 & 373450 & 8.05 & \\emph{missing} & S \\\\\n",
       "\\end{tabular}\n"
      ],
      "text/plain": [
       "\u001b[1m5×12 DataFrame\u001b[0m\n",
       "\u001b[1m Row \u001b[0m│\u001b[1m PassengerId \u001b[0m\u001b[1m Survived \u001b[0m\u001b[1m Pclass \u001b[0m\u001b[1m Name                              \u001b[0m\u001b[1m Male  \u001b[0m\u001b[1m Age      \u001b[0m\u001b[1m SibSp \u001b[0m\u001b[1m Parch \u001b[0m\u001b[1m Ticket           \u001b[0m\u001b[1m Fare    \u001b[0m\u001b[1m Cabin     \u001b[0m\u001b[1m Embarked \u001b[0m\n",
       "\u001b[1m     \u001b[0m│\u001b[90m Int64       \u001b[0m\u001b[90m Bool     \u001b[0m\u001b[90m Int64  \u001b[0m\u001b[90m String                            \u001b[0m\u001b[90m Bool  \u001b[0m\u001b[90m Float64? \u001b[0m\u001b[90m Int64 \u001b[0m\u001b[90m Int64 \u001b[0m\u001b[90m String31         \u001b[0m\u001b[90m Float64 \u001b[0m\u001b[90m String15? \u001b[0m\u001b[90m Cat…?    \u001b[0m\n",
       "─────┼─────────────────────────────────────────────────────────────────────────────────────────────────────────────────────────────────────────────────\n",
       "   1 │           1     false       3  Braund, Mr. Owen Harris             true      22.0      1      0  A/5 21171          7.25   \u001b[90m missing   \u001b[0m S\n",
       "   2 │           2      true       1  Cumings, Mrs. John Bradley (Flor…  false      38.0      1      0  PC 17599          71.2833  C85        C\n",
       "   3 │           3      true       3  Heikkinen, Miss. Laina             false      26.0      0      0  STON/O2. 3101282   7.925  \u001b[90m missing   \u001b[0m S\n",
       "   4 │           4      true       1  Futrelle, Mrs. Jacques Heath (Li…  false      35.0      1      0  113803            53.1     C123       S\n",
       "   5 │           5     false       3  Allen, Mr. William Henry            true      35.0      0      0  373450             8.05   \u001b[90m missing   \u001b[0m S"
      ]
     },
     "execution_count": 7,
     "metadata": {},
     "output_type": "execute_result"
    }
   ],
   "source": [
    "first(df,5)"
   ]
  },
  {
   "cell_type": "markdown",
   "metadata": {},
   "source": [
    "### Missing value statistics"
   ]
  },
  {
   "cell_type": "code",
   "execution_count": 8,
   "metadata": {},
   "outputs": [
    {
     "data": {
      "text/html": [
       "<table class=\"data-frame\"><thead><tr><th></th><th>Column</th><th>Total</th><th>Percent</th></tr><tr><th></th><th>String</th><th>Int64</th><th>Float64</th></tr></thead><tbody><p>12 rows × 3 columns</p><tr><th>1</th><td>Cabin</td><td>687</td><td>0.771</td></tr><tr><th>2</th><td>Age</td><td>177</td><td>0.199</td></tr><tr><th>3</th><td>Embarked</td><td>2</td><td>0.002</td></tr><tr><th>4</th><td>PassengerId</td><td>0</td><td>0.0</td></tr><tr><th>5</th><td>Survived</td><td>0</td><td>0.0</td></tr><tr><th>6</th><td>Pclass</td><td>0</td><td>0.0</td></tr><tr><th>7</th><td>Name</td><td>0</td><td>0.0</td></tr><tr><th>8</th><td>Male</td><td>0</td><td>0.0</td></tr><tr><th>9</th><td>SibSp</td><td>0</td><td>0.0</td></tr><tr><th>10</th><td>Parch</td><td>0</td><td>0.0</td></tr><tr><th>11</th><td>Ticket</td><td>0</td><td>0.0</td></tr><tr><th>12</th><td>Fare</td><td>0</td><td>0.0</td></tr></tbody></table>"
      ],
      "text/latex": [
       "\\begin{tabular}{r|ccc}\n",
       "\t& Column & Total & Percent\\\\\n",
       "\t\\hline\n",
       "\t& String & Int64 & Float64\\\\\n",
       "\t\\hline\n",
       "\t1 & Cabin & 687 & 0.771 \\\\\n",
       "\t2 & Age & 177 & 0.199 \\\\\n",
       "\t3 & Embarked & 2 & 0.002 \\\\\n",
       "\t4 & PassengerId & 0 & 0.0 \\\\\n",
       "\t5 & Survived & 0 & 0.0 \\\\\n",
       "\t6 & Pclass & 0 & 0.0 \\\\\n",
       "\t7 & Name & 0 & 0.0 \\\\\n",
       "\t8 & Male & 0 & 0.0 \\\\\n",
       "\t9 & SibSp & 0 & 0.0 \\\\\n",
       "\t10 & Parch & 0 & 0.0 \\\\\n",
       "\t11 & Ticket & 0 & 0.0 \\\\\n",
       "\t12 & Fare & 0 & 0.0 \\\\\n",
       "\\end{tabular}\n"
      ],
      "text/plain": [
       "\u001b[1m12×3 DataFrame\u001b[0m\n",
       "\u001b[1m Row \u001b[0m│\u001b[1m Column      \u001b[0m\u001b[1m Total \u001b[0m\u001b[1m Percent \u001b[0m\n",
       "\u001b[1m     \u001b[0m│\u001b[90m String      \u001b[0m\u001b[90m Int64 \u001b[0m\u001b[90m Float64 \u001b[0m\n",
       "─────┼─────────────────────────────\n",
       "   1 │ Cabin          687    0.771\n",
       "   2 │ Age            177    0.199\n",
       "   3 │ Embarked         2    0.002\n",
       "   4 │ PassengerId      0    0.0\n",
       "   5 │ Survived         0    0.0\n",
       "   6 │ Pclass           0    0.0\n",
       "   7 │ Name             0    0.0\n",
       "   8 │ Male             0    0.0\n",
       "   9 │ SibSp            0    0.0\n",
       "  10 │ Parch            0    0.0\n",
       "  11 │ Ticket           0    0.0\n",
       "  12 │ Fare             0    0.0"
      ]
     },
     "execution_count": 8,
     "metadata": {},
     "output_type": "execute_result"
    }
   ],
   "source": [
    "# Get missing stats\n",
    "function show_missing(df)\n",
    "    emptycols = count.(ismissing, eachcol(df))\n",
    "    emptyperc = round.(emptycols ./ fill(size(df)...), digits = 3)\n",
    "    sort(DataFrame(Column = names(df), Total = emptycols, Percent = emptyperc), :Total, rev = true)\n",
    "end\n",
    "show_missing(df)"
   ]
  },
  {
   "cell_type": "code",
   "execution_count": 9,
   "metadata": {},
   "outputs": [
    {
     "ename": "LoadError",
     "evalue": "UndefVarError: colwise not defined",
     "output_type": "error",
     "traceback": [
      "UndefVarError: colwise not defined",
      "",
      "Stacktrace:",
      " [1] top-level scope",
      "   @ In[9]:2",
      " [2] eval",
      "   @ ./boot.jl:373 [inlined]",
      " [3] include_string(mapexpr::typeof(REPL.softscope), mod::Module, code::String, filename::String)",
      "   @ Base ./loading.jl:1196"
     ]
    }
   ],
   "source": [
    "# TODO is it useful??\n",
    "colwise(ismissing,df)\n",
    "# count.(ismissing, eachcol(df))"
   ]
  },
  {
   "cell_type": "markdown",
   "metadata": {},
   "source": [
    "## Check cabins' information quality"
   ]
  },
  {
   "cell_type": "code",
   "execution_count": 10,
   "metadata": {
    "scrolled": true,
    "tags": []
   },
   "outputs": [
    {
     "name": "stdout",
     "output_type": "stream",
     "text": [
      "\u001b[1m204×2 DataFrame\u001b[0m\n",
      "\u001b[1m Row \u001b[0m│\u001b[1m Survived \u001b[0m\u001b[1m Cabin           \u001b[0m\n",
      "\u001b[1m     \u001b[0m│\u001b[90m Bool     \u001b[0m\u001b[90m String15        \u001b[0m\n",
      "─────┼───────────────────────────\n",
      "   1 │     true  G6\n",
      "   2 │     true  G6\n",
      "   3 │     true  F4\n",
      "   4 │     true  F4\n",
      "   5 │     true  F33\n",
      "   6 │     true  F33\n",
      "   7 │     true  F33\n",
      "   8 │     true  F2\n",
      "   9 │     true  F2\n",
      "  10 │     true  F E69\n",
      "  11 │     true  E8\n",
      "  12 │     true  E8\n",
      "  13 │     true  E68\n",
      "  14 │     true  E67\n",
      "  15 │     true  E50\n",
      "  16 │     true  E49\n",
      "  17 │     true  E44\n",
      "  18 │     true  E40\n",
      "  19 │     true  E36\n",
      "  20 │     true  E34\n",
      "  21 │     true  E33\n",
      "  22 │     true  E33\n",
      "  23 │     true  E25\n",
      "  24 │     true  E25\n",
      "  25 │     true  E24\n",
      "  26 │     true  E24\n",
      "  27 │     true  E17\n",
      "  28 │     true  E121\n",
      "  29 │     true  E121\n",
      "  30 │     true  E12\n",
      "  31 │     true  E101\n",
      "  32 │     true  E101\n",
      "  33 │     true  E101\n",
      "  34 │     true  E10\n",
      "  35 │     true  D9\n",
      "  36 │     true  D7\n",
      "  37 │     true  D56\n",
      "  38 │     true  D49\n",
      "  39 │     true  D47\n",
      "  40 │     true  D45\n",
      "  41 │     true  D37\n",
      "  42 │     true  D36\n",
      "  43 │     true  D36\n",
      "  44 │     true  D35\n",
      "  45 │     true  D35\n",
      "  46 │     true  D33\n",
      "  47 │     true  D33\n",
      "  48 │     true  D28\n",
      "  49 │     true  D21\n",
      "  50 │     true  D20\n",
      "  51 │     true  D20\n",
      "  52 │     true  D19\n",
      "  53 │     true  D17\n",
      "  54 │     true  D17\n",
      "  55 │     true  D15\n",
      "  56 │     true  D11\n",
      "  57 │     true  D10 D12\n",
      "  58 │     true  D\n",
      "  59 │     true  D\n",
      "  60 │     true  C99\n",
      "  61 │     true  C93\n",
      "  62 │     true  C93\n",
      "  63 │     true  C92\n",
      "  64 │     true  C92\n",
      "  65 │     true  C90\n",
      "  66 │     true  C85\n",
      "  67 │     true  C83\n",
      "  68 │     true  C78\n",
      "  69 │     true  C70\n",
      "  70 │     true  C7\n",
      "  71 │     true  C68\n",
      "  72 │     true  C65\n",
      "  73 │     true  C62 C64\n",
      "  74 │     true  C54\n",
      "  75 │     true  C52\n",
      "  76 │     true  C52\n",
      "  77 │     true  C50\n",
      "  78 │     true  C47\n",
      "  79 │     true  C45\n",
      "  80 │     true  C32\n",
      "  81 │     true  C23 C25 C27\n",
      "  82 │     true  C23 C25 C27\n",
      "  83 │     true  C22 C26\n",
      "  84 │     true  C2\n",
      "  85 │     true  C148\n",
      "  86 │     true  C126\n",
      "  87 │     true  C126\n",
      "  88 │     true  C125\n",
      "  89 │     true  C125\n",
      "  90 │     true  C123\n",
      "  91 │     true  C106\n",
      "  92 │     true  C104\n",
      "  93 │     true  C103\n",
      "  94 │     true  C101\n",
      "  95 │     true  B96 B98\n",
      "  96 │     true  B96 B98\n",
      "  97 │     true  B96 B98\n",
      "  98 │     true  B96 B98\n",
      "  99 │     true  B80\n",
      " 100 │     true  B79\n",
      " 101 │     true  B78\n",
      " 102 │     true  B77\n",
      " 103 │     true  B77\n",
      " 104 │     true  B73\n",
      " 105 │     true  B69\n",
      " 106 │     true  B58 B60\n",
      " 107 │     true  B57 B59 B63 B66\n",
      " 108 │     true  B57 B59 B63 B66\n",
      " 109 │     true  B51 B53 B55\n",
      " 110 │     true  B50\n",
      " 111 │     true  B5\n",
      " 112 │     true  B5\n",
      " 113 │     true  B49\n",
      " 114 │     true  B49\n",
      " 115 │     true  B42\n",
      " 116 │     true  B41\n",
      " 117 │     true  B4\n",
      " 118 │     true  B39\n",
      " 119 │     true  B35\n",
      " 120 │     true  B35\n",
      " 121 │     true  B3\n",
      " 122 │     true  B28\n",
      " 123 │     true  B28\n",
      " 124 │     true  B22\n",
      " 125 │     true  B20\n",
      " 126 │     true  B20\n",
      " 127 │     true  B18\n",
      " 128 │     true  B18\n",
      " 129 │     true  B101\n",
      " 130 │     true  A6\n",
      " 131 │     true  A34\n",
      " 132 │     true  A31\n",
      " 133 │     true  A26\n",
      " 134 │     true  A23\n",
      " 135 │     true  A20\n",
      " 136 │     true  A16\n",
      " 137 │    false  T\n",
      " 138 │    false  G6\n",
      " 139 │    false  G6\n",
      " 140 │    false  F38\n",
      " 141 │    false  F2\n",
      " 142 │    false  F G73\n",
      " 143 │    false  F G73\n",
      " 144 │    false  F G63\n",
      " 145 │    false  E77\n",
      " 146 │    false  E67\n",
      " 147 │    false  E63\n",
      " 148 │    false  E58\n",
      " 149 │    false  E46\n",
      " 150 │    false  E44\n",
      " 151 │    false  E38\n",
      " 152 │    false  E31\n",
      " 153 │    false  D6\n",
      " 154 │    false  D50\n",
      " 155 │    false  D48\n",
      " 156 │    false  D46\n",
      " 157 │    false  D30\n",
      " 158 │    false  D26\n",
      " 159 │    false  D26\n",
      " 160 │    false  D\n",
      " 161 │    false  C95\n",
      " 162 │    false  C91\n",
      " 163 │    false  C87\n",
      " 164 │    false  C86\n",
      " 165 │    false  C83\n",
      " 166 │    false  C82\n",
      " 167 │    false  C78\n",
      " 168 │    false  C68\n",
      " 169 │    false  C65\n",
      " 170 │    false  C49\n",
      " 171 │    false  C46\n",
      " 172 │    false  C30\n",
      " 173 │    false  C23 C25 C27\n",
      " 174 │    false  C23 C25 C27\n",
      " 175 │    false  C22 C26\n",
      " 176 │    false  C22 C26\n",
      " 177 │    false  C2\n",
      " 178 │    false  C128\n",
      " 179 │    false  C124\n",
      " 180 │    false  C124\n",
      " 181 │    false  C123\n",
      " 182 │    false  C118\n",
      " 183 │    false  C111\n",
      " 184 │    false  C110\n",
      " 185 │    false  B94\n",
      " 186 │    false  B86\n",
      " 187 │    false  B82 B84\n",
      " 188 │    false  B71\n",
      " 189 │    false  B58 B60\n",
      " 190 │    false  B51 B53 B55\n",
      " 191 │    false  B38\n",
      " 192 │    false  B37\n",
      " 193 │    false  B30\n",
      " 194 │    false  B22\n",
      " 195 │    false  B19\n",
      " 196 │    false  B102\n",
      " 197 │    false  A7\n",
      " 198 │    false  A5\n",
      " 199 │    false  A36\n",
      " 200 │    false  A32\n",
      " 201 │    false  A24\n",
      " 202 │    false  A19\n",
      " 203 │    false  A14\n",
      " 204 │    false  A10"
     ]
    },
    {
     "data": {
      "text/plain": [
       "204-element Vector{Char}:\n",
       " 'G': ASCII/Unicode U+0047 (category Lu: Letter, uppercase)\n",
       " 'G': ASCII/Unicode U+0047 (category Lu: Letter, uppercase)\n",
       " 'F': ASCII/Unicode U+0046 (category Lu: Letter, uppercase)\n",
       " 'F': ASCII/Unicode U+0046 (category Lu: Letter, uppercase)\n",
       " 'F': ASCII/Unicode U+0046 (category Lu: Letter, uppercase)\n",
       " 'F': ASCII/Unicode U+0046 (category Lu: Letter, uppercase)\n",
       " 'F': ASCII/Unicode U+0046 (category Lu: Letter, uppercase)\n",
       " 'F': ASCII/Unicode U+0046 (category Lu: Letter, uppercase)\n",
       " 'F': ASCII/Unicode U+0046 (category Lu: Letter, uppercase)\n",
       " 'F': ASCII/Unicode U+0046 (category Lu: Letter, uppercase)\n",
       " 'E': ASCII/Unicode U+0045 (category Lu: Letter, uppercase)\n",
       " 'E': ASCII/Unicode U+0045 (category Lu: Letter, uppercase)\n",
       " 'E': ASCII/Unicode U+0045 (category Lu: Letter, uppercase)\n",
       " ⋮\n",
       " 'B': ASCII/Unicode U+0042 (category Lu: Letter, uppercase)\n",
       " 'B': ASCII/Unicode U+0042 (category Lu: Letter, uppercase)\n",
       " 'B': ASCII/Unicode U+0042 (category Lu: Letter, uppercase)\n",
       " 'B': ASCII/Unicode U+0042 (category Lu: Letter, uppercase)\n",
       " 'A': ASCII/Unicode U+0041 (category Lu: Letter, uppercase)\n",
       " 'A': ASCII/Unicode U+0041 (category Lu: Letter, uppercase)\n",
       " 'A': ASCII/Unicode U+0041 (category Lu: Letter, uppercase)\n",
       " 'A': ASCII/Unicode U+0041 (category Lu: Letter, uppercase)\n",
       " 'A': ASCII/Unicode U+0041 (category Lu: Letter, uppercase)\n",
       " 'A': ASCII/Unicode U+0041 (category Lu: Letter, uppercase)\n",
       " 'A': ASCII/Unicode U+0041 (category Lu: Letter, uppercase)\n",
       " 'A': ASCII/Unicode U+0041 (category Lu: Letter, uppercase)"
      ]
     },
     "execution_count": 10,
     "metadata": {},
     "output_type": "execute_result"
    }
   ],
   "source": [
    "cabin = @pipe dropmissing(df[:,[:Survived,:Cabin]]) |> sort(_,rev=true)\n",
    "show(cabin, allrows=true)\n",
    "cabin.Cabin = getindex.(cabin[:,:Cabin],1)"
   ]
  },
  {
   "cell_type": "code",
   "execution_count": 11,
   "metadata": {},
   "outputs": [
    {
     "data": {
      "text/html": [
       "<table class=\"data-frame\"><thead><tr><th></th><th>Cabin</th><th>Survived</th><th>Died</th><th>nrow</th><th>Ratio</th></tr><tr><th></th><th>Char</th><th>Int64</th><th>Int64</th><th>Int64</th><th>Float64</th></tr></thead><tbody><p>8 rows × 5 columns</p><tr><th>1</th><td>D</td><td>25</td><td>8</td><td>33</td><td>3.12</td></tr><tr><th>2</th><td>E</td><td>24</td><td>8</td><td>32</td><td>3.0</td></tr><tr><th>3</th><td>B</td><td>35</td><td>12</td><td>47</td><td>2.92</td></tr><tr><th>4</th><td>F</td><td>8</td><td>5</td><td>13</td><td>1.6</td></tr><tr><th>5</th><td>C</td><td>35</td><td>24</td><td>59</td><td>1.46</td></tr><tr><th>6</th><td>G</td><td>2</td><td>2</td><td>4</td><td>1.0</td></tr><tr><th>7</th><td>A</td><td>7</td><td>8</td><td>15</td><td>0.88</td></tr><tr><th>8</th><td>T</td><td>0</td><td>1</td><td>1</td><td>0.0</td></tr></tbody></table>"
      ],
      "text/latex": [
       "\\begin{tabular}{r|ccccc}\n",
       "\t& Cabin & Survived & Died & nrow & Ratio\\\\\n",
       "\t\\hline\n",
       "\t& Char & Int64 & Int64 & Int64 & Float64\\\\\n",
       "\t\\hline\n",
       "\t1 & D & 25 & 8 & 33 & 3.12 \\\\\n",
       "\t2 & E & 24 & 8 & 32 & 3.0 \\\\\n",
       "\t3 & B & 35 & 12 & 47 & 2.92 \\\\\n",
       "\t4 & F & 8 & 5 & 13 & 1.6 \\\\\n",
       "\t5 & C & 35 & 24 & 59 & 1.46 \\\\\n",
       "\t6 & G & 2 & 2 & 4 & 1.0 \\\\\n",
       "\t7 & A & 7 & 8 & 15 & 0.88 \\\\\n",
       "\t8 & T & 0 & 1 & 1 & 0.0 \\\\\n",
       "\\end{tabular}\n"
      ],
      "text/plain": [
       "\u001b[1m8×5 DataFrame\u001b[0m\n",
       "\u001b[1m Row \u001b[0m│\u001b[1m Cabin \u001b[0m\u001b[1m Survived \u001b[0m\u001b[1m Died  \u001b[0m\u001b[1m nrow  \u001b[0m\u001b[1m Ratio   \u001b[0m\n",
       "\u001b[1m     \u001b[0m│\u001b[90m Char  \u001b[0m\u001b[90m Int64    \u001b[0m\u001b[90m Int64 \u001b[0m\u001b[90m Int64 \u001b[0m\u001b[90m Float64 \u001b[0m\n",
       "─────┼────────────────────────────────────────\n",
       "   1 │ D            25      8     33     3.12\n",
       "   2 │ E            24      8     32     3.0\n",
       "   3 │ B            35     12     47     2.92\n",
       "   4 │ F             8      5     13     1.6\n",
       "   5 │ C            35     24     59     1.46\n",
       "   6 │ G             2      2      4     1.0\n",
       "   7 │ A             7      8     15     0.88\n",
       "   8 │ T             0      1      1     0.0"
      ]
     },
     "execution_count": 11,
     "metadata": {},
     "output_type": "execute_result"
    }
   ],
   "source": [
    "@pipe groupby(cabin, :Cabin) |>\n",
    "      combine(_,\n",
    "          :Survived => sum => :Survived,\n",
    "          :Survived => (s -> count(s .== false)) => :Died,\n",
    "          nrow,\n",
    "          :Survived => (s -> round(sum(s) / count(s .== false), digits = 2)) => :Ratio\n",
    "      ) |> sort(_, :Ratio, rev = true)"
   ]
  },
  {
   "cell_type": "markdown",
   "metadata": {},
   "source": [
    "### Preping data for first exploratory model"
   ]
  },
  {
   "cell_type": "code",
   "execution_count": 12,
   "metadata": {},
   "outputs": [
    {
     "data": {
      "text/html": [
       "<p>DataFrameRow (11 columns)</p><table class=\"data-frame\"><thead><tr><th></th><th>PassengerId</th><th>Survived</th><th>Pclass</th><th>Name</th><th>Male</th><th>Age</th><th>Ticket</th><th>Fare</th><th>Cabin</th><th>Embarked</th><th>FamilySize</th></tr><tr><th></th><th>Int64</th><th>Bool</th><th>Int64</th><th>String</th><th>Bool</th><th>Float64?</th><th>String31</th><th>Float64</th><th>String15?</th><th>Cat…?</th><th>Int64</th></tr></thead><tbody><tr><th>1</th><td>1</td><td>0</td><td>3</td><td>Braund, Mr. Owen Harris</td><td>1</td><td>22.0</td><td>A/5 21171</td><td>7.25</td><td><em>missing</em></td><td>S</td><td>1</td></tr></tbody></table>"
      ],
      "text/latex": [
       "\\begin{tabular}{r|ccccccccccc}\n",
       "\t& PassengerId & Survived & Pclass & Name & Male & Age & Ticket & Fare & Cabin & Embarked & FamilySize\\\\\n",
       "\t\\hline\n",
       "\t& Int64 & Bool & Int64 & String & Bool & Float64? & String31 & Float64 & String15? & Cat…? & Int64\\\\\n",
       "\t\\hline\n",
       "\t1 & 1 & 0 & 3 & Braund, Mr. Owen Harris & 1 & 22.0 & A/5 21171 & 7.25 & \\emph{missing} & S & 1 \\\\\n",
       "\\end{tabular}\n"
      ],
      "text/plain": [
       "\u001b[1mDataFrameRow\u001b[0m\n",
       "\u001b[1m Row \u001b[0m│\u001b[1m PassengerId \u001b[0m\u001b[1m Survived \u001b[0m\u001b[1m Pclass \u001b[0m\u001b[1m Name                    \u001b[0m\u001b[1m Male \u001b[0m\u001b[1m Age      \u001b[0m\u001b[1m Ticket    \u001b[0m\u001b[1m Fare    \u001b[0m\u001b[1m Cabin     \u001b[0m\u001b[1m Embarked \u001b[0m\u001b[1m FamilySize \u001b[0m\n",
       "\u001b[1m     \u001b[0m│\u001b[90m Int64       \u001b[0m\u001b[90m Bool     \u001b[0m\u001b[90m Int64  \u001b[0m\u001b[90m String                  \u001b[0m\u001b[90m Bool \u001b[0m\u001b[90m Float64? \u001b[0m\u001b[90m String31  \u001b[0m\u001b[90m Float64 \u001b[0m\u001b[90m String15? \u001b[0m\u001b[90m Cat…?    \u001b[0m\u001b[90m Int64      \u001b[0m\n",
       "─────┼─────────────────────────────────────────────────────────────────────────────────────────────────────────────────────────────\n",
       "   1 │           1     false       3  Braund, Mr. Owen Harris  true      22.0  A/5 21171     7.25 \u001b[90m missing   \u001b[0m S                  1"
      ]
     },
     "execution_count": 12,
     "metadata": {},
     "output_type": "execute_result"
    }
   ],
   "source": [
    "df.FamilySize = df.SibSp .+ df.Parch\n",
    "family_df = df[:, Not([:SibSp,:Parch])]\n",
    "first(family_df)"
   ]
  },
  {
   "cell_type": "code",
   "execution_count": 91,
   "metadata": {},
   "outputs": [
    {
     "data": {
      "text/html": [
       "<table class=\"data-frame\"><thead><tr><th></th><th>Survived</th><th>Pclass</th><th>Male</th><th>Age</th><th>Fare</th><th>Embarked</th><th>FamilySize</th></tr><tr><th></th><th>Bool</th><th>Int64</th><th>Bool</th><th>Float64</th><th>Float64</th><th>Cat…?</th><th>Int64</th></tr></thead><tbody><p>5 rows × 7 columns</p><tr><th>1</th><td>0</td><td>3</td><td>1</td><td>22.0</td><td>7.25</td><td>S</td><td>1</td></tr><tr><th>2</th><td>1</td><td>1</td><td>0</td><td>38.0</td><td>71.2833</td><td>C</td><td>1</td></tr><tr><th>3</th><td>1</td><td>3</td><td>0</td><td>26.0</td><td>7.925</td><td>S</td><td>0</td></tr><tr><th>4</th><td>1</td><td>1</td><td>0</td><td>35.0</td><td>53.1</td><td>S</td><td>1</td></tr><tr><th>5</th><td>0</td><td>3</td><td>1</td><td>35.0</td><td>8.05</td><td>S</td><td>0</td></tr></tbody></table>"
      ],
      "text/latex": [
       "\\begin{tabular}{r|ccccccc}\n",
       "\t& Survived & Pclass & Male & Age & Fare & Embarked & FamilySize\\\\\n",
       "\t\\hline\n",
       "\t& Bool & Int64 & Bool & Float64 & Float64 & Cat…? & Int64\\\\\n",
       "\t\\hline\n",
       "\t1 & 0 & 3 & 1 & 22.0 & 7.25 & S & 1 \\\\\n",
       "\t2 & 1 & 1 & 0 & 38.0 & 71.2833 & C & 1 \\\\\n",
       "\t3 & 1 & 3 & 0 & 26.0 & 7.925 & S & 0 \\\\\n",
       "\t4 & 1 & 1 & 0 & 35.0 & 53.1 & S & 1 \\\\\n",
       "\t5 & 0 & 3 & 1 & 35.0 & 8.05 & S & 0 \\\\\n",
       "\\end{tabular}\n"
      ],
      "text/plain": [
       "\u001b[1m5×7 DataFrame\u001b[0m\n",
       "\u001b[1m Row \u001b[0m│\u001b[1m Survived \u001b[0m\u001b[1m Pclass \u001b[0m\u001b[1m Male  \u001b[0m\u001b[1m Age     \u001b[0m\u001b[1m Fare    \u001b[0m\u001b[1m Embarked \u001b[0m\u001b[1m FamilySize \u001b[0m\n",
       "\u001b[1m     \u001b[0m│\u001b[90m Bool     \u001b[0m\u001b[90m Int64  \u001b[0m\u001b[90m Bool  \u001b[0m\u001b[90m Float64 \u001b[0m\u001b[90m Float64 \u001b[0m\u001b[90m Cat…?    \u001b[0m\u001b[90m Int64      \u001b[0m\n",
       "─────┼─────────────────────────────────────────────────────────────────\n",
       "   1 │    false       3   true     22.0   7.25    S                  1\n",
       "   2 │     true       1  false     38.0  71.2833  C                  1\n",
       "   3 │     true       3  false     26.0   7.925   S                  0\n",
       "   4 │     true       1  false     35.0  53.1     S                  1\n",
       "   5 │    false       3   true     35.0   8.05    S                  0"
      ]
     },
     "execution_count": 91,
     "metadata": {},
     "output_type": "execute_result"
    }
   ],
   "source": [
    "sub_df = df[:, Not([:SibSp,:Parch,:Name,:Ticket,:Cabin,:PassengerId])]\n",
    "if columnindex(df,:Age) != 0\n",
    "    sub_df.Age = coalesce.(sub_df.Age, 99.5)\n",
    "end \n",
    "first(sub_df,5) \n"
   ]
  },
  {
   "cell_type": "code",
   "execution_count": 14,
   "metadata": {},
   "outputs": [
    {
     "data": {
      "text/html": [
       "<table class=\"data-frame\"><thead><tr><th></th><th>Column</th><th>Total</th><th>Percent</th></tr><tr><th></th><th>String</th><th>Int64</th><th>Float64</th></tr></thead><tbody><p>7 rows × 3 columns</p><tr><th>1</th><td>Survived</td><td>0</td><td>0.0</td></tr><tr><th>2</th><td>Pclass</td><td>0</td><td>0.0</td></tr><tr><th>3</th><td>Male</td><td>0</td><td>0.0</td></tr><tr><th>4</th><td>Age</td><td>0</td><td>0.0</td></tr><tr><th>5</th><td>Fare</td><td>0</td><td>0.0</td></tr><tr><th>6</th><td>Embarked</td><td>0</td><td>0.0</td></tr><tr><th>7</th><td>FamilySize</td><td>0</td><td>0.0</td></tr></tbody></table>"
      ],
      "text/latex": [
       "\\begin{tabular}{r|ccc}\n",
       "\t& Column & Total & Percent\\\\\n",
       "\t\\hline\n",
       "\t& String & Int64 & Float64\\\\\n",
       "\t\\hline\n",
       "\t1 & Survived & 0 & 0.0 \\\\\n",
       "\t2 & Pclass & 0 & 0.0 \\\\\n",
       "\t3 & Male & 0 & 0.0 \\\\\n",
       "\t4 & Age & 0 & 0.0 \\\\\n",
       "\t5 & Fare & 0 & 0.0 \\\\\n",
       "\t6 & Embarked & 0 & 0.0 \\\\\n",
       "\t7 & FamilySize & 0 & 0.0 \\\\\n",
       "\\end{tabular}\n"
      ],
      "text/plain": [
       "\u001b[1m7×3 DataFrame\u001b[0m\n",
       "\u001b[1m Row \u001b[0m│\u001b[1m Column     \u001b[0m\u001b[1m Total \u001b[0m\u001b[1m Percent \u001b[0m\n",
       "\u001b[1m     \u001b[0m│\u001b[90m String     \u001b[0m\u001b[90m Int64 \u001b[0m\u001b[90m Float64 \u001b[0m\n",
       "─────┼────────────────────────────\n",
       "   1 │ Survived        0      0.0\n",
       "   2 │ Pclass          0      0.0\n",
       "   3 │ Male            0      0.0\n",
       "   4 │ Age             0      0.0\n",
       "   5 │ Fare            0      0.0\n",
       "   6 │ Embarked        0      0.0\n",
       "   7 │ FamilySize      0      0.0"
      ]
     },
     "execution_count": 14,
     "metadata": {},
     "output_type": "execute_result"
    }
   ],
   "source": [
    "dropmissing!(sub_df)\n",
    "show_missing(sub_df)"
   ]
  },
  {
   "cell_type": "markdown",
   "metadata": {},
   "source": [
    "### Rudimental Regression"
   ]
  },
  {
   "cell_type": "code",
   "execution_count": 34,
   "metadata": {},
   "outputs": [],
   "source": [
    "using GLM\n",
    "using StatsModels"
   ]
  },
  {
   "cell_type": "code",
   "execution_count": 64,
   "metadata": {},
   "outputs": [],
   "source": [
    "using Lathe.preprocess: TrainTestSplit\n",
    "train, test = TrainTestSplit(sub_df, .75);"
   ]
  },
  {
   "cell_type": "code",
   "execution_count": 65,
   "metadata": {},
   "outputs": [
    {
     "data": {
      "text/plain": [
       "StatsModels.TableRegressionModel{GeneralizedLinearModel{GLM.GlmResp{Vector{Float64}, Binomial{Float64}, LogitLink}, GLM.DensePredChol{Float64, Cholesky{Float64, Matrix{Float64}}}}, Matrix{Float64}}\n",
       "\n",
       "Survived ~ 1 + Pclass + Male + Age + Fare + Embarked\n",
       "\n",
       "Coefficients:\n",
       "────────────────────────────────────────────────────────────────────────────────\n",
       "                    Coef.  Std. Error       z  Pr(>|z|)   Lower 95%    Upper 95%\n",
       "────────────────────────────────────────────────────────────────────────────────\n",
       "(Intercept)   4.18229      0.5308        7.88    <1e-14   3.14195     5.22264\n",
       "Pclass       -0.948593     0.147109     -6.45    <1e-09  -1.23692    -0.660264\n",
       "Male         -2.53035      0.212685    -11.90    <1e-31  -2.9472     -2.11349\n",
       "Age          -0.0109766    0.00366206   -3.00    0.0027  -0.0181541  -0.00379908\n",
       "Fare          0.000452993  0.00233208    0.19    0.8460  -0.0041178   0.00502379\n",
       "Embarked: Q   0.408517     0.429413      0.95    0.3414  -0.433117    1.25015\n",
       "Embarked: S  -0.727231     0.271504     -2.68    0.0074  -1.25937    -0.195093\n",
       "────────────────────────────────────────────────────────────────────────────────"
      ]
     },
     "execution_count": 65,
     "metadata": {},
     "output_type": "execute_result"
    }
   ],
   "source": [
    "# model = lm(@formula(Survived ~ Pclass + Male + Age + Fare + Embarked + FamilySize),sub_df)\n",
    "# fit(LinearModel, @formula(Survived ~ Pclass + Male + Age + Fare + Embarked + FamilySize),sub_df)\n",
    "logit = glm(@formula(Survived ~ Pclass + Male + Age + Fare + Embarked ), train, Binomial(), LogitLink())"
   ]
  },
  {
   "cell_type": "code",
   "execution_count": 66,
   "metadata": {},
   "outputs": [
    {
     "data": {
      "text/plain": [
       "223-element Vector{Union{Missing, Float64}}:\n",
       " 0.10346871774204507\n",
       " 0.867824072822779\n",
       " 0.09256337439464964\n",
       " 0.6066453533232123\n",
       " 0.6034495004831595\n",
       " 0.7663714744994469\n",
       " 0.04699462736878972\n",
       " 0.10451469516059732\n",
       " 0.504487937743508\n",
       " 0.40702950573168656\n",
       " 0.09286901249401301\n",
       " 0.776313758741114\n",
       " 0.10660269140124018\n",
       " ⋮\n",
       "  missing\n",
       " 0.04699462736878972\n",
       " 0.10555182386561965\n",
       " 0.10873374168832396\n",
       " 0.12446592654600636\n",
       " 0.061237155482882714\n",
       " 0.7763691531764296\n",
       " 0.047024053434343085\n",
       " 0.09949236965722393\n",
       " 0.40520135505905536\n",
       " 0.9344216592620453\n",
       " 0.09281704730030903"
      ]
     },
     "execution_count": 66,
     "metadata": {},
     "output_type": "execute_result"
    }
   ],
   "source": [
    "predict(logit,test)"
   ]
  },
  {
   "cell_type": "code",
   "execution_count": 67,
   "metadata": {},
   "outputs": [],
   "source": [
    "train, test = TrainTestSplit(sub_df, .75);\n",
    "mm = glm(@formula(Survived ~ Pclass    + Fare ), train, Binomial(), LogitLink());\n",
    "mmage = glm(@formula(Survived ~ Pclass + Age  + Fare ), train, Binomial(), LogitLink());\n",
    "\n",
    "pred = predict(model,test);"
   ]
  },
  {
   "cell_type": "code",
   "execution_count": 68,
   "metadata": {},
   "outputs": [
    {
     "data": {
      "text/html": [
       "<table class=\"data-frame\"><thead><tr><th></th><th>Survived</th><th>Pclass</th><th>Male</th><th>Age</th><th>Fare</th><th>Embarked</th><th>FamilySize</th></tr><tr><th></th><th>Bool</th><th>Int64</th><th>Bool</th><th>Float64</th><th>Float64</th><th>Cat…?</th><th>Int64</th></tr></thead><tbody><p>5 rows × 7 columns</p><tr><th>1</th><td>0</td><td>3</td><td>1</td><td>22.0</td><td>7.25</td><td>S</td><td>1</td></tr><tr><th>2</th><td>1</td><td>1</td><td>0</td><td>38.0</td><td>71.2833</td><td>C</td><td>1</td></tr><tr><th>3</th><td>1</td><td>3</td><td>0</td><td>26.0</td><td>7.925</td><td>S</td><td>0</td></tr><tr><th>4</th><td>1</td><td>1</td><td>0</td><td>35.0</td><td>53.1</td><td>S</td><td>1</td></tr><tr><th>5</th><td>0</td><td>3</td><td>1</td><td>99.5</td><td>8.4583</td><td>Q</td><td>0</td></tr></tbody></table>"
      ],
      "text/latex": [
       "\\begin{tabular}{r|ccccccc}\n",
       "\t& Survived & Pclass & Male & Age & Fare & Embarked & FamilySize\\\\\n",
       "\t\\hline\n",
       "\t& Bool & Int64 & Bool & Float64 & Float64 & Cat…? & Int64\\\\\n",
       "\t\\hline\n",
       "\t1 & 0 & 3 & 1 & 22.0 & 7.25 & S & 1 \\\\\n",
       "\t2 & 1 & 1 & 0 & 38.0 & 71.2833 & C & 1 \\\\\n",
       "\t3 & 1 & 3 & 0 & 26.0 & 7.925 & S & 0 \\\\\n",
       "\t4 & 1 & 1 & 0 & 35.0 & 53.1 & S & 1 \\\\\n",
       "\t5 & 0 & 3 & 1 & 99.5 & 8.4583 & Q & 0 \\\\\n",
       "\\end{tabular}\n"
      ],
      "text/plain": [
       "\u001b[1m5×7 DataFrame\u001b[0m\n",
       "\u001b[1m Row \u001b[0m│\u001b[1m Survived \u001b[0m\u001b[1m Pclass \u001b[0m\u001b[1m Male  \u001b[0m\u001b[1m Age     \u001b[0m\u001b[1m Fare    \u001b[0m\u001b[1m Embarked \u001b[0m\u001b[1m FamilySize \u001b[0m\n",
       "\u001b[1m     \u001b[0m│\u001b[90m Bool     \u001b[0m\u001b[90m Int64  \u001b[0m\u001b[90m Bool  \u001b[0m\u001b[90m Float64 \u001b[0m\u001b[90m Float64 \u001b[0m\u001b[90m Cat…?    \u001b[0m\u001b[90m Int64      \u001b[0m\n",
       "─────┼─────────────────────────────────────────────────────────────────\n",
       "   1 │    false       3   true     22.0   7.25    S                  1\n",
       "   2 │     true       1  false     38.0  71.2833  C                  1\n",
       "   3 │     true       3  false     26.0   7.925   S                  0\n",
       "   4 │     true       1  false     35.0  53.1     S                  1\n",
       "   5 │    false       3   true     99.5   8.4583  Q                  0"
      ]
     },
     "execution_count": 68,
     "metadata": {},
     "output_type": "execute_result"
    }
   ],
   "source": [
    "first(train,5)"
   ]
  },
  {
   "cell_type": "code",
   "execution_count": 69,
   "metadata": {},
   "outputs": [
    {
     "data": {
      "text/plain": [
       "0.6837209302325581"
      ]
     },
     "execution_count": 69,
     "metadata": {},
     "output_type": "execute_result"
    }
   ],
   "source": [
    "a = DataFrame(Ref=test[:,:Survived],Pred= round.(pred))\n",
    "all = nrow(a)\n",
    "good = count(a.Ref .== a.Pred)\n",
    "good/all"
   ]
  },
  {
   "cell_type": "markdown",
   "metadata": {},
   "source": [
    "# DEBUG"
   ]
  },
  {
   "cell_type": "code",
   "execution_count": 47,
   "metadata": {},
   "outputs": [
    {
     "data": {
      "text/plain": [
       "1Pclass(continuous)Fare(continuous)"
      ]
     },
     "execution_count": 47,
     "metadata": {},
     "output_type": "execute_result"
    }
   ],
   "source": [
    "using Tables\n",
    "using StatsModels:missing_omit,modelcols\n",
    "data = test\n",
    "f1 = mm.mf.f \n",
    "\n",
    "f1.rhs\n"
   ]
  },
  {
   "cell_type": "code",
   "execution_count": 56,
   "metadata": {},
   "outputs": [
    {
     "name": "stdout",
     "output_type": "stream",
     "text": [
      "[1.0 3.0 21.075; 1.0 2.0 30.0708; 1.0 3.0 31.275; 1.0 3.0 7.8542; 1.0 2.0 13.0; 1.0 2.0 26.0; 1.0 3.0 8.0292; 1.0 1.0 263.0; 1.0 3.0 7.8958; 1.0 3.0 7.75; 1.0 1.0 52.0; 1.0 3.0 7.2292; 1.0 3.0 8.05; 1.0 2.0 21.0; 1.0 3.0 7.75; 1.0 3.0 17.8; 1.0 2.0 26.0; 1.0 1.0 61.9792; 1.0 2.0 10.5; 1.0 2.0 27.75; 1.0 3.0 27.9; 1.0 3.0 7.925; 1.0 3.0 8.05; 1.0 2.0 29.0; 1.0 3.0 12.475; 1.0 3.0 9.0; 1.0 1.0 47.1; 1.0 2.0 10.5; 1.0 3.0 34.375; 1.0 3.0 20.575; 1.0 3.0 8.05; 1.0 1.0 34.6542; 1.0 3.0 7.925; 1.0 3.0 7.775; 1.0 3.0 14.4583; 1.0 3.0 7.75; 1.0 2.0 21.0; 1.0 3.0 31.275; 1.0 1.0 77.2875; 1.0 3.0 7.75; 1.0 3.0 7.05; 1.0 3.0 14.5; 1.0 2.0 15.0458; 1.0 3.0 9.2167; 1.0 2.0 36.75; 1.0 2.0 12.525; 1.0 3.0 8.05; 1.0 3.0 7.3125; 1.0 3.0 8.6625; 1.0 1.0 33.5; 1.0 3.0 7.8542; 1.0 2.0 13.0; 1.0 3.0 69.55; 1.0 3.0 22.025; 1.0 2.0 13.0; 1.0 1.0 146.5208; 1.0 3.0 7.75; 1.0 3.0 7.75; 1.0 3.0 7.225; 1.0 3.0 7.05; 1.0 3.0 7.25; 1.0 3.0 7.75; 1.0 1.0 76.2917; 1.0 2.0 13.0; 1.0 3.0 8.05; 1.0 1.0 90.0; 1.0 3.0 9.35; 1.0 2.0 10.5; 1.0 3.0 7.25; 1.0 2.0 10.5; 1.0 3.0 7.55; 1.0 2.0 26.0; 1.0 2.0 10.5; 1.0 1.0 90.0; 1.0 3.0 7.25; 1.0 3.0 16.1; 1.0 3.0 20.2125; 1.0 3.0 15.2458; 1.0 3.0 7.75; 1.0 1.0 79.65; 1.0 3.0 39.6875; 1.0 1.0 153.4625; 1.0 1.0 135.6333; 1.0 1.0 77.9583; 1.0 3.0 7.75; 1.0 1.0 78.85; 1.0 3.0 7.2292; 1.0 1.0 30.5; 1.0 1.0 247.5208; 1.0 3.0 7.75; 1.0 2.0 12.35; 1.0 1.0 110.8833; 1.0 1.0 108.9; 1.0 1.0 83.1583; 1.0 3.0 7.8542; 1.0 2.0 14.0; 1.0 3.0 7.25; 1.0 3.0 7.8958; 1.0 2.0 12.35; 1.0 2.0 29.0; 1.0 1.0 135.6333; 1.0 1.0 57.9792; 1.0 1.0 28.5; 1.0 1.0 153.4625; 1.0 1.0 134.5; 1.0 1.0 35.5; 1.0 2.0 26.0; 1.0 1.0 263.0; 1.0 3.0 16.1; 1.0 3.0 9.225; 1.0 3.0 7.2292; 1.0 3.0 7.8792; 1.0 3.0 7.2292; 1.0 1.0 55.4417; 1.0 3.0 8.05; 1.0 3.0 7.25; 1.0 3.0 4.0125; 1.0 3.0 7.775; 1.0 3.0 7.8958; 1.0 3.0 7.7292; 1.0 2.0 12.0; 1.0 1.0 113.275; 1.0 3.0 7.925; 1.0 3.0 7.775; 1.0 3.0 25.4667; 1.0 3.0 8.05; 1.0 3.0 24.15; 1.0 3.0 7.8958; 1.0 3.0 34.375; 1.0 2.0 13.0; 1.0 1.0 81.8583; 1.0 3.0 7.05; 1.0 2.0 0.0; 1.0 1.0 26.55; 1.0 3.0 19.2583; 1.0 2.0 21.0; 1.0 3.0 7.5208; 1.0 3.0 9.5875; 1.0 3.0 7.25; 1.0 3.0 8.05; 1.0 3.0 14.4583; 1.0 3.0 15.1; 1.0 3.0 7.75; 1.0 3.0 9.5875; 1.0 2.0 26.0; 1.0 1.0 26.55; 1.0 3.0 22.525; 1.0 2.0 10.5; 1.0 2.0 26.0; 1.0 3.0 7.225; 1.0 2.0 10.5; 1.0 2.0 26.0; 1.0 3.0 7.2292; 1.0 3.0 22.3583; 1.0 3.0 8.6625; 1.0 2.0 26.0; 1.0 2.0 36.75; 1.0 1.0 39.6; 1.0 3.0 7.8958; 1.0 2.0 13.5; 1.0 2.0 10.5; 1.0 3.0 7.75; 1.0 1.0 55.9; 1.0 2.0 30.0; 1.0 3.0 8.05; 1.0 3.0 0.0; 1.0 3.0 7.225; 1.0 1.0 42.4; 1.0 3.0 7.8958; 1.0 3.0 31.275; 1.0 3.0 15.5; 1.0 3.0 14.4; 1.0 3.0 16.1; 1.0 3.0 16.1; 1.0 3.0 7.8958; 1.0 1.0 30.0; 1.0 3.0 27.9; 1.0 2.0 13.0; 1.0 3.0 16.1; 1.0 3.0 27.9; 1.0 3.0 7.55; 1.0 2.0 23.0; 1.0 3.0 8.4333; 1.0 3.0 8.05; 1.0 1.0 52.0; 1.0 2.0 13.0; 1.0 3.0 7.775; 1.0 3.0 8.05; 1.0 3.0 7.7958; 1.0 1.0 57.0; 1.0 1.0 26.55; 1.0 3.0 7.65; 1.0 1.0 26.2875; 1.0 1.0 151.55; 1.0 1.0 26.55; 1.0 2.0 10.5; 1.0 3.0 8.6625; 1.0 3.0 7.7375; 1.0 2.0 0.0; 1.0 2.0 13.0; 1.0 3.0 16.1; 1.0 3.0 34.375; 1.0 1.0 512.3292; 1.0 3.0 7.8958; 1.0 3.0 7.925; 1.0 3.0 20.25; 1.0 2.0 13.0; 1.0 3.0 7.8958; 1.0 2.0 65.0; 1.0 3.0 7.7958; 1.0 3.0 7.125; 1.0 1.0 77.9583; 1.0 1.0 39.6; 1.0 3.0 24.15; 1.0 3.0 9.5; 1.0 3.0 7.75; 1.0 3.0 12.475; 1.0 3.0 7.25; 1.0 2.0 13.0; 1.0 3.0 8.6833; 1.0 2.0 26.25; 1.0 3.0 8.5167; 1.0 3.0 6.975; 1.0 3.0 7.775; 1.0 2.0 13.0; 1.0 1.0 53.1; 1.0 3.0 7.8875; 1.0 3.0 31.275; 1.0 3.0 8.05; 1.0 3.0 7.925; 1.0 3.0 6.45; 1.0 1.0 93.5; 1.0 3.0 12.475; 1.0 3.0 7.75; 1.0 2.0 18.75; 1.0 3.0 7.8542; 1.0 3.0 56.4958; 1.0 2.0 10.5; 1.0 1.0 31.0; 1.0 3.0 8.6625; 1.0 3.0 15.2458; 1.0 3.0 9.35; 1.0 3.0 69.55; 1.0 1.0 50.4958; 1.0 3.0 9.5; 1.0 3.0 11.1333; 1.0 3.0 7.8958; 1.0 3.0 9.0; 1.0 3.0 9.8458; 1.0 3.0 29.125; 1.0 1.0 30.0]"
     ]
    }
   ],
   "source": [
    "cols1, _ = missing_omit(columntable(data), f1.rhs)\n",
    "new_x = modelcols(f1.rhs, cols1)\n",
    "x1 = reshape(new_x, size(new_x, 1), :)\n",
    "show(x1)"
   ]
  },
  {
   "cell_type": "code",
   "execution_count": 57,
   "metadata": {},
   "outputs": [
    {
     "name": "stdout",
     "output_type": "stream",
     "text": [
      "Real[1.0 3 2.0 21.075; 1.0 2 14.0 30.0708; 1.0 3 39.0 31.275; 1.0 3 14.0 7.8542; 1.0 2 100 13.0; 1.0 2 35.0 26.0; 1.0 3 15.0 8.0292; 1.0 1 19.0 263.0; 1.0 3 100 7.8958; 1.0 3 100 7.75; 1.0 1 42.0 52.0; 1.0 3 100 7.2292; 1.0 3 21.0 8.05; 1.0 2 27.0 21.0; 1.0 3 100 7.75; 1.0 3 18.0 17.8; 1.0 2 29.0 26.0; 1.0 1 65.0 61.9792; 1.0 2 21.0 10.5; 1.0 2 5.0 27.75; 1.0 3 4.0 27.9; 1.0 3 17.0 7.925; 1.0 3 100 8.05; 1.0 2 0.83 29.0; 1.0 3 30.0 12.475; 1.0 3 22.0 9.0; 1.0 1 28.0 47.1; 1.0 2 17.0 10.5; 1.0 3 16.0 34.375; 1.0 3 26.0 20.575; 1.0 3 100 8.05; 1.0 1 71.0 34.6542; 1.0 3 37.0 7.925; 1.0 3 100 7.775; 1.0 3 17.0 14.4583; 1.0 3 70.5 7.75; 1.0 2 29.0 21.0; 1.0 3 2.0 31.275; 1.0 1 54.0 77.2875; 1.0 3 100 7.75; 1.0 3 20.0 7.05; 1.0 3 47.0 14.5; 1.0 2 23.0 15.0458; 1.0 3 16.0 9.2167; 1.0 2 19.0 36.75; 1.0 2 51.0 12.525; 1.0 3 55.5 8.05; 1.0 3 100 7.3125; 1.0 3 100 8.6625; 1.0 1 61.0 33.5; 1.0 3 18.0 7.8542; 1.0 2 30.0 13.0; 1.0 3 100 69.55; 1.0 3 4.0 22.025; 1.0 2 19.0 13.0; 1.0 1 58.0 146.5208; 1.0 3 100 7.75; 1.0 3 100 7.75; 1.0 3 45.5 7.225; 1.0 3 24.0 7.05; 1.0 3 22.0 7.25; 1.0 3 100 7.75; 1.0 1 32.0 76.2917; 1.0 2 27.0 13.0; 1.0 3 51.0 8.05; 1.0 1 38.0 90.0; 1.0 3 22.0 9.35; 1.0 2 19.0 10.5; 1.0 3 20.5 7.25; 1.0 2 24.0 10.5; 1.0 3 100 7.55; 1.0 2 44.0 26.0; 1.0 2 29.0 10.5; 1.0 1 44.0 90.0; 1.0 3 100 7.25; 1.0 3 30.0 16.1; 1.0 3 41.0 20.2125; 1.0 3 29.0 15.2458; 1.0 3 100 7.75; 1.0 1 52.0 79.65; 1.0 3 16.0 39.6875; 1.0 1 58.0 153.4625; 1.0 1 35.0 135.6333; 1.0 1 63.0 77.9583; 1.0 3 65.0 7.75; 1.0 1 26.0 78.85; 1.0 3 23.5 7.2292; 1.0 1 100 30.5; 1.0 1 50.0 247.5208; 1.0 3 100 7.75; 1.0 2 100 12.35; 1.0 1 100 110.8833; 1.0 1 17.0 108.9; 1.0 1 24.0 83.1583; 1.0 3 26.0 7.8542; 1.0 2 54.0 14.0; 1.0 3 22.0 7.25; 1.0 3 27.0 7.8958; 1.0 2 30.0 12.35; 1.0 2 22.0 29.0; 1.0 1 36.0 135.6333; 1.0 1 16.0 57.9792; 1.0 1 45.5 28.5; 1.0 1 38.0 153.4625; 1.0 1 41.0 134.5; 1.0 1 45.0 35.5; 1.0 2 2.0 26.0; 1.0 1 24.0 263.0; 1.0 3 100 16.1; 1.0 3 23.0 9.225; 1.0 3 15.0 7.2292; 1.0 3 100 7.8792; 1.0 3 100 7.2292; 1.0 1 25.0 55.4417; 1.0 3 19.0 8.05; 1.0 3 22.0 7.25; 1.0 3 20.0 4.0125; 1.0 3 19.0 7.775; 1.0 3 100 7.8958; 1.0 3 100 7.7292; 1.0 2 17.0 12.0; 1.0 1 23.0 113.275; 1.0 3 39.0 7.925; 1.0 3 21.0 7.775; 1.0 3 100 25.4667; 1.0 3 100 8.05; 1.0 3 10.0 24.15; 1.0 3 100 7.8958; 1.0 3 21.0 34.375; 1.0 2 28.0 13.0; 1.0 1 4.0 81.8583; 1.0 3 38.0 7.05; 1.0 2 100 0.0; 1.0 1 56.0 26.55; 1.0 3 0.75 19.2583; 1.0 2 34.0 21.0; 1.0 3 22.0 7.5208; 1.0 3 63.0 9.5875; 1.0 3 21.0 7.25; 1.0 3 21.0 8.05; 1.0 3 100 14.4583; 1.0 3 100 15.1; 1.0 3 21.0 7.75; 1.0 3 37.0 9.5875; 1.0 2 33.0 26.0; 1.0 1 100 26.55; 1.0 3 28.0 22.525; 1.0 2 34.0 10.5; 1.0 2 36.0 26.0; 1.0 3 100 7.225; 1.0 2 50.0 10.5; 1.0 2 2.0 26.0; 1.0 3 100 7.2292; 1.0 3 100 22.3583; 1.0 3 30.0 8.6625; 1.0 2 19.0 26.0; 1.0 2 8.0 36.75; 1.0 1 48.0 39.6; 1.0 3 40.0 7.8958; 1.0 2 28.0 13.5; 1.0 2 62.0 10.5; 1.0 3 100 7.75; 1.0 1 39.0 55.9; 1.0 2 25.0 30.0; 1.0 3 100 8.05; 1.0 3 49.0 0.0; 1.0 3 100 7.225; 1.0 1 100 42.4; 1.0 3 30.0 7.8958; 1.0 3 39.0 31.275; 1.0 3 100 15.5; 1.0 3 34.0 14.4; 1.0 3 26.0 16.1; 1.0 3 21.0 16.1; 1.0 3 26.0 7.8958; 1.0 1 80.0 30.0; 1.0 3 9.0 27.9; 1.0 2 28.0 13.0; 1.0 3 100 16.1; 1.0 3 2.0 27.9; 1.0 3 100 7.55; 1.0 2 18.0 23.0; 1.0 3 21.0 8.4333; 1.0 3 43.0 8.05; 1.0 1 100 52.0; 1.0 2 31.0 13.0; 1.0 3 18.0 7.775; 1.0 3 24.5 8.05; 1.0 3 18.0 7.7958; 1.0 1 31.0 57.0; 1.0 1 60.0 26.55; 1.0 3 42.0 7.65; 1.0 1 35.0 26.2875; 1.0 1 22.0 151.55; 1.0 1 100 26.55; 1.0 2 27.0 10.5; 1.0 3 20.0 8.6625; 1.0 3 100 7.7375; 1.0 2 100 0.0; 1.0 2 23.0 13.0; 1.0 3 28.5 16.1; 1.0 3 48.0 34.375; 1.0 1 35.0 512.3292; 1.0 3 100 7.8958; 1.0 3 31.0 7.925; 1.0 3 16.0 20.25; 1.0 2 30.0 13.0; 1.0 3 23.0 7.8958; 1.0 2 48.0 65.0; 1.0 3 28.0 7.7958; 1.0 3 41.0 7.125; 1.0 1 51.0 77.9583; 1.0 1 100 39.6; 1.0 3 100 24.15; 1.0 3 24.0 9.5; 1.0 3 100 7.75; 1.0 3 5.0 12.475; 1.0 3 25.0 7.25; 1.0 2 39.0 13.0; 1.0 3 31.0 8.6833; 1.0 2 31.0 26.25; 1.0 3 0.42 8.5167; 1.0 3 27.0 6.975; 1.0 3 31.0 7.775; 1.0 2 39.0 13.0; 1.0 1 33.0 53.1; 1.0 3 26.0 7.8875; 1.0 3 6.0 31.275; 1.0 3 30.5 8.05; 1.0 3 23.0 7.925; 1.0 3 43.0 6.45; 1.0 1 52.0 93.5; 1.0 3 27.0 12.475; 1.0 3 100 7.75; 1.0 2 0.83 18.75; 1.0 3 23.0 7.8542; 1.0 3 32.0 56.4958; 1.0 2 16.0 10.5; 1.0 1 30.0 31.0; 1.0 3 17.0 8.6625; 1.0 3 9.0 15.2458; 1.0 3 18.0 9.35; 1.0 3 100 69.55; 1.0 1 31.0 50.4958; 1.0 3 100 9.5; 1.0 3 4.0 11.1333; 1.0 3 26.0 7.8958; 1.0 3 47.0 9.0; 1.0 3 20.0 9.8458; 1.0 3 39.0 29.125; 1.0 1 26.0 30.0]"
     ]
    }
   ],
   "source": [
    "f2 = mmage.mf.f \n",
    "cols2, _ = StatsModels.missing_omit(columntable(data), f2.rhs)\n",
    "new_x = modelcols(f2.rhs, cols2)\n",
    "x2 = reshape(new_x, size(new_x, 1), :)\n",
    "show(x2)"
   ]
  },
  {
   "cell_type": "code",
   "execution_count": 81,
   "metadata": {},
   "outputs": [
    {
     "data": {
      "text/plain": [
       "Vector{Real} (alias for Array{Real, 1})"
      ]
     },
     "execution_count": 81,
     "metadata": {},
     "output_type": "execute_result"
    }
   ],
   "source": [
    "typeof(sub_df.Age)"
   ]
  },
  {
   "cell_type": "code",
   "execution_count": 82,
   "metadata": {},
   "outputs": [
    {
     "ename": "LoadError",
     "evalue": "TypeError: in typeassert, expected Vector{Float64}, got a value of type Vector{Real}",
     "output_type": "error",
     "traceback": [
      "TypeError: in typeassert, expected Vector{Float64}, got a value of type Vector{Real}",
      "",
      "Stacktrace:",
      " [1] top-level scope",
      "   @ In[82]:1",
      " [2] eval",
      "   @ ./boot.jl:373 [inlined]",
      " [3] include_string(mapexpr::typeof(REPL.softscope), mod::Module, code::String, filename::String)",
      "   @ Base ./loading.jl:1196"
     ]
    }
   ],
   "source": [
    "sub_df.Age::Vector{Float64} = coalesce.(sub_df.Age, 100)\n"
   ]
  },
  {
   "cell_type": "code",
   "execution_count": null,
   "metadata": {},
   "outputs": [],
   "source": []
  }
 ],
 "metadata": {
  "kernelspec": {
   "display_name": "Julia 1.7.1",
   "language": "julia",
   "name": "julia-1.7"
  },
  "language_info": {
   "file_extension": ".jl",
   "mimetype": "application/julia",
   "name": "julia",
   "version": "1.7.1"
  }
 },
 "nbformat": 4,
 "nbformat_minor": 4
}
