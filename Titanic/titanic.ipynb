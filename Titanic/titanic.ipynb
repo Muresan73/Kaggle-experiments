{
 "cells": [
  {
   "cell_type": "code",
   "execution_count": 1,
   "metadata": {},
   "outputs": [],
   "source": [
    "using DataFrames\n",
    "using CSV\n",
    "ENV[\"COLUMNS\"] = 1000\n",
    "using CategoricalArrays\n",
    "\n",
    "\n",
    "using Pipe: @pipe\n",
    "using Setfield"
   ]
  },
  {
   "cell_type": "markdown",
   "metadata": {},
   "source": [
    "## Initial steps"
   ]
  },
  {
   "cell_type": "code",
   "execution_count": 2,
   "metadata": {},
   "outputs": [
    {
     "data": {
      "text/html": [
       "<table class=\"data-frame\"><thead><tr><th></th><th>PassengerId</th><th>Survived</th><th>Pclass</th><th>Name</th><th>Sex</th><th>Age</th><th>SibSp</th><th>Parch</th><th>Ticket</th><th>Fare</th><th>Cabin</th><th>Embarked</th></tr><tr><th></th><th>Int64</th><th>Int64</th><th>Int64</th><th>String</th><th>String7</th><th>Float64?</th><th>Int64</th><th>Int64</th><th>String31</th><th>Float64</th><th>String15?</th><th>String1?</th></tr></thead><tbody><p>891 rows × 12 columns</p><tr><th>1</th><td>1</td><td>0</td><td>3</td><td>Braund, Mr. Owen Harris</td><td>male</td><td>22.0</td><td>1</td><td>0</td><td>A/5 21171</td><td>7.25</td><td><em>missing</em></td><td>S</td></tr><tr><th>2</th><td>2</td><td>1</td><td>1</td><td>Cumings, Mrs. John Bradley (Florence Briggs Thayer)</td><td>female</td><td>38.0</td><td>1</td><td>0</td><td>PC 17599</td><td>71.2833</td><td>C85</td><td>C</td></tr><tr><th>3</th><td>3</td><td>1</td><td>3</td><td>Heikkinen, Miss. Laina</td><td>female</td><td>26.0</td><td>0</td><td>0</td><td>STON/O2. 3101282</td><td>7.925</td><td><em>missing</em></td><td>S</td></tr><tr><th>4</th><td>4</td><td>1</td><td>1</td><td>Futrelle, Mrs. Jacques Heath (Lily May Peel)</td><td>female</td><td>35.0</td><td>1</td><td>0</td><td>113803</td><td>53.1</td><td>C123</td><td>S</td></tr><tr><th>5</th><td>5</td><td>0</td><td>3</td><td>Allen, Mr. William Henry</td><td>male</td><td>35.0</td><td>0</td><td>0</td><td>373450</td><td>8.05</td><td><em>missing</em></td><td>S</td></tr><tr><th>6</th><td>6</td><td>0</td><td>3</td><td>Moran, Mr. James</td><td>male</td><td><em>missing</em></td><td>0</td><td>0</td><td>330877</td><td>8.4583</td><td><em>missing</em></td><td>Q</td></tr><tr><th>7</th><td>7</td><td>0</td><td>1</td><td>McCarthy, Mr. Timothy J</td><td>male</td><td>54.0</td><td>0</td><td>0</td><td>17463</td><td>51.8625</td><td>E46</td><td>S</td></tr><tr><th>8</th><td>8</td><td>0</td><td>3</td><td>Palsson, Master. Gosta Leonard</td><td>male</td><td>2.0</td><td>3</td><td>1</td><td>349909</td><td>21.075</td><td><em>missing</em></td><td>S</td></tr><tr><th>9</th><td>9</td><td>1</td><td>3</td><td>Johnson, Mrs. Oscar W (Elisabeth Vilhelmina Berg)</td><td>female</td><td>27.0</td><td>0</td><td>2</td><td>347742</td><td>11.1333</td><td><em>missing</em></td><td>S</td></tr><tr><th>10</th><td>10</td><td>1</td><td>2</td><td>Nasser, Mrs. Nicholas (Adele Achem)</td><td>female</td><td>14.0</td><td>1</td><td>0</td><td>237736</td><td>30.0708</td><td><em>missing</em></td><td>C</td></tr><tr><th>11</th><td>11</td><td>1</td><td>3</td><td>Sandstrom, Miss. Marguerite Rut</td><td>female</td><td>4.0</td><td>1</td><td>1</td><td>PP 9549</td><td>16.7</td><td>G6</td><td>S</td></tr><tr><th>12</th><td>12</td><td>1</td><td>1</td><td>Bonnell, Miss. Elizabeth</td><td>female</td><td>58.0</td><td>0</td><td>0</td><td>113783</td><td>26.55</td><td>C103</td><td>S</td></tr><tr><th>13</th><td>13</td><td>0</td><td>3</td><td>Saundercock, Mr. William Henry</td><td>male</td><td>20.0</td><td>0</td><td>0</td><td>A/5. 2151</td><td>8.05</td><td><em>missing</em></td><td>S</td></tr><tr><th>14</th><td>14</td><td>0</td><td>3</td><td>Andersson, Mr. Anders Johan</td><td>male</td><td>39.0</td><td>1</td><td>5</td><td>347082</td><td>31.275</td><td><em>missing</em></td><td>S</td></tr><tr><th>15</th><td>15</td><td>0</td><td>3</td><td>Vestrom, Miss. Hulda Amanda Adolfina</td><td>female</td><td>14.0</td><td>0</td><td>0</td><td>350406</td><td>7.8542</td><td><em>missing</em></td><td>S</td></tr><tr><th>16</th><td>16</td><td>1</td><td>2</td><td>Hewlett, Mrs. (Mary D Kingcome) </td><td>female</td><td>55.0</td><td>0</td><td>0</td><td>248706</td><td>16.0</td><td><em>missing</em></td><td>S</td></tr><tr><th>17</th><td>17</td><td>0</td><td>3</td><td>Rice, Master. Eugene</td><td>male</td><td>2.0</td><td>4</td><td>1</td><td>382652</td><td>29.125</td><td><em>missing</em></td><td>Q</td></tr><tr><th>18</th><td>18</td><td>1</td><td>2</td><td>Williams, Mr. Charles Eugene</td><td>male</td><td><em>missing</em></td><td>0</td><td>0</td><td>244373</td><td>13.0</td><td><em>missing</em></td><td>S</td></tr><tr><th>19</th><td>19</td><td>0</td><td>3</td><td>Vander Planke, Mrs. Julius (Emelia Maria Vandemoortele)</td><td>female</td><td>31.0</td><td>1</td><td>0</td><td>345763</td><td>18.0</td><td><em>missing</em></td><td>S</td></tr><tr><th>20</th><td>20</td><td>1</td><td>3</td><td>Masselmani, Mrs. Fatima</td><td>female</td><td><em>missing</em></td><td>0</td><td>0</td><td>2649</td><td>7.225</td><td><em>missing</em></td><td>C</td></tr><tr><th>21</th><td>21</td><td>0</td><td>2</td><td>Fynney, Mr. Joseph J</td><td>male</td><td>35.0</td><td>0</td><td>0</td><td>239865</td><td>26.0</td><td><em>missing</em></td><td>S</td></tr><tr><th>22</th><td>22</td><td>1</td><td>2</td><td>Beesley, Mr. Lawrence</td><td>male</td><td>34.0</td><td>0</td><td>0</td><td>248698</td><td>13.0</td><td>D56</td><td>S</td></tr><tr><th>23</th><td>23</td><td>1</td><td>3</td><td>McGowan, Miss. Anna \"Annie\"</td><td>female</td><td>15.0</td><td>0</td><td>0</td><td>330923</td><td>8.0292</td><td><em>missing</em></td><td>Q</td></tr><tr><th>24</th><td>24</td><td>1</td><td>1</td><td>Sloper, Mr. William Thompson</td><td>male</td><td>28.0</td><td>0</td><td>0</td><td>113788</td><td>35.5</td><td>A6</td><td>S</td></tr><tr><th>25</th><td>25</td><td>0</td><td>3</td><td>Palsson, Miss. Torborg Danira</td><td>female</td><td>8.0</td><td>3</td><td>1</td><td>349909</td><td>21.075</td><td><em>missing</em></td><td>S</td></tr><tr><th>26</th><td>26</td><td>1</td><td>3</td><td>Asplund, Mrs. Carl Oscar (Selma Augusta Emilia Johansson)</td><td>female</td><td>38.0</td><td>1</td><td>5</td><td>347077</td><td>31.3875</td><td><em>missing</em></td><td>S</td></tr><tr><th>27</th><td>27</td><td>0</td><td>3</td><td>Emir, Mr. Farred Chehab</td><td>male</td><td><em>missing</em></td><td>0</td><td>0</td><td>2631</td><td>7.225</td><td><em>missing</em></td><td>C</td></tr><tr><th>28</th><td>28</td><td>0</td><td>1</td><td>Fortune, Mr. Charles Alexander</td><td>male</td><td>19.0</td><td>3</td><td>2</td><td>19950</td><td>263.0</td><td>C23 C25 C27</td><td>S</td></tr><tr><th>29</th><td>29</td><td>1</td><td>3</td><td>O'Dwyer, Miss. Ellen \"Nellie\"</td><td>female</td><td><em>missing</em></td><td>0</td><td>0</td><td>330959</td><td>7.8792</td><td><em>missing</em></td><td>Q</td></tr><tr><th>30</th><td>30</td><td>0</td><td>3</td><td>Todoroff, Mr. Lalio</td><td>male</td><td><em>missing</em></td><td>0</td><td>0</td><td>349216</td><td>7.8958</td><td><em>missing</em></td><td>S</td></tr><tr><th>&vellip;</th><td>&vellip;</td><td>&vellip;</td><td>&vellip;</td><td>&vellip;</td><td>&vellip;</td><td>&vellip;</td><td>&vellip;</td><td>&vellip;</td><td>&vellip;</td><td>&vellip;</td><td>&vellip;</td><td>&vellip;</td></tr></tbody></table>"
      ],
      "text/latex": [
       "\\begin{tabular}{r|cccccccccccc}\n",
       "\t& PassengerId & Survived & Pclass & Name & Sex & Age & SibSp & Parch & Ticket & Fare & Cabin & Embarked\\\\\n",
       "\t\\hline\n",
       "\t& Int64 & Int64 & Int64 & String & String7 & Float64? & Int64 & Int64 & String31 & Float64 & String15? & String1?\\\\\n",
       "\t\\hline\n",
       "\t1 & 1 & 0 & 3 & Braund, Mr. Owen Harris & male & 22.0 & 1 & 0 & A/5 21171 & 7.25 & \\emph{missing} & S \\\\\n",
       "\t2 & 2 & 1 & 1 & Cumings, Mrs. John Bradley (Florence Briggs Thayer) & female & 38.0 & 1 & 0 & PC 17599 & 71.2833 & C85 & C \\\\\n",
       "\t3 & 3 & 1 & 3 & Heikkinen, Miss. Laina & female & 26.0 & 0 & 0 & STON/O2. 3101282 & 7.925 & \\emph{missing} & S \\\\\n",
       "\t4 & 4 & 1 & 1 & Futrelle, Mrs. Jacques Heath (Lily May Peel) & female & 35.0 & 1 & 0 & 113803 & 53.1 & C123 & S \\\\\n",
       "\t5 & 5 & 0 & 3 & Allen, Mr. William Henry & male & 35.0 & 0 & 0 & 373450 & 8.05 & \\emph{missing} & S \\\\\n",
       "\t6 & 6 & 0 & 3 & Moran, Mr. James & male & \\emph{missing} & 0 & 0 & 330877 & 8.4583 & \\emph{missing} & Q \\\\\n",
       "\t7 & 7 & 0 & 1 & McCarthy, Mr. Timothy J & male & 54.0 & 0 & 0 & 17463 & 51.8625 & E46 & S \\\\\n",
       "\t8 & 8 & 0 & 3 & Palsson, Master. Gosta Leonard & male & 2.0 & 3 & 1 & 349909 & 21.075 & \\emph{missing} & S \\\\\n",
       "\t9 & 9 & 1 & 3 & Johnson, Mrs. Oscar W (Elisabeth Vilhelmina Berg) & female & 27.0 & 0 & 2 & 347742 & 11.1333 & \\emph{missing} & S \\\\\n",
       "\t10 & 10 & 1 & 2 & Nasser, Mrs. Nicholas (Adele Achem) & female & 14.0 & 1 & 0 & 237736 & 30.0708 & \\emph{missing} & C \\\\\n",
       "\t11 & 11 & 1 & 3 & Sandstrom, Miss. Marguerite Rut & female & 4.0 & 1 & 1 & PP 9549 & 16.7 & G6 & S \\\\\n",
       "\t12 & 12 & 1 & 1 & Bonnell, Miss. Elizabeth & female & 58.0 & 0 & 0 & 113783 & 26.55 & C103 & S \\\\\n",
       "\t13 & 13 & 0 & 3 & Saundercock, Mr. William Henry & male & 20.0 & 0 & 0 & A/5. 2151 & 8.05 & \\emph{missing} & S \\\\\n",
       "\t14 & 14 & 0 & 3 & Andersson, Mr. Anders Johan & male & 39.0 & 1 & 5 & 347082 & 31.275 & \\emph{missing} & S \\\\\n",
       "\t15 & 15 & 0 & 3 & Vestrom, Miss. Hulda Amanda Adolfina & female & 14.0 & 0 & 0 & 350406 & 7.8542 & \\emph{missing} & S \\\\\n",
       "\t16 & 16 & 1 & 2 & Hewlett, Mrs. (Mary D Kingcome)  & female & 55.0 & 0 & 0 & 248706 & 16.0 & \\emph{missing} & S \\\\\n",
       "\t17 & 17 & 0 & 3 & Rice, Master. Eugene & male & 2.0 & 4 & 1 & 382652 & 29.125 & \\emph{missing} & Q \\\\\n",
       "\t18 & 18 & 1 & 2 & Williams, Mr. Charles Eugene & male & \\emph{missing} & 0 & 0 & 244373 & 13.0 & \\emph{missing} & S \\\\\n",
       "\t19 & 19 & 0 & 3 & Vander Planke, Mrs. Julius (Emelia Maria Vandemoortele) & female & 31.0 & 1 & 0 & 345763 & 18.0 & \\emph{missing} & S \\\\\n",
       "\t20 & 20 & 1 & 3 & Masselmani, Mrs. Fatima & female & \\emph{missing} & 0 & 0 & 2649 & 7.225 & \\emph{missing} & C \\\\\n",
       "\t21 & 21 & 0 & 2 & Fynney, Mr. Joseph J & male & 35.0 & 0 & 0 & 239865 & 26.0 & \\emph{missing} & S \\\\\n",
       "\t22 & 22 & 1 & 2 & Beesley, Mr. Lawrence & male & 34.0 & 0 & 0 & 248698 & 13.0 & D56 & S \\\\\n",
       "\t23 & 23 & 1 & 3 & McGowan, Miss. Anna \"Annie\" & female & 15.0 & 0 & 0 & 330923 & 8.0292 & \\emph{missing} & Q \\\\\n",
       "\t24 & 24 & 1 & 1 & Sloper, Mr. William Thompson & male & 28.0 & 0 & 0 & 113788 & 35.5 & A6 & S \\\\\n",
       "\t25 & 25 & 0 & 3 & Palsson, Miss. Torborg Danira & female & 8.0 & 3 & 1 & 349909 & 21.075 & \\emph{missing} & S \\\\\n",
       "\t26 & 26 & 1 & 3 & Asplund, Mrs. Carl Oscar (Selma Augusta Emilia Johansson) & female & 38.0 & 1 & 5 & 347077 & 31.3875 & \\emph{missing} & S \\\\\n",
       "\t27 & 27 & 0 & 3 & Emir, Mr. Farred Chehab & male & \\emph{missing} & 0 & 0 & 2631 & 7.225 & \\emph{missing} & C \\\\\n",
       "\t28 & 28 & 0 & 1 & Fortune, Mr. Charles Alexander & male & 19.0 & 3 & 2 & 19950 & 263.0 & C23 C25 C27 & S \\\\\n",
       "\t29 & 29 & 1 & 3 & O'Dwyer, Miss. Ellen \"Nellie\" & female & \\emph{missing} & 0 & 0 & 330959 & 7.8792 & \\emph{missing} & Q \\\\\n",
       "\t30 & 30 & 0 & 3 & Todoroff, Mr. Lalio & male & \\emph{missing} & 0 & 0 & 349216 & 7.8958 & \\emph{missing} & S \\\\\n",
       "\t$\\dots$ & $\\dots$ & $\\dots$ & $\\dots$ & $\\dots$ & $\\dots$ & $\\dots$ & $\\dots$ & $\\dots$ & $\\dots$ & $\\dots$ & $\\dots$ & $\\dots$ \\\\\n",
       "\\end{tabular}\n"
      ],
      "text/plain": [
       "\u001b[1m891×12 DataFrame\u001b[0m\n",
       "\u001b[1m Row \u001b[0m│\u001b[1m PassengerId \u001b[0m\u001b[1m Survived \u001b[0m\u001b[1m Pclass \u001b[0m\u001b[1m Name                              \u001b[0m\u001b[1m Sex     \u001b[0m\u001b[1m Age       \u001b[0m\u001b[1m SibSp \u001b[0m\u001b[1m Parch \u001b[0m\u001b[1m Ticket           \u001b[0m\u001b[1m Fare    \u001b[0m\u001b[1m Cabin     \u001b[0m\u001b[1m Embarked \u001b[0m\n",
       "\u001b[1m     \u001b[0m│\u001b[90m Int64       \u001b[0m\u001b[90m Int64    \u001b[0m\u001b[90m Int64  \u001b[0m\u001b[90m String                            \u001b[0m\u001b[90m String7 \u001b[0m\u001b[90m Float64?  \u001b[0m\u001b[90m Int64 \u001b[0m\u001b[90m Int64 \u001b[0m\u001b[90m String31         \u001b[0m\u001b[90m Float64 \u001b[0m\u001b[90m String15? \u001b[0m\u001b[90m String1? \u001b[0m\n",
       "─────┼────────────────────────────────────────────────────────────────────────────────────────────────────────────────────────────────────────────────────\n",
       "   1 │           1         0       3  Braund, Mr. Owen Harris            male          22.0      1      0  A/5 21171          7.25   \u001b[90m missing   \u001b[0m S\n",
       "   2 │           2         1       1  Cumings, Mrs. John Bradley (Flor…  female        38.0      1      0  PC 17599          71.2833  C85        C\n",
       "   3 │           3         1       3  Heikkinen, Miss. Laina             female        26.0      0      0  STON/O2. 3101282   7.925  \u001b[90m missing   \u001b[0m S\n",
       "   4 │           4         1       1  Futrelle, Mrs. Jacques Heath (Li…  female        35.0      1      0  113803            53.1     C123       S\n",
       "   5 │           5         0       3  Allen, Mr. William Henry           male          35.0      0      0  373450             8.05   \u001b[90m missing   \u001b[0m S\n",
       "   6 │           6         0       3  Moran, Mr. James                   male    \u001b[90m missing   \u001b[0m     0      0  330877             8.4583 \u001b[90m missing   \u001b[0m Q\n",
       "   7 │           7         0       1  McCarthy, Mr. Timothy J            male          54.0      0      0  17463             51.8625  E46        S\n",
       "   8 │           8         0       3  Palsson, Master. Gosta Leonard     male           2.0      3      1  349909            21.075  \u001b[90m missing   \u001b[0m S\n",
       "   9 │           9         1       3  Johnson, Mrs. Oscar W (Elisabeth…  female        27.0      0      2  347742            11.1333 \u001b[90m missing   \u001b[0m S\n",
       "  10 │          10         1       2  Nasser, Mrs. Nicholas (Adele Ach…  female        14.0      1      0  237736            30.0708 \u001b[90m missing   \u001b[0m C\n",
       "  11 │          11         1       3  Sandstrom, Miss. Marguerite Rut    female         4.0      1      1  PP 9549           16.7     G6         S\n",
       "  ⋮  │      ⋮          ⋮        ⋮                     ⋮                     ⋮         ⋮        ⋮      ⋮           ⋮             ⋮         ⋮         ⋮\n",
       " 882 │         882         0       3  Markun, Mr. Johann                 male          33.0      0      0  349257             7.8958 \u001b[90m missing   \u001b[0m S\n",
       " 883 │         883         0       3  Dahlberg, Miss. Gerda Ulrika       female        22.0      0      0  7552              10.5167 \u001b[90m missing   \u001b[0m S\n",
       " 884 │         884         0       2  Banfield, Mr. Frederick James      male          28.0      0      0  C.A./SOTON 34068  10.5    \u001b[90m missing   \u001b[0m S\n",
       " 885 │         885         0       3  Sutehall, Mr. Henry Jr             male          25.0      0      0  SOTON/OQ 392076    7.05   \u001b[90m missing   \u001b[0m S\n",
       " 886 │         886         0       3  Rice, Mrs. William (Margaret Nor…  female        39.0      0      5  382652            29.125  \u001b[90m missing   \u001b[0m Q\n",
       " 887 │         887         0       2  Montvila, Rev. Juozas              male          27.0      0      0  211536            13.0    \u001b[90m missing   \u001b[0m S\n",
       " 888 │         888         1       1  Graham, Miss. Margaret Edith       female        19.0      0      0  112053            30.0     B42        S\n",
       " 889 │         889         0       3  Johnston, Miss. Catherine Helen …  female  \u001b[90m missing   \u001b[0m     1      2  W./C. 6607        23.45   \u001b[90m missing   \u001b[0m S\n",
       " 890 │         890         1       1  Behr, Mr. Karl Howell              male          26.0      0      0  111369            30.0     C148       C\n",
       " 891 │         891         0       3  Dooley, Mr. Patrick                male          32.0      0      0  370376             7.75   \u001b[90m missing   \u001b[0m Q\n",
       "\u001b[36m                                                                                                                                          870 rows omitted\u001b[0m"
      ]
     },
     "execution_count": 2,
     "metadata": {},
     "output_type": "execute_result"
    }
   ],
   "source": [
    "df = CSV.File(\"data/train.csv\") |> DataFrame"
   ]
  },
  {
   "cell_type": "code",
   "execution_count": 3,
   "metadata": {},
   "outputs": [
    {
     "name": "stdout",
     "output_type": "stream",
     "text": [
      "[\"PassengerId\", \"Survived\", \"Pclass\", \"Name\", \"Sex\", \"Age\", \"SibSp\", \"Parch\", \"Ticket\", \"Fare\", \"Cabin\", \"Embarked\"]"
     ]
    },
    {
     "data": {
      "text/html": [
       "<table class=\"data-frame\"><thead><tr><th></th><th>variable</th><th>mean</th><th>min</th><th>median</th><th>max</th><th>nmissing</th><th>eltype</th></tr><tr><th></th><th>Symbol</th><th>Union…</th><th>Any</th><th>Union…</th><th>Any</th><th>Int64</th><th>Type</th></tr></thead><tbody><p>12 rows × 7 columns</p><tr><th>1</th><td>PassengerId</td><td>446.0</td><td>1</td><td>446.0</td><td>891</td><td>0</td><td>Int64</td></tr><tr><th>2</th><td>Survived</td><td>0.383838</td><td>0</td><td>0.0</td><td>1</td><td>0</td><td>Int64</td></tr><tr><th>3</th><td>Pclass</td><td>2.30864</td><td>1</td><td>3.0</td><td>3</td><td>0</td><td>Int64</td></tr><tr><th>4</th><td>Name</td><td></td><td>Abbing, Mr. Anthony</td><td></td><td>van Melkebeke, Mr. Philemon</td><td>0</td><td>String</td></tr><tr><th>5</th><td>Sex</td><td></td><td>female</td><td></td><td>male</td><td>0</td><td>String7</td></tr><tr><th>6</th><td>Age</td><td>29.6991</td><td>0.42</td><td>28.0</td><td>80.0</td><td>177</td><td>Union{Missing, Float64}</td></tr><tr><th>7</th><td>SibSp</td><td>0.523008</td><td>0</td><td>0.0</td><td>8</td><td>0</td><td>Int64</td></tr><tr><th>8</th><td>Parch</td><td>0.381594</td><td>0</td><td>0.0</td><td>6</td><td>0</td><td>Int64</td></tr><tr><th>9</th><td>Ticket</td><td></td><td>110152</td><td></td><td>WE/P 5735</td><td>0</td><td>String31</td></tr><tr><th>10</th><td>Fare</td><td>32.2042</td><td>0.0</td><td>14.4542</td><td>512.329</td><td>0</td><td>Float64</td></tr><tr><th>11</th><td>Cabin</td><td></td><td>A10</td><td></td><td>T</td><td>687</td><td>Union{Missing, String15}</td></tr><tr><th>12</th><td>Embarked</td><td></td><td>C</td><td></td><td>S</td><td>2</td><td>Union{Missing, String1}</td></tr></tbody></table>"
      ],
      "text/latex": [
       "\\begin{tabular}{r|ccccccc}\n",
       "\t& variable & mean & min & median & max & nmissing & eltype\\\\\n",
       "\t\\hline\n",
       "\t& Symbol & Union… & Any & Union… & Any & Int64 & Type\\\\\n",
       "\t\\hline\n",
       "\t1 & PassengerId & 446.0 & 1 & 446.0 & 891 & 0 & Int64 \\\\\n",
       "\t2 & Survived & 0.383838 & 0 & 0.0 & 1 & 0 & Int64 \\\\\n",
       "\t3 & Pclass & 2.30864 & 1 & 3.0 & 3 & 0 & Int64 \\\\\n",
       "\t4 & Name &  & Abbing, Mr. Anthony &  & van Melkebeke, Mr. Philemon & 0 & String \\\\\n",
       "\t5 & Sex &  & female &  & male & 0 & String7 \\\\\n",
       "\t6 & Age & 29.6991 & 0.42 & 28.0 & 80.0 & 177 & Union\\{Missing, Float64\\} \\\\\n",
       "\t7 & SibSp & 0.523008 & 0 & 0.0 & 8 & 0 & Int64 \\\\\n",
       "\t8 & Parch & 0.381594 & 0 & 0.0 & 6 & 0 & Int64 \\\\\n",
       "\t9 & Ticket &  & 110152 &  & WE/P 5735 & 0 & String31 \\\\\n",
       "\t10 & Fare & 32.2042 & 0.0 & 14.4542 & 512.329 & 0 & Float64 \\\\\n",
       "\t11 & Cabin &  & A10 &  & T & 687 & Union\\{Missing, String15\\} \\\\\n",
       "\t12 & Embarked &  & C &  & S & 2 & Union\\{Missing, String1\\} \\\\\n",
       "\\end{tabular}\n"
      ],
      "text/plain": [
       "\u001b[1m12×7 DataFrame\u001b[0m\n",
       "\u001b[1m Row \u001b[0m│\u001b[1m variable    \u001b[0m\u001b[1m mean     \u001b[0m\u001b[1m min                 \u001b[0m\u001b[1m median  \u001b[0m\u001b[1m max                         \u001b[0m\u001b[1m nmissing \u001b[0m\u001b[1m eltype                   \u001b[0m\n",
       "\u001b[1m     \u001b[0m│\u001b[90m Symbol      \u001b[0m\u001b[90m Union…   \u001b[0m\u001b[90m Any                 \u001b[0m\u001b[90m Union…  \u001b[0m\u001b[90m Any                         \u001b[0m\u001b[90m Int64    \u001b[0m\u001b[90m Type                     \u001b[0m\n",
       "─────┼──────────────────────────────────────────────────────────────────────────────────────────────────────────────────────\n",
       "   1 │ PassengerId  446.0     1                    446.0    891                                 0  Int64\n",
       "   2 │ Survived     0.383838  0                    0.0      1                                   0  Int64\n",
       "   3 │ Pclass       2.30864   1                    3.0      3                                   0  Int64\n",
       "   4 │ Name        \u001b[90m          \u001b[0m Abbing, Mr. Anthony \u001b[90m         \u001b[0m van Melkebeke, Mr. Philemon         0  String\n",
       "   5 │ Sex         \u001b[90m          \u001b[0m female              \u001b[90m         \u001b[0m male                                0  String7\n",
       "   6 │ Age          29.6991   0.42                 28.0     80.0                              177  Union{Missing, Float64}\n",
       "   7 │ SibSp        0.523008  0                    0.0      8                                   0  Int64\n",
       "   8 │ Parch        0.381594  0                    0.0      6                                   0  Int64\n",
       "   9 │ Ticket      \u001b[90m          \u001b[0m 110152              \u001b[90m         \u001b[0m WE/P 5735                           0  String31\n",
       "  10 │ Fare         32.2042   0.0                  14.4542  512.329                             0  Float64\n",
       "  11 │ Cabin       \u001b[90m          \u001b[0m A10                 \u001b[90m         \u001b[0m T                                 687  Union{Missing, String15}\n",
       "  12 │ Embarked    \u001b[90m          \u001b[0m C                   \u001b[90m         \u001b[0m S                                   2  Union{Missing, String1}"
      ]
     },
     "execution_count": 3,
     "metadata": {},
     "output_type": "execute_result"
    }
   ],
   "source": [
    "names(df) |> show\n",
    "describe(df) "
   ]
  },
  {
   "cell_type": "code",
   "execution_count": 4,
   "metadata": {},
   "outputs": [
    {
     "data": {
      "text/html": [
       "<table class=\"data-frame\"><thead><tr><th></th><th>Survived</th><th>Name</th></tr><tr><th></th><th>Int64</th><th>String</th></tr></thead><tbody><p>5 rows × 2 columns</p><tr><th>1</th><td>0</td><td>Braund, Mr. Owen Harris</td></tr><tr><th>2</th><td>1</td><td>Cumings, Mrs. John Bradley (Florence Briggs Thayer)</td></tr><tr><th>3</th><td>1</td><td>Heikkinen, Miss. Laina</td></tr><tr><th>4</th><td>1</td><td>Futrelle, Mrs. Jacques Heath (Lily May Peel)</td></tr><tr><th>5</th><td>0</td><td>Allen, Mr. William Henry</td></tr></tbody></table>"
      ],
      "text/latex": [
       "\\begin{tabular}{r|cc}\n",
       "\t& Survived & Name\\\\\n",
       "\t\\hline\n",
       "\t& Int64 & String\\\\\n",
       "\t\\hline\n",
       "\t1 & 0 & Braund, Mr. Owen Harris \\\\\n",
       "\t2 & 1 & Cumings, Mrs. John Bradley (Florence Briggs Thayer) \\\\\n",
       "\t3 & 1 & Heikkinen, Miss. Laina \\\\\n",
       "\t4 & 1 & Futrelle, Mrs. Jacques Heath (Lily May Peel) \\\\\n",
       "\t5 & 0 & Allen, Mr. William Henry \\\\\n",
       "\\end{tabular}\n"
      ],
      "text/plain": [
       "\u001b[1m5×2 DataFrame\u001b[0m\n",
       "\u001b[1m Row \u001b[0m│\u001b[1m Survived \u001b[0m\u001b[1m Name                              \u001b[0m\n",
       "\u001b[1m     \u001b[0m│\u001b[90m Int64    \u001b[0m\u001b[90m String                            \u001b[0m\n",
       "─────┼─────────────────────────────────────────────\n",
       "   1 │        0  Braund, Mr. Owen Harris\n",
       "   2 │        1  Cumings, Mrs. John Bradley (Flor…\n",
       "   3 │        1  Heikkinen, Miss. Laina\n",
       "   4 │        1  Futrelle, Mrs. Jacques Heath (Li…\n",
       "   5 │        0  Allen, Mr. William Henry"
      ]
     },
     "execution_count": 4,
     "metadata": {},
     "output_type": "execute_result"
    }
   ],
   "source": [
    "df[1:5,[:Survived,:Name]]"
   ]
  },
  {
   "cell_type": "code",
   "execution_count": 5,
   "metadata": {},
   "outputs": [
    {
     "data": {
      "text/plain": [
       "2-element Vector{String7}:\n",
       " \"female\"\n",
       " \"male\""
      ]
     },
     "execution_count": 5,
     "metadata": {},
     "output_type": "execute_result"
    }
   ],
   "source": [
    "# List of recorded sexes\n",
    "levels(df[!,:Sex])"
   ]
  },
  {
   "cell_type": "code",
   "execution_count": 6,
   "metadata": {},
   "outputs": [
    {
     "data": {
      "text/html": [
       "<table class=\"data-frame\"><thead><tr><th></th><th>PassengerId</th><th>Survived</th><th>Pclass</th><th>Name</th><th>Male</th><th>Age</th><th>SibSp</th><th>Parch</th><th>Ticket</th><th>Fare</th><th>Cabin</th><th>Embarked</th></tr><tr><th></th><th>Int64</th><th>Bool</th><th>Int64</th><th>String</th><th>Bool</th><th>Float64?</th><th>Int64</th><th>Int64</th><th>String31</th><th>Float64</th><th>String15?</th><th>Cat…?</th></tr></thead><tbody><p>5 rows × 12 columns</p><tr><th>1</th><td>1</td><td>0</td><td>3</td><td>Braund, Mr. Owen Harris</td><td>1</td><td>22.0</td><td>1</td><td>0</td><td>A/5 21171</td><td>7.25</td><td><em>missing</em></td><td>S</td></tr><tr><th>2</th><td>2</td><td>1</td><td>1</td><td>Cumings, Mrs. John Bradley (Florence Briggs Thayer)</td><td>0</td><td>38.0</td><td>1</td><td>0</td><td>PC 17599</td><td>71.2833</td><td>C85</td><td>C</td></tr><tr><th>3</th><td>3</td><td>1</td><td>3</td><td>Heikkinen, Miss. Laina</td><td>0</td><td>26.0</td><td>0</td><td>0</td><td>STON/O2. 3101282</td><td>7.925</td><td><em>missing</em></td><td>S</td></tr><tr><th>4</th><td>4</td><td>1</td><td>1</td><td>Futrelle, Mrs. Jacques Heath (Lily May Peel)</td><td>0</td><td>35.0</td><td>1</td><td>0</td><td>113803</td><td>53.1</td><td>C123</td><td>S</td></tr><tr><th>5</th><td>5</td><td>0</td><td>3</td><td>Allen, Mr. William Henry</td><td>1</td><td>35.0</td><td>0</td><td>0</td><td>373450</td><td>8.05</td><td><em>missing</em></td><td>S</td></tr></tbody></table>"
      ],
      "text/latex": [
       "\\begin{tabular}{r|cccccccccccc}\n",
       "\t& PassengerId & Survived & Pclass & Name & Male & Age & SibSp & Parch & Ticket & Fare & Cabin & Embarked\\\\\n",
       "\t\\hline\n",
       "\t& Int64 & Bool & Int64 & String & Bool & Float64? & Int64 & Int64 & String31 & Float64 & String15? & Cat…?\\\\\n",
       "\t\\hline\n",
       "\t1 & 1 & 0 & 3 & Braund, Mr. Owen Harris & 1 & 22.0 & 1 & 0 & A/5 21171 & 7.25 & \\emph{missing} & S \\\\\n",
       "\t2 & 2 & 1 & 1 & Cumings, Mrs. John Bradley (Florence Briggs Thayer) & 0 & 38.0 & 1 & 0 & PC 17599 & 71.2833 & C85 & C \\\\\n",
       "\t3 & 3 & 1 & 3 & Heikkinen, Miss. Laina & 0 & 26.0 & 0 & 0 & STON/O2. 3101282 & 7.925 & \\emph{missing} & S \\\\\n",
       "\t4 & 4 & 1 & 1 & Futrelle, Mrs. Jacques Heath (Lily May Peel) & 0 & 35.0 & 1 & 0 & 113803 & 53.1 & C123 & S \\\\\n",
       "\t5 & 5 & 0 & 3 & Allen, Mr. William Henry & 1 & 35.0 & 0 & 0 & 373450 & 8.05 & \\emph{missing} & S \\\\\n",
       "\\end{tabular}\n"
      ],
      "text/plain": [
       "\u001b[1m5×12 DataFrame\u001b[0m\n",
       "\u001b[1m Row \u001b[0m│\u001b[1m PassengerId \u001b[0m\u001b[1m Survived \u001b[0m\u001b[1m Pclass \u001b[0m\u001b[1m Name                              \u001b[0m\u001b[1m Male  \u001b[0m\u001b[1m Age      \u001b[0m\u001b[1m SibSp \u001b[0m\u001b[1m Parch \u001b[0m\u001b[1m Ticket           \u001b[0m\u001b[1m Fare    \u001b[0m\u001b[1m Cabin     \u001b[0m\u001b[1m Embarked \u001b[0m\n",
       "\u001b[1m     \u001b[0m│\u001b[90m Int64       \u001b[0m\u001b[90m Bool     \u001b[0m\u001b[90m Int64  \u001b[0m\u001b[90m String                            \u001b[0m\u001b[90m Bool  \u001b[0m\u001b[90m Float64? \u001b[0m\u001b[90m Int64 \u001b[0m\u001b[90m Int64 \u001b[0m\u001b[90m String31         \u001b[0m\u001b[90m Float64 \u001b[0m\u001b[90m String15? \u001b[0m\u001b[90m Cat…?    \u001b[0m\n",
       "─────┼─────────────────────────────────────────────────────────────────────────────────────────────────────────────────────────────────────────────────\n",
       "   1 │           1     false       3  Braund, Mr. Owen Harris             true      22.0      1      0  A/5 21171          7.25   \u001b[90m missing   \u001b[0m S\n",
       "   2 │           2      true       1  Cumings, Mrs. John Bradley (Flor…  false      38.0      1      0  PC 17599          71.2833  C85        C\n",
       "   3 │           3      true       3  Heikkinen, Miss. Laina             false      26.0      0      0  STON/O2. 3101282   7.925  \u001b[90m missing   \u001b[0m S\n",
       "   4 │           4      true       1  Futrelle, Mrs. Jacques Heath (Li…  false      35.0      1      0  113803            53.1     C123       S\n",
       "   5 │           5     false       3  Allen, Mr. William Henry            true      35.0      0      0  373450             8.05   \u001b[90m missing   \u001b[0m S"
      ]
     },
     "execution_count": 6,
     "metadata": {},
     "output_type": "execute_result"
    }
   ],
   "source": [
    "# Convert Survived column to boolean\n",
    "df[!,:Survived] = convert.(Bool,df[!,:Survived])\n",
    "\n",
    "# Convert Sex column to boolean\n",
    "if columnindex(df,:Sex) != 0\n",
    "    (df[!,:Sex] = df[!,:Sex] .== \"male\")\n",
    "    rename!(df,:Sex => :Male)\n",
    "end \n",
    "df.Embarked = categorical(df.Embarked)\n",
    "\n",
    "first(df,5)"
   ]
  },
  {
   "cell_type": "code",
   "execution_count": 7,
   "metadata": {},
   "outputs": [
    {
     "data": {
      "text/html": [
       "<table class=\"data-frame\"><thead><tr><th></th><th>PassengerId</th><th>Survived</th><th>Pclass</th><th>Name</th><th>Male</th><th>Age</th><th>SibSp</th><th>Parch</th><th>Ticket</th><th>Fare</th><th>Cabin</th><th>Embarked</th></tr><tr><th></th><th>Int64</th><th>Bool</th><th>Int64</th><th>String</th><th>Bool</th><th>Float64?</th><th>Int64</th><th>Int64</th><th>String31</th><th>Float64</th><th>String15?</th><th>Cat…?</th></tr></thead><tbody><p>5 rows × 12 columns</p><tr><th>1</th><td>1</td><td>0</td><td>3</td><td>Braund, Mr. Owen Harris</td><td>1</td><td>22.0</td><td>1</td><td>0</td><td>A/5 21171</td><td>7.25</td><td><em>missing</em></td><td>S</td></tr><tr><th>2</th><td>2</td><td>1</td><td>1</td><td>Cumings, Mrs. John Bradley (Florence Briggs Thayer)</td><td>0</td><td>38.0</td><td>1</td><td>0</td><td>PC 17599</td><td>71.2833</td><td>C85</td><td>C</td></tr><tr><th>3</th><td>3</td><td>1</td><td>3</td><td>Heikkinen, Miss. Laina</td><td>0</td><td>26.0</td><td>0</td><td>0</td><td>STON/O2. 3101282</td><td>7.925</td><td><em>missing</em></td><td>S</td></tr><tr><th>4</th><td>4</td><td>1</td><td>1</td><td>Futrelle, Mrs. Jacques Heath (Lily May Peel)</td><td>0</td><td>35.0</td><td>1</td><td>0</td><td>113803</td><td>53.1</td><td>C123</td><td>S</td></tr><tr><th>5</th><td>5</td><td>0</td><td>3</td><td>Allen, Mr. William Henry</td><td>1</td><td>35.0</td><td>0</td><td>0</td><td>373450</td><td>8.05</td><td><em>missing</em></td><td>S</td></tr></tbody></table>"
      ],
      "text/latex": [
       "\\begin{tabular}{r|cccccccccccc}\n",
       "\t& PassengerId & Survived & Pclass & Name & Male & Age & SibSp & Parch & Ticket & Fare & Cabin & Embarked\\\\\n",
       "\t\\hline\n",
       "\t& Int64 & Bool & Int64 & String & Bool & Float64? & Int64 & Int64 & String31 & Float64 & String15? & Cat…?\\\\\n",
       "\t\\hline\n",
       "\t1 & 1 & 0 & 3 & Braund, Mr. Owen Harris & 1 & 22.0 & 1 & 0 & A/5 21171 & 7.25 & \\emph{missing} & S \\\\\n",
       "\t2 & 2 & 1 & 1 & Cumings, Mrs. John Bradley (Florence Briggs Thayer) & 0 & 38.0 & 1 & 0 & PC 17599 & 71.2833 & C85 & C \\\\\n",
       "\t3 & 3 & 1 & 3 & Heikkinen, Miss. Laina & 0 & 26.0 & 0 & 0 & STON/O2. 3101282 & 7.925 & \\emph{missing} & S \\\\\n",
       "\t4 & 4 & 1 & 1 & Futrelle, Mrs. Jacques Heath (Lily May Peel) & 0 & 35.0 & 1 & 0 & 113803 & 53.1 & C123 & S \\\\\n",
       "\t5 & 5 & 0 & 3 & Allen, Mr. William Henry & 1 & 35.0 & 0 & 0 & 373450 & 8.05 & \\emph{missing} & S \\\\\n",
       "\\end{tabular}\n"
      ],
      "text/plain": [
       "\u001b[1m5×12 DataFrame\u001b[0m\n",
       "\u001b[1m Row \u001b[0m│\u001b[1m PassengerId \u001b[0m\u001b[1m Survived \u001b[0m\u001b[1m Pclass \u001b[0m\u001b[1m Name                              \u001b[0m\u001b[1m Male  \u001b[0m\u001b[1m Age      \u001b[0m\u001b[1m SibSp \u001b[0m\u001b[1m Parch \u001b[0m\u001b[1m Ticket           \u001b[0m\u001b[1m Fare    \u001b[0m\u001b[1m Cabin     \u001b[0m\u001b[1m Embarked \u001b[0m\n",
       "\u001b[1m     \u001b[0m│\u001b[90m Int64       \u001b[0m\u001b[90m Bool     \u001b[0m\u001b[90m Int64  \u001b[0m\u001b[90m String                            \u001b[0m\u001b[90m Bool  \u001b[0m\u001b[90m Float64? \u001b[0m\u001b[90m Int64 \u001b[0m\u001b[90m Int64 \u001b[0m\u001b[90m String31         \u001b[0m\u001b[90m Float64 \u001b[0m\u001b[90m String15? \u001b[0m\u001b[90m Cat…?    \u001b[0m\n",
       "─────┼─────────────────────────────────────────────────────────────────────────────────────────────────────────────────────────────────────────────────\n",
       "   1 │           1     false       3  Braund, Mr. Owen Harris             true      22.0      1      0  A/5 21171          7.25   \u001b[90m missing   \u001b[0m S\n",
       "   2 │           2      true       1  Cumings, Mrs. John Bradley (Flor…  false      38.0      1      0  PC 17599          71.2833  C85        C\n",
       "   3 │           3      true       3  Heikkinen, Miss. Laina             false      26.0      0      0  STON/O2. 3101282   7.925  \u001b[90m missing   \u001b[0m S\n",
       "   4 │           4      true       1  Futrelle, Mrs. Jacques Heath (Li…  false      35.0      1      0  113803            53.1     C123       S\n",
       "   5 │           5     false       3  Allen, Mr. William Henry            true      35.0      0      0  373450             8.05   \u001b[90m missing   \u001b[0m S"
      ]
     },
     "execution_count": 7,
     "metadata": {},
     "output_type": "execute_result"
    }
   ],
   "source": [
    "first(df,5)"
   ]
  },
  {
   "cell_type": "markdown",
   "metadata": {},
   "source": [
    "### Missing value statistics"
   ]
  },
  {
   "cell_type": "code",
   "execution_count": 8,
   "metadata": {},
   "outputs": [
    {
     "data": {
      "text/html": [
       "<table class=\"data-frame\"><thead><tr><th></th><th>Column</th><th>Total</th><th>Percent</th></tr><tr><th></th><th>String</th><th>Int64</th><th>Float64</th></tr></thead><tbody><p>12 rows × 3 columns</p><tr><th>1</th><td>Cabin</td><td>687</td><td>0.771</td></tr><tr><th>2</th><td>Age</td><td>177</td><td>0.199</td></tr><tr><th>3</th><td>Embarked</td><td>2</td><td>0.002</td></tr><tr><th>4</th><td>PassengerId</td><td>0</td><td>0.0</td></tr><tr><th>5</th><td>Survived</td><td>0</td><td>0.0</td></tr><tr><th>6</th><td>Pclass</td><td>0</td><td>0.0</td></tr><tr><th>7</th><td>Name</td><td>0</td><td>0.0</td></tr><tr><th>8</th><td>Male</td><td>0</td><td>0.0</td></tr><tr><th>9</th><td>SibSp</td><td>0</td><td>0.0</td></tr><tr><th>10</th><td>Parch</td><td>0</td><td>0.0</td></tr><tr><th>11</th><td>Ticket</td><td>0</td><td>0.0</td></tr><tr><th>12</th><td>Fare</td><td>0</td><td>0.0</td></tr></tbody></table>"
      ],
      "text/latex": [
       "\\begin{tabular}{r|ccc}\n",
       "\t& Column & Total & Percent\\\\\n",
       "\t\\hline\n",
       "\t& String & Int64 & Float64\\\\\n",
       "\t\\hline\n",
       "\t1 & Cabin & 687 & 0.771 \\\\\n",
       "\t2 & Age & 177 & 0.199 \\\\\n",
       "\t3 & Embarked & 2 & 0.002 \\\\\n",
       "\t4 & PassengerId & 0 & 0.0 \\\\\n",
       "\t5 & Survived & 0 & 0.0 \\\\\n",
       "\t6 & Pclass & 0 & 0.0 \\\\\n",
       "\t7 & Name & 0 & 0.0 \\\\\n",
       "\t8 & Male & 0 & 0.0 \\\\\n",
       "\t9 & SibSp & 0 & 0.0 \\\\\n",
       "\t10 & Parch & 0 & 0.0 \\\\\n",
       "\t11 & Ticket & 0 & 0.0 \\\\\n",
       "\t12 & Fare & 0 & 0.0 \\\\\n",
       "\\end{tabular}\n"
      ],
      "text/plain": [
       "\u001b[1m12×3 DataFrame\u001b[0m\n",
       "\u001b[1m Row \u001b[0m│\u001b[1m Column      \u001b[0m\u001b[1m Total \u001b[0m\u001b[1m Percent \u001b[0m\n",
       "\u001b[1m     \u001b[0m│\u001b[90m String      \u001b[0m\u001b[90m Int64 \u001b[0m\u001b[90m Float64 \u001b[0m\n",
       "─────┼─────────────────────────────\n",
       "   1 │ Cabin          687    0.771\n",
       "   2 │ Age            177    0.199\n",
       "   3 │ Embarked         2    0.002\n",
       "   4 │ PassengerId      0    0.0\n",
       "   5 │ Survived         0    0.0\n",
       "   6 │ Pclass           0    0.0\n",
       "   7 │ Name             0    0.0\n",
       "   8 │ Male             0    0.0\n",
       "   9 │ SibSp            0    0.0\n",
       "  10 │ Parch            0    0.0\n",
       "  11 │ Ticket           0    0.0\n",
       "  12 │ Fare             0    0.0"
      ]
     },
     "execution_count": 8,
     "metadata": {},
     "output_type": "execute_result"
    }
   ],
   "source": [
    "# Get missing stats\n",
    "function show_missing(df)\n",
    "    emptycols = count.(ismissing, eachcol(df))\n",
    "    emptyperc = round.(emptycols ./ fill(size(df)...), digits = 3)\n",
    "    sort(DataFrame(Column = names(df), Total = emptycols, Percent = emptyperc), :Total, rev = true)\n",
    "end\n",
    "show_missing(df)"
   ]
  },
  {
   "cell_type": "code",
   "execution_count": 9,
   "metadata": {},
   "outputs": [
    {
     "ename": "LoadError",
     "evalue": "UndefVarError: colwise not defined",
     "output_type": "error",
     "traceback": [
      "UndefVarError: colwise not defined",
      "",
      "Stacktrace:",
      " [1] top-level scope",
      "   @ In[9]:2",
      " [2] eval",
      "   @ ./boot.jl:373 [inlined]",
      " [3] include_string(mapexpr::typeof(REPL.softscope), mod::Module, code::String, filename::String)",
      "   @ Base ./loading.jl:1196"
     ]
    }
   ],
   "source": [
    "# TODO is it useful??\n",
    "colwise(ismissing,df)\n",
    "# count.(ismissing, eachcol(df))"
   ]
  },
  {
   "cell_type": "markdown",
   "metadata": {},
   "source": [
    "## Check cabins' information quality"
   ]
  },
  {
   "cell_type": "code",
   "execution_count": 10,
   "metadata": {
    "scrolled": true,
    "tags": []
   },
   "outputs": [
    {
     "name": "stdout",
     "output_type": "stream",
     "text": [
      "\u001b[1m204×2 DataFrame\u001b[0m\n",
      "\u001b[1m Row \u001b[0m│\u001b[1m Survived \u001b[0m\u001b[1m Cabin           \u001b[0m\n",
      "\u001b[1m     \u001b[0m│\u001b[90m Bool     \u001b[0m\u001b[90m String15        \u001b[0m\n",
      "─────┼───────────────────────────\n",
      "   1 │     true  G6\n",
      "   2 │     true  G6\n",
      "   3 │     true  F4\n",
      "   4 │     true  F4\n",
      "   5 │     true  F33\n",
      "   6 │     true  F33\n",
      "   7 │     true  F33\n",
      "   8 │     true  F2\n",
      "   9 │     true  F2\n",
      "  10 │     true  F E69\n",
      "  11 │     true  E8\n",
      "  12 │     true  E8\n",
      "  13 │     true  E68\n",
      "  14 │     true  E67\n",
      "  15 │     true  E50\n",
      "  16 │     true  E49\n",
      "  17 │     true  E44\n",
      "  18 │     true  E40\n",
      "  19 │     true  E36\n",
      "  20 │     true  E34\n",
      "  21 │     true  E33\n",
      "  22 │     true  E33\n",
      "  23 │     true  E25\n",
      "  24 │     true  E25\n",
      "  25 │     true  E24\n",
      "  26 │     true  E24\n",
      "  27 │     true  E17\n",
      "  28 │     true  E121\n",
      "  29 │     true  E121\n",
      "  30 │     true  E12\n",
      "  31 │     true  E101\n",
      "  32 │     true  E101\n",
      "  33 │     true  E101\n",
      "  34 │     true  E10\n",
      "  35 │     true  D9\n",
      "  36 │     true  D7\n",
      "  37 │     true  D56\n",
      "  38 │     true  D49\n",
      "  39 │     true  D47\n",
      "  40 │     true  D45\n",
      "  41 │     true  D37\n",
      "  42 │     true  D36\n",
      "  43 │     true  D36\n",
      "  44 │     true  D35\n",
      "  45 │     true  D35\n",
      "  46 │     true  D33\n",
      "  47 │     true  D33\n",
      "  48 │     true  D28\n",
      "  49 │     true  D21\n",
      "  50 │     true  D20\n",
      "  51 │     true  D20\n",
      "  52 │     true  D19\n",
      "  53 │     true  D17\n",
      "  54 │     true  D17\n",
      "  55 │     true  D15\n",
      "  56 │     true  D11\n",
      "  57 │     true  D10 D12\n",
      "  58 │     true  D\n",
      "  59 │     true  D\n",
      "  60 │     true  C99\n",
      "  61 │     true  C93\n",
      "  62 │     true  C93\n",
      "  63 │     true  C92\n",
      "  64 │     true  C92\n",
      "  65 │     true  C90\n",
      "  66 │     true  C85\n",
      "  67 │     true  C83\n",
      "  68 │     true  C78\n",
      "  69 │     true  C70\n",
      "  70 │     true  C7\n",
      "  71 │     true  C68\n",
      "  72 │     true  C65\n",
      "  73 │     true  C62 C64\n",
      "  74 │     true  C54\n",
      "  75 │     true  C52\n",
      "  76 │     true  C52\n",
      "  77 │     true  C50\n",
      "  78 │     true  C47\n",
      "  79 │     true  C45\n",
      "  80 │     true  C32\n",
      "  81 │     true  C23 C25 C27\n",
      "  82 │     true  C23 C25 C27\n",
      "  83 │     true  C22 C26\n",
      "  84 │     true  C2\n",
      "  85 │     true  C148\n",
      "  86 │     true  C126\n",
      "  87 │     true  C126\n",
      "  88 │     true  C125\n",
      "  89 │     true  C125\n",
      "  90 │     true  C123\n",
      "  91 │     true  C106\n",
      "  92 │     true  C104\n",
      "  93 │     true  C103\n",
      "  94 │     true  C101\n",
      "  95 │     true  B96 B98\n",
      "  96 │     true  B96 B98\n",
      "  97 │     true  B96 B98\n",
      "  98 │     true  B96 B98\n",
      "  99 │     true  B80\n",
      " 100 │     true  B79\n",
      " 101 │     true  B78\n",
      " 102 │     true  B77\n",
      " 103 │     true  B77\n",
      " 104 │     true  B73\n",
      " 105 │     true  B69\n",
      " 106 │     true  B58 B60\n",
      " 107 │     true  B57 B59 B63 B66\n",
      " 108 │     true  B57 B59 B63 B66\n",
      " 109 │     true  B51 B53 B55\n",
      " 110 │     true  B50\n",
      " 111 │     true  B5\n",
      " 112 │     true  B5\n",
      " 113 │     true  B49\n",
      " 114 │     true  B49\n",
      " 115 │     true  B42\n",
      " 116 │     true  B41\n",
      " 117 │     true  B4\n",
      " 118 │     true  B39\n",
      " 119 │     true  B35\n",
      " 120 │     true  B35\n",
      " 121 │     true  B3\n",
      " 122 │     true  B28\n",
      " 123 │     true  B28\n",
      " 124 │     true  B22\n",
      " 125 │     true  B20\n",
      " 126 │     true  B20\n",
      " 127 │     true  B18\n",
      " 128 │     true  B18\n",
      " 129 │     true  B101\n",
      " 130 │     true  A6\n",
      " 131 │     true  A34\n",
      " 132 │     true  A31\n",
      " 133 │     true  A26\n",
      " 134 │     true  A23\n",
      " 135 │     true  A20\n",
      " 136 │     true  A16\n",
      " 137 │    false  T\n",
      " 138 │    false  G6\n",
      " 139 │    false  G6\n",
      " 140 │    false  F38\n",
      " 141 │    false  F2\n",
      " 142 │    false  F G73\n",
      " 143 │    false  F G73\n",
      " 144 │    false  F G63\n",
      " 145 │    false  E77\n",
      " 146 │    false  E67\n",
      " 147 │    false  E63\n",
      " 148 │    false  E58\n",
      " 149 │    false  E46\n",
      " 150 │    false  E44\n",
      " 151 │    false  E38\n",
      " 152 │    false  E31\n",
      " 153 │    false  D6\n",
      " 154 │    false  D50\n",
      " 155 │    false  D48\n",
      " 156 │    false  D46\n",
      " 157 │    false  D30\n",
      " 158 │    false  D26\n",
      " 159 │    false  D26\n",
      " 160 │    false  D\n",
      " 161 │    false  C95\n",
      " 162 │    false  C91\n",
      " 163 │    false  C87\n",
      " 164 │    false  C86\n",
      " 165 │    false  C83\n",
      " 166 │    false  C82\n",
      " 167 │    false  C78\n",
      " 168 │    false  C68\n",
      " 169 │    false  C65\n",
      " 170 │    false  C49\n",
      " 171 │    false  C46\n",
      " 172 │    false  C30\n",
      " 173 │    false  C23 C25 C27\n",
      " 174 │    false  C23 C25 C27\n",
      " 175 │    false  C22 C26\n",
      " 176 │    false  C22 C26\n",
      " 177 │    false  C2\n",
      " 178 │    false  C128\n",
      " 179 │    false  C124\n",
      " 180 │    false  C124\n",
      " 181 │    false  C123\n",
      " 182 │    false  C118\n",
      " 183 │    false  C111\n",
      " 184 │    false  C110\n",
      " 185 │    false  B94\n",
      " 186 │    false  B86\n",
      " 187 │    false  B82 B84\n",
      " 188 │    false  B71\n",
      " 189 │    false  B58 B60\n",
      " 190 │    false  B51 B53 B55\n",
      " 191 │    false  B38\n",
      " 192 │    false  B37\n",
      " 193 │    false  B30\n",
      " 194 │    false  B22\n",
      " 195 │    false  B19\n",
      " 196 │    false  B102\n",
      " 197 │    false  A7\n",
      " 198 │    false  A5\n",
      " 199 │    false  A36\n",
      " 200 │    false  A32\n",
      " 201 │    false  A24\n",
      " 202 │    false  A19\n",
      " 203 │    false  A14\n",
      " 204 │    false  A10"
     ]
    },
    {
     "data": {
      "text/plain": [
       "204-element Vector{Char}:\n",
       " 'G': ASCII/Unicode U+0047 (category Lu: Letter, uppercase)\n",
       " 'G': ASCII/Unicode U+0047 (category Lu: Letter, uppercase)\n",
       " 'F': ASCII/Unicode U+0046 (category Lu: Letter, uppercase)\n",
       " 'F': ASCII/Unicode U+0046 (category Lu: Letter, uppercase)\n",
       " 'F': ASCII/Unicode U+0046 (category Lu: Letter, uppercase)\n",
       " 'F': ASCII/Unicode U+0046 (category Lu: Letter, uppercase)\n",
       " 'F': ASCII/Unicode U+0046 (category Lu: Letter, uppercase)\n",
       " 'F': ASCII/Unicode U+0046 (category Lu: Letter, uppercase)\n",
       " 'F': ASCII/Unicode U+0046 (category Lu: Letter, uppercase)\n",
       " 'F': ASCII/Unicode U+0046 (category Lu: Letter, uppercase)\n",
       " 'E': ASCII/Unicode U+0045 (category Lu: Letter, uppercase)\n",
       " 'E': ASCII/Unicode U+0045 (category Lu: Letter, uppercase)\n",
       " 'E': ASCII/Unicode U+0045 (category Lu: Letter, uppercase)\n",
       " ⋮\n",
       " 'B': ASCII/Unicode U+0042 (category Lu: Letter, uppercase)\n",
       " 'B': ASCII/Unicode U+0042 (category Lu: Letter, uppercase)\n",
       " 'B': ASCII/Unicode U+0042 (category Lu: Letter, uppercase)\n",
       " 'B': ASCII/Unicode U+0042 (category Lu: Letter, uppercase)\n",
       " 'A': ASCII/Unicode U+0041 (category Lu: Letter, uppercase)\n",
       " 'A': ASCII/Unicode U+0041 (category Lu: Letter, uppercase)\n",
       " 'A': ASCII/Unicode U+0041 (category Lu: Letter, uppercase)\n",
       " 'A': ASCII/Unicode U+0041 (category Lu: Letter, uppercase)\n",
       " 'A': ASCII/Unicode U+0041 (category Lu: Letter, uppercase)\n",
       " 'A': ASCII/Unicode U+0041 (category Lu: Letter, uppercase)\n",
       " 'A': ASCII/Unicode U+0041 (category Lu: Letter, uppercase)\n",
       " 'A': ASCII/Unicode U+0041 (category Lu: Letter, uppercase)"
      ]
     },
     "execution_count": 10,
     "metadata": {},
     "output_type": "execute_result"
    }
   ],
   "source": [
    "cabin = @pipe dropmissing(df[:,[:Survived,:Cabin]]) |> sort(_,rev=true)\n",
    "show(cabin, allrows=true)\n",
    "cabin.Cabin = getindex.(cabin[:,:Cabin],1)"
   ]
  },
  {
   "cell_type": "code",
   "execution_count": 11,
   "metadata": {},
   "outputs": [
    {
     "data": {
      "text/html": [
       "<table class=\"data-frame\"><thead><tr><th></th><th>Cabin</th><th>Survived</th><th>Died</th><th>nrow</th><th>Ratio</th></tr><tr><th></th><th>Char</th><th>Int64</th><th>Int64</th><th>Int64</th><th>Float64</th></tr></thead><tbody><p>8 rows × 5 columns</p><tr><th>1</th><td>D</td><td>25</td><td>8</td><td>33</td><td>3.12</td></tr><tr><th>2</th><td>E</td><td>24</td><td>8</td><td>32</td><td>3.0</td></tr><tr><th>3</th><td>B</td><td>35</td><td>12</td><td>47</td><td>2.92</td></tr><tr><th>4</th><td>F</td><td>8</td><td>5</td><td>13</td><td>1.6</td></tr><tr><th>5</th><td>C</td><td>35</td><td>24</td><td>59</td><td>1.46</td></tr><tr><th>6</th><td>G</td><td>2</td><td>2</td><td>4</td><td>1.0</td></tr><tr><th>7</th><td>A</td><td>7</td><td>8</td><td>15</td><td>0.88</td></tr><tr><th>8</th><td>T</td><td>0</td><td>1</td><td>1</td><td>0.0</td></tr></tbody></table>"
      ],
      "text/latex": [
       "\\begin{tabular}{r|ccccc}\n",
       "\t& Cabin & Survived & Died & nrow & Ratio\\\\\n",
       "\t\\hline\n",
       "\t& Char & Int64 & Int64 & Int64 & Float64\\\\\n",
       "\t\\hline\n",
       "\t1 & D & 25 & 8 & 33 & 3.12 \\\\\n",
       "\t2 & E & 24 & 8 & 32 & 3.0 \\\\\n",
       "\t3 & B & 35 & 12 & 47 & 2.92 \\\\\n",
       "\t4 & F & 8 & 5 & 13 & 1.6 \\\\\n",
       "\t5 & C & 35 & 24 & 59 & 1.46 \\\\\n",
       "\t6 & G & 2 & 2 & 4 & 1.0 \\\\\n",
       "\t7 & A & 7 & 8 & 15 & 0.88 \\\\\n",
       "\t8 & T & 0 & 1 & 1 & 0.0 \\\\\n",
       "\\end{tabular}\n"
      ],
      "text/plain": [
       "\u001b[1m8×5 DataFrame\u001b[0m\n",
       "\u001b[1m Row \u001b[0m│\u001b[1m Cabin \u001b[0m\u001b[1m Survived \u001b[0m\u001b[1m Died  \u001b[0m\u001b[1m nrow  \u001b[0m\u001b[1m Ratio   \u001b[0m\n",
       "\u001b[1m     \u001b[0m│\u001b[90m Char  \u001b[0m\u001b[90m Int64    \u001b[0m\u001b[90m Int64 \u001b[0m\u001b[90m Int64 \u001b[0m\u001b[90m Float64 \u001b[0m\n",
       "─────┼────────────────────────────────────────\n",
       "   1 │ D            25      8     33     3.12\n",
       "   2 │ E            24      8     32     3.0\n",
       "   3 │ B            35     12     47     2.92\n",
       "   4 │ F             8      5     13     1.6\n",
       "   5 │ C            35     24     59     1.46\n",
       "   6 │ G             2      2      4     1.0\n",
       "   7 │ A             7      8     15     0.88\n",
       "   8 │ T             0      1      1     0.0"
      ]
     },
     "execution_count": 11,
     "metadata": {},
     "output_type": "execute_result"
    }
   ],
   "source": [
    "@pipe groupby(cabin, :Cabin) |>\n",
    "      combine(_,\n",
    "          :Survived => sum => :Survived,\n",
    "          :Survived => (s -> count(s .== false)) => :Died,\n",
    "          nrow,\n",
    "          :Survived => (s -> round(sum(s) / count(s .== false), digits = 2)) => :Ratio\n",
    "      ) |> sort(_, :Ratio, rev = true)"
   ]
  },
  {
   "cell_type": "markdown",
   "metadata": {},
   "source": [
    "### Preping data for first exploratory model"
   ]
  },
  {
   "cell_type": "code",
   "execution_count": 12,
   "metadata": {},
   "outputs": [
    {
     "data": {
      "text/html": [
       "<p>DataFrameRow (11 columns)</p><table class=\"data-frame\"><thead><tr><th></th><th>PassengerId</th><th>Survived</th><th>Pclass</th><th>Name</th><th>Male</th><th>Age</th><th>Ticket</th><th>Fare</th><th>Cabin</th><th>Embarked</th><th>FamilySize</th></tr><tr><th></th><th>Int64</th><th>Bool</th><th>Int64</th><th>String</th><th>Bool</th><th>Float64?</th><th>String31</th><th>Float64</th><th>String15?</th><th>Cat…?</th><th>Int64</th></tr></thead><tbody><tr><th>1</th><td>1</td><td>0</td><td>3</td><td>Braund, Mr. Owen Harris</td><td>1</td><td>22.0</td><td>A/5 21171</td><td>7.25</td><td><em>missing</em></td><td>S</td><td>1</td></tr></tbody></table>"
      ],
      "text/latex": [
       "\\begin{tabular}{r|ccccccccccc}\n",
       "\t& PassengerId & Survived & Pclass & Name & Male & Age & Ticket & Fare & Cabin & Embarked & FamilySize\\\\\n",
       "\t\\hline\n",
       "\t& Int64 & Bool & Int64 & String & Bool & Float64? & String31 & Float64 & String15? & Cat…? & Int64\\\\\n",
       "\t\\hline\n",
       "\t1 & 1 & 0 & 3 & Braund, Mr. Owen Harris & 1 & 22.0 & A/5 21171 & 7.25 & \\emph{missing} & S & 1 \\\\\n",
       "\\end{tabular}\n"
      ],
      "text/plain": [
       "\u001b[1mDataFrameRow\u001b[0m\n",
       "\u001b[1m Row \u001b[0m│\u001b[1m PassengerId \u001b[0m\u001b[1m Survived \u001b[0m\u001b[1m Pclass \u001b[0m\u001b[1m Name                    \u001b[0m\u001b[1m Male \u001b[0m\u001b[1m Age      \u001b[0m\u001b[1m Ticket    \u001b[0m\u001b[1m Fare    \u001b[0m\u001b[1m Cabin     \u001b[0m\u001b[1m Embarked \u001b[0m\u001b[1m FamilySize \u001b[0m\n",
       "\u001b[1m     \u001b[0m│\u001b[90m Int64       \u001b[0m\u001b[90m Bool     \u001b[0m\u001b[90m Int64  \u001b[0m\u001b[90m String                  \u001b[0m\u001b[90m Bool \u001b[0m\u001b[90m Float64? \u001b[0m\u001b[90m String31  \u001b[0m\u001b[90m Float64 \u001b[0m\u001b[90m String15? \u001b[0m\u001b[90m Cat…?    \u001b[0m\u001b[90m Int64      \u001b[0m\n",
       "─────┼─────────────────────────────────────────────────────────────────────────────────────────────────────────────────────────────\n",
       "   1 │           1     false       3  Braund, Mr. Owen Harris  true      22.0  A/5 21171     7.25 \u001b[90m missing   \u001b[0m S                  1"
      ]
     },
     "execution_count": 12,
     "metadata": {},
     "output_type": "execute_result"
    }
   ],
   "source": [
    "df.FamilySize = df.SibSp .+ df.Parch\n",
    "family_df = df[:, Not([:SibSp,:Parch])]\n",
    "first(family_df)"
   ]
  },
  {
   "cell_type": "code",
   "execution_count": 91,
   "metadata": {},
   "outputs": [
    {
     "data": {
      "text/html": [
       "<table class=\"data-frame\"><thead><tr><th></th><th>Survived</th><th>Pclass</th><th>Male</th><th>Age</th><th>Fare</th><th>Embarked</th><th>FamilySize</th></tr><tr><th></th><th>Bool</th><th>Int64</th><th>Bool</th><th>Float64</th><th>Float64</th><th>Cat…?</th><th>Int64</th></tr></thead><tbody><p>5 rows × 7 columns</p><tr><th>1</th><td>0</td><td>3</td><td>1</td><td>22.0</td><td>7.25</td><td>S</td><td>1</td></tr><tr><th>2</th><td>1</td><td>1</td><td>0</td><td>38.0</td><td>71.2833</td><td>C</td><td>1</td></tr><tr><th>3</th><td>1</td><td>3</td><td>0</td><td>26.0</td><td>7.925</td><td>S</td><td>0</td></tr><tr><th>4</th><td>1</td><td>1</td><td>0</td><td>35.0</td><td>53.1</td><td>S</td><td>1</td></tr><tr><th>5</th><td>0</td><td>3</td><td>1</td><td>35.0</td><td>8.05</td><td>S</td><td>0</td></tr></tbody></table>"
      ],
      "text/latex": [
       "\\begin{tabular}{r|ccccccc}\n",
       "\t& Survived & Pclass & Male & Age & Fare & Embarked & FamilySize\\\\\n",
       "\t\\hline\n",
       "\t& Bool & Int64 & Bool & Float64 & Float64 & Cat…? & Int64\\\\\n",
       "\t\\hline\n",
       "\t1 & 0 & 3 & 1 & 22.0 & 7.25 & S & 1 \\\\\n",
       "\t2 & 1 & 1 & 0 & 38.0 & 71.2833 & C & 1 \\\\\n",
       "\t3 & 1 & 3 & 0 & 26.0 & 7.925 & S & 0 \\\\\n",
       "\t4 & 1 & 1 & 0 & 35.0 & 53.1 & S & 1 \\\\\n",
       "\t5 & 0 & 3 & 1 & 35.0 & 8.05 & S & 0 \\\\\n",
       "\\end{tabular}\n"
      ],
      "text/plain": [
       "\u001b[1m5×7 DataFrame\u001b[0m\n",
       "\u001b[1m Row \u001b[0m│\u001b[1m Survived \u001b[0m\u001b[1m Pclass \u001b[0m\u001b[1m Male  \u001b[0m\u001b[1m Age     \u001b[0m\u001b[1m Fare    \u001b[0m\u001b[1m Embarked \u001b[0m\u001b[1m FamilySize \u001b[0m\n",
       "\u001b[1m     \u001b[0m│\u001b[90m Bool     \u001b[0m\u001b[90m Int64  \u001b[0m\u001b[90m Bool  \u001b[0m\u001b[90m Float64 \u001b[0m\u001b[90m Float64 \u001b[0m\u001b[90m Cat…?    \u001b[0m\u001b[90m Int64      \u001b[0m\n",
       "─────┼─────────────────────────────────────────────────────────────────\n",
       "   1 │    false       3   true     22.0   7.25    S                  1\n",
       "   2 │     true       1  false     38.0  71.2833  C                  1\n",
       "   3 │     true       3  false     26.0   7.925   S                  0\n",
       "   4 │     true       1  false     35.0  53.1     S                  1\n",
       "   5 │    false       3   true     35.0   8.05    S                  0"
      ]
     },
     "execution_count": 91,
     "metadata": {},
     "output_type": "execute_result"
    }
   ],
   "source": [
    "sub_df = df[:, Not([:SibSp,:Parch,:Name,:Ticket,:Cabin,:PassengerId])]\n",
    "if columnindex(df,:Age) != 0\n",
    "    sub_df.Age = coalesce.(sub_df.Age, 99.5)\n",
    "end \n",
    "first(sub_df,5) \n"
   ]
  },
  {
   "cell_type": "code",
   "execution_count": 110,
   "metadata": {},
   "outputs": [
    {
     "data": {
      "text/html": [
       "<table class=\"data-frame\"><thead><tr><th></th><th>Column</th><th>Total</th><th>Percent</th></tr><tr><th></th><th>String</th><th>Int64</th><th>Float64</th></tr></thead><tbody><p>7 rows × 3 columns</p><tr><th>1</th><td>Survived</td><td>0</td><td>0.0</td></tr><tr><th>2</th><td>Pclass</td><td>0</td><td>0.0</td></tr><tr><th>3</th><td>Male</td><td>0</td><td>0.0</td></tr><tr><th>4</th><td>Age</td><td>0</td><td>0.0</td></tr><tr><th>5</th><td>Fare</td><td>0</td><td>0.0</td></tr><tr><th>6</th><td>Embarked</td><td>0</td><td>0.0</td></tr><tr><th>7</th><td>FamilySize</td><td>0</td><td>0.0</td></tr></tbody></table>"
      ],
      "text/latex": [
       "\\begin{tabular}{r|ccc}\n",
       "\t& Column & Total & Percent\\\\\n",
       "\t\\hline\n",
       "\t& String & Int64 & Float64\\\\\n",
       "\t\\hline\n",
       "\t1 & Survived & 0 & 0.0 \\\\\n",
       "\t2 & Pclass & 0 & 0.0 \\\\\n",
       "\t3 & Male & 0 & 0.0 \\\\\n",
       "\t4 & Age & 0 & 0.0 \\\\\n",
       "\t5 & Fare & 0 & 0.0 \\\\\n",
       "\t6 & Embarked & 0 & 0.0 \\\\\n",
       "\t7 & FamilySize & 0 & 0.0 \\\\\n",
       "\\end{tabular}\n"
      ],
      "text/plain": [
       "\u001b[1m7×3 DataFrame\u001b[0m\n",
       "\u001b[1m Row \u001b[0m│\u001b[1m Column     \u001b[0m\u001b[1m Total \u001b[0m\u001b[1m Percent \u001b[0m\n",
       "\u001b[1m     \u001b[0m│\u001b[90m String     \u001b[0m\u001b[90m Int64 \u001b[0m\u001b[90m Float64 \u001b[0m\n",
       "─────┼────────────────────────────\n",
       "   1 │ Survived        0      0.0\n",
       "   2 │ Pclass          0      0.0\n",
       "   3 │ Male            0      0.0\n",
       "   4 │ Age             0      0.0\n",
       "   5 │ Fare            0      0.0\n",
       "   6 │ Embarked        0      0.0\n",
       "   7 │ FamilySize      0      0.0"
      ]
     },
     "execution_count": 110,
     "metadata": {},
     "output_type": "execute_result"
    }
   ],
   "source": [
    "dropmissing!(sub_df)\n",
    "show_missing(sub_df)"
   ]
  },
  {
   "cell_type": "markdown",
   "metadata": {},
   "source": [
    "### Rudimental Regression"
   ]
  },
  {
   "cell_type": "code",
   "execution_count": 34,
   "metadata": {},
   "outputs": [],
   "source": [
    "using GLM\n",
    "using StatsModels"
   ]
  },
  {
   "cell_type": "code",
   "execution_count": 64,
   "metadata": {},
   "outputs": [],
   "source": [
    "using Lathe.preprocess: TrainTestSplit\n",
    "train, test = TrainTestSplit(sub_df, .75);"
   ]
  },
  {
   "cell_type": "code",
   "execution_count": 65,
   "metadata": {},
   "outputs": [
    {
     "data": {
      "text/plain": [
       "StatsModels.TableRegressionModel{GeneralizedLinearModel{GLM.GlmResp{Vector{Float64}, Binomial{Float64}, LogitLink}, GLM.DensePredChol{Float64, Cholesky{Float64, Matrix{Float64}}}}, Matrix{Float64}}\n",
       "\n",
       "Survived ~ 1 + Pclass + Male + Age + Fare + Embarked\n",
       "\n",
       "Coefficients:\n",
       "────────────────────────────────────────────────────────────────────────────────\n",
       "                    Coef.  Std. Error       z  Pr(>|z|)   Lower 95%    Upper 95%\n",
       "────────────────────────────────────────────────────────────────────────────────\n",
       "(Intercept)   4.18229      0.5308        7.88    <1e-14   3.14195     5.22264\n",
       "Pclass       -0.948593     0.147109     -6.45    <1e-09  -1.23692    -0.660264\n",
       "Male         -2.53035      0.212685    -11.90    <1e-31  -2.9472     -2.11349\n",
       "Age          -0.0109766    0.00366206   -3.00    0.0027  -0.0181541  -0.00379908\n",
       "Fare          0.000452993  0.00233208    0.19    0.8460  -0.0041178   0.00502379\n",
       "Embarked: Q   0.408517     0.429413      0.95    0.3414  -0.433117    1.25015\n",
       "Embarked: S  -0.727231     0.271504     -2.68    0.0074  -1.25937    -0.195093\n",
       "────────────────────────────────────────────────────────────────────────────────"
      ]
     },
     "execution_count": 65,
     "metadata": {},
     "output_type": "execute_result"
    }
   ],
   "source": [
    "# model = lm(@formula(Survived ~ Pclass + Male + Age + Fare + Embarked + FamilySize),sub_df)\n",
    "# fit(LinearModel, @formula(Survived ~ Pclass + Male + Age + Fare + Embarked + FamilySize),sub_df)\n",
    "logit = glm(@formula(Survived ~ Pclass + Male + Age + Fare + Embarked ), train, Binomial(), LogitLink())"
   ]
  },
  {
   "cell_type": "code",
   "execution_count": 66,
   "metadata": {},
   "outputs": [
    {
     "data": {
      "text/plain": [
       "223-element Vector{Union{Missing, Float64}}:\n",
       " 0.10346871774204507\n",
       " 0.867824072822779\n",
       " 0.09256337439464964\n",
       " 0.6066453533232123\n",
       " 0.6034495004831595\n",
       " 0.7663714744994469\n",
       " 0.04699462736878972\n",
       " 0.10451469516059732\n",
       " 0.504487937743508\n",
       " 0.40702950573168656\n",
       " 0.09286901249401301\n",
       " 0.776313758741114\n",
       " 0.10660269140124018\n",
       " ⋮\n",
       "  missing\n",
       " 0.04699462736878972\n",
       " 0.10555182386561965\n",
       " 0.10873374168832396\n",
       " 0.12446592654600636\n",
       " 0.061237155482882714\n",
       " 0.7763691531764296\n",
       " 0.047024053434343085\n",
       " 0.09949236965722393\n",
       " 0.40520135505905536\n",
       " 0.9344216592620453\n",
       " 0.09281704730030903"
      ]
     },
     "execution_count": 66,
     "metadata": {},
     "output_type": "execute_result"
    }
   ],
   "source": [
    "predict(logit,test)"
   ]
  },
  {
   "cell_type": "code",
   "execution_count": 117,
   "metadata": {},
   "outputs": [],
   "source": [
    "train, test = TrainTestSplit(sub_df, .75);\n",
    "model = glm(@formula(Survived ~ Pclass + Male + Age + Fare + Embarked  ), train, Binomial(), LogitLink());\n",
    "\n",
    "pred = predict(model,test);"
   ]
  },
  {
   "cell_type": "code",
   "execution_count": 118,
   "metadata": {},
   "outputs": [
    {
     "data": {
      "text/plain": [
       "0.7746478873239436"
      ]
     },
     "execution_count": 118,
     "metadata": {},
     "output_type": "execute_result"
    }
   ],
   "source": [
    "a = DataFrame(Ref=test[:,:Survived],Pred= round.(pred))\n",
    "all = nrow(a)\n",
    "good = count(a.Ref .== a.Pred)\n",
    "good/all"
   ]
  },
  {
   "cell_type": "code",
   "execution_count": 3,
   "metadata": {},
   "outputs": [
    {
     "data": {
      "text/html": [
       "<table class=\"data-frame\"><thead><tr><th></th><th>PassengerId</th><th>Survived</th><th>Pclass</th><th>Name</th><th>Sex</th><th>Age</th><th>SibSp</th><th>Parch</th><th>Ticket</th><th>Fare</th><th>Cabin</th><th>Embarked</th></tr><tr><th></th><th>Int64</th><th>Int64</th><th>Int64</th><th>String</th><th>String7</th><th>Float64?</th><th>Int64</th><th>Int64</th><th>String31</th><th>Float64</th><th>String15?</th><th>String1?</th></tr></thead><tbody><p>5 rows × 12 columns</p><tr><th>1</th><td>1</td><td>0</td><td>3</td><td>Braund, Mr. Owen Harris</td><td>male</td><td>22.0</td><td>1</td><td>0</td><td>A/5 21171</td><td>7.25</td><td><em>missing</em></td><td>S</td></tr><tr><th>2</th><td>2</td><td>1</td><td>1</td><td>Cumings, Mrs. John Bradley (Florence Briggs Thayer)</td><td>female</td><td>38.0</td><td>1</td><td>0</td><td>PC 17599</td><td>71.2833</td><td>C85</td><td>C</td></tr><tr><th>3</th><td>3</td><td>1</td><td>3</td><td>Heikkinen, Miss. Laina</td><td>female</td><td>26.0</td><td>0</td><td>0</td><td>STON/O2. 3101282</td><td>7.925</td><td><em>missing</em></td><td>S</td></tr><tr><th>4</th><td>4</td><td>1</td><td>1</td><td>Futrelle, Mrs. Jacques Heath (Lily May Peel)</td><td>female</td><td>35.0</td><td>1</td><td>0</td><td>113803</td><td>53.1</td><td>C123</td><td>S</td></tr><tr><th>5</th><td>5</td><td>0</td><td>3</td><td>Allen, Mr. William Henry</td><td>male</td><td>35.0</td><td>0</td><td>0</td><td>373450</td><td>8.05</td><td><em>missing</em></td><td>S</td></tr></tbody></table>"
      ],
      "text/latex": [
       "\\begin{tabular}{r|cccccccccccc}\n",
       "\t& PassengerId & Survived & Pclass & Name & Sex & Age & SibSp & Parch & Ticket & Fare & Cabin & Embarked\\\\\n",
       "\t\\hline\n",
       "\t& Int64 & Int64 & Int64 & String & String7 & Float64? & Int64 & Int64 & String31 & Float64 & String15? & String1?\\\\\n",
       "\t\\hline\n",
       "\t1 & 1 & 0 & 3 & Braund, Mr. Owen Harris & male & 22.0 & 1 & 0 & A/5 21171 & 7.25 & \\emph{missing} & S \\\\\n",
       "\t2 & 2 & 1 & 1 & Cumings, Mrs. John Bradley (Florence Briggs Thayer) & female & 38.0 & 1 & 0 & PC 17599 & 71.2833 & C85 & C \\\\\n",
       "\t3 & 3 & 1 & 3 & Heikkinen, Miss. Laina & female & 26.0 & 0 & 0 & STON/O2. 3101282 & 7.925 & \\emph{missing} & S \\\\\n",
       "\t4 & 4 & 1 & 1 & Futrelle, Mrs. Jacques Heath (Lily May Peel) & female & 35.0 & 1 & 0 & 113803 & 53.1 & C123 & S \\\\\n",
       "\t5 & 5 & 0 & 3 & Allen, Mr. William Henry & male & 35.0 & 0 & 0 & 373450 & 8.05 & \\emph{missing} & S \\\\\n",
       "\\end{tabular}\n"
      ],
      "text/plain": [
       "\u001b[1m5×12 DataFrame\u001b[0m\n",
       "\u001b[1m Row \u001b[0m│\u001b[1m PassengerId \u001b[0m\u001b[1m Survived \u001b[0m\u001b[1m Pclass \u001b[0m\u001b[1m Name                              \u001b[0m\u001b[1m Sex     \u001b[0m\u001b[1m Age      \u001b[0m\u001b[1m SibSp \u001b[0m\u001b[1m Parch \u001b[0m\u001b[1m Ticket           \u001b[0m\u001b[1m Fare    \u001b[0m\u001b[1m Cabin     \u001b[0m\u001b[1m Embarked \u001b[0m\n",
       "\u001b[1m     \u001b[0m│\u001b[90m Int64       \u001b[0m\u001b[90m Int64    \u001b[0m\u001b[90m Int64  \u001b[0m\u001b[90m String                            \u001b[0m\u001b[90m String7 \u001b[0m\u001b[90m Float64? \u001b[0m\u001b[90m Int64 \u001b[0m\u001b[90m Int64 \u001b[0m\u001b[90m String31         \u001b[0m\u001b[90m Float64 \u001b[0m\u001b[90m String15? \u001b[0m\u001b[90m String1? \u001b[0m\n",
       "─────┼───────────────────────────────────────────────────────────────────────────────────────────────────────────────────────────────────────────────────\n",
       "   1 │           1         0       3  Braund, Mr. Owen Harris            male         22.0      1      0  A/5 21171          7.25   \u001b[90m missing   \u001b[0m S\n",
       "   2 │           2         1       1  Cumings, Mrs. John Bradley (Flor…  female       38.0      1      0  PC 17599          71.2833  C85        C\n",
       "   3 │           3         1       3  Heikkinen, Miss. Laina             female       26.0      0      0  STON/O2. 3101282   7.925  \u001b[90m missing   \u001b[0m S\n",
       "   4 │           4         1       1  Futrelle, Mrs. Jacques Heath (Li…  female       35.0      1      0  113803            53.1     C123       S\n",
       "   5 │           5         0       3  Allen, Mr. William Henry           male         35.0      0      0  373450             8.05   \u001b[90m missing   \u001b[0m S"
      ]
     },
     "execution_count": 3,
     "metadata": {},
     "output_type": "execute_result"
    }
   ],
   "source": [
    "first(df,5)"
   ]
  },
  {
   "cell_type": "code",
   "execution_count": 123,
   "metadata": {},
   "outputs": [
    {
     "ename": "LoadError",
     "evalue": "The backend must not support the series type Val{:model}, and there isn't a series recipe defined.",
     "output_type": "error",
     "traceback": [
      "The backend must not support the series type Val{:model}, and there isn't a series recipe defined.",
      "",
      "Stacktrace:",
      "  [1] error(s::String)",
      "    @ Base ./error.jl:33",
      "  [2] macro expansion",
      "    @ ~/.julia/packages/RecipesPipeline/7ijBv/src/type_recipe.jl:9 [inlined]",
      "  [3] apply_recipe(plotattributes::AbstractDict{Symbol, Any}, #unused#::Type{Val{:model}}, x::Any, y::Any, z::Any)",
      "    @ RecipesPipeline ~/.julia/packages/RecipesBase/qpxEX/src/RecipesBase.jl:289",
      "  [4] _process_seriesrecipe(plt::Any, plotattributes::Any)",
      "    @ RecipesPipeline ~/.julia/packages/RecipesPipeline/7ijBv/src/series_recipe.jl:50",
      "  [5] _process_seriesrecipes!(plt::Any, kw_list::Any)",
      "    @ RecipesPipeline ~/.julia/packages/RecipesPipeline/7ijBv/src/series_recipe.jl:27",
      "  [6] recipe_pipeline!(plt::Any, plotattributes::Any, args::Any)",
      "    @ RecipesPipeline ~/.julia/packages/RecipesPipeline/7ijBv/src/RecipesPipeline.jl:97",
      "  [7] _plot!(plt::Plots.Plot, plotattributes::Any, args::Any)",
      "    @ Plots ~/.julia/packages/Plots/4oFWe/src/plot.jl:208",
      "  [8] plot(::Any, ::Vararg{Any}; kw::Base.Pairs{Symbol, V, Tuple{Vararg{Symbol, N}}, NamedTuple{names, T}} where {V, N, names, T<:Tuple{Vararg{Any, N}}})",
      "    @ Plots ~/.julia/packages/Plots/4oFWe/src/plot.jl:91",
      "  [9] top-level scope",
      "    @ In[123]:2",
      " [10] eval",
      "    @ ./boot.jl:373 [inlined]",
      " [11] include_string(mapexpr::typeof(REPL.softscope), mod::Module, code::String, filename::String)",
      "    @ Base ./loading.jl:1196"
     ]
    }
   ],
   "source": [
    "using Plots\n",
    "plot(test.Age, predict(model), seriestype = :model) "
   ]
  },
  {
   "cell_type": "code",
   "execution_count": 124,
   "metadata": {},
   "outputs": [
    {
     "data": {
      "image/svg+xml": [
       "<?xml version=\"1.0\" encoding=\"utf-8\"?>\n",
       "<svg xmlns=\"http://www.w3.org/2000/svg\" xmlns:xlink=\"http://www.w3.org/1999/xlink\" width=\"600\" height=\"400\" viewBox=\"0 0 2400 1600\">\n",
       "<defs>\n",
       "  <clipPath id=\"clip740\">\n",
       "    <rect x=\"0\" y=\"0\" width=\"2400\" height=\"1600\"/>\n",
       "  </clipPath>\n",
       "</defs>\n",
       "<path clip-path=\"url(#clip740)\" d=\"\n",
       "M0 1600 L2400 1600 L2400 0 L0 0  Z\n",
       "  \" fill=\"#ffffff\" fill-rule=\"evenodd\" fill-opacity=\"1\"/>\n",
       "<defs>\n",
       "  <clipPath id=\"clip741\">\n",
       "    <rect x=\"480\" y=\"0\" width=\"1681\" height=\"1600\"/>\n",
       "  </clipPath>\n",
       "</defs>\n",
       "<path clip-path=\"url(#clip740)\" d=\"\n",
       "M169.121 1486.45 L2352.76 1486.45 L2352.76 47.2441 L169.121 47.2441  Z\n",
       "  \" fill=\"#ffffff\" fill-rule=\"evenodd\" fill-opacity=\"1\"/>\n",
       "<defs>\n",
       "  <clipPath id=\"clip742\">\n",
       "    <rect x=\"169\" y=\"47\" width=\"2185\" height=\"1440\"/>\n",
       "  </clipPath>\n",
       "</defs>\n",
       "<polyline clip-path=\"url(#clip742)\" style=\"stroke:#000000; stroke-linecap:butt; stroke-linejoin:round; stroke-width:2; stroke-opacity:0.1; fill:none\" points=\"\n",
       "  221.205,1486.45 221.205,47.2441 \n",
       "  \"/>\n",
       "<polyline clip-path=\"url(#clip742)\" style=\"stroke:#000000; stroke-linecap:butt; stroke-linejoin:round; stroke-width:2; stroke-opacity:0.1; fill:none\" points=\"\n",
       "  707.062,1486.45 707.062,47.2441 \n",
       "  \"/>\n",
       "<polyline clip-path=\"url(#clip742)\" style=\"stroke:#000000; stroke-linecap:butt; stroke-linejoin:round; stroke-width:2; stroke-opacity:0.1; fill:none\" points=\"\n",
       "  1192.92,1486.45 1192.92,47.2441 \n",
       "  \"/>\n",
       "<polyline clip-path=\"url(#clip742)\" style=\"stroke:#000000; stroke-linecap:butt; stroke-linejoin:round; stroke-width:2; stroke-opacity:0.1; fill:none\" points=\"\n",
       "  1678.78,1486.45 1678.78,47.2441 \n",
       "  \"/>\n",
       "<polyline clip-path=\"url(#clip742)\" style=\"stroke:#000000; stroke-linecap:butt; stroke-linejoin:round; stroke-width:2; stroke-opacity:0.1; fill:none\" points=\"\n",
       "  2164.63,1486.45 2164.63,47.2441 \n",
       "  \"/>\n",
       "<polyline clip-path=\"url(#clip740)\" style=\"stroke:#000000; stroke-linecap:butt; stroke-linejoin:round; stroke-width:4; stroke-opacity:1; fill:none\" points=\"\n",
       "  169.121,1486.45 2352.76,1486.45 \n",
       "  \"/>\n",
       "<polyline clip-path=\"url(#clip740)\" style=\"stroke:#000000; stroke-linecap:butt; stroke-linejoin:round; stroke-width:4; stroke-opacity:1; fill:none\" points=\"\n",
       "  221.205,1486.45 221.205,1467.55 \n",
       "  \"/>\n",
       "<polyline clip-path=\"url(#clip740)\" style=\"stroke:#000000; stroke-linecap:butt; stroke-linejoin:round; stroke-width:4; stroke-opacity:1; fill:none\" points=\"\n",
       "  707.062,1486.45 707.062,1467.55 \n",
       "  \"/>\n",
       "<polyline clip-path=\"url(#clip740)\" style=\"stroke:#000000; stroke-linecap:butt; stroke-linejoin:round; stroke-width:4; stroke-opacity:1; fill:none\" points=\"\n",
       "  1192.92,1486.45 1192.92,1467.55 \n",
       "  \"/>\n",
       "<polyline clip-path=\"url(#clip740)\" style=\"stroke:#000000; stroke-linecap:butt; stroke-linejoin:round; stroke-width:4; stroke-opacity:1; fill:none\" points=\"\n",
       "  1678.78,1486.45 1678.78,1467.55 \n",
       "  \"/>\n",
       "<polyline clip-path=\"url(#clip740)\" style=\"stroke:#000000; stroke-linecap:butt; stroke-linejoin:round; stroke-width:4; stroke-opacity:1; fill:none\" points=\"\n",
       "  2164.63,1486.45 2164.63,1467.55 \n",
       "  \"/>\n",
       "<path clip-path=\"url(#clip740)\" d=\"M221.205 1517.37 Q217.594 1517.37 215.765 1520.93 Q213.96 1524.47 213.96 1531.6 Q213.96 1538.71 215.765 1542.27 Q217.594 1545.82 221.205 1545.82 Q224.839 1545.82 226.645 1542.27 Q228.474 1538.71 228.474 1531.6 Q228.474 1524.47 226.645 1520.93 Q224.839 1517.37 221.205 1517.37 M221.205 1513.66 Q227.015 1513.66 230.071 1518.27 Q233.15 1522.85 233.15 1531.6 Q233.15 1540.33 230.071 1544.94 Q227.015 1549.52 221.205 1549.52 Q215.395 1549.52 212.316 1544.94 Q209.261 1540.33 209.261 1531.6 Q209.261 1522.85 212.316 1518.27 Q215.395 1513.66 221.205 1513.66 Z\" fill=\"#000000\" fill-rule=\"evenodd\" fill-opacity=\"1\" /><path clip-path=\"url(#clip740)\" d=\"M681.761 1514.29 L700.118 1514.29 L700.118 1518.22 L686.044 1518.22 L686.044 1526.7 Q687.062 1526.35 688.081 1526.19 Q689.099 1526 690.118 1526 Q695.905 1526 699.284 1529.17 Q702.664 1532.34 702.664 1537.76 Q702.664 1543.34 699.192 1546.44 Q695.719 1549.52 689.4 1549.52 Q687.224 1549.52 684.956 1549.15 Q682.71 1548.78 680.303 1548.04 L680.303 1543.34 Q682.386 1544.47 684.608 1545.03 Q686.831 1545.58 689.307 1545.58 Q693.312 1545.58 695.65 1543.48 Q697.988 1541.37 697.988 1537.76 Q697.988 1534.15 695.65 1532.04 Q693.312 1529.94 689.307 1529.94 Q687.432 1529.94 685.557 1530.35 Q683.706 1530.77 681.761 1531.65 L681.761 1514.29 Z\" fill=\"#000000\" fill-rule=\"evenodd\" fill-opacity=\"1\" /><path clip-path=\"url(#clip740)\" d=\"M721.877 1517.37 Q718.266 1517.37 716.437 1520.93 Q714.631 1524.47 714.631 1531.6 Q714.631 1538.71 716.437 1542.27 Q718.266 1545.82 721.877 1545.82 Q725.511 1545.82 727.316 1542.27 Q729.145 1538.71 729.145 1531.6 Q729.145 1524.47 727.316 1520.93 Q725.511 1517.37 721.877 1517.37 M721.877 1513.66 Q727.687 1513.66 730.742 1518.27 Q733.821 1522.85 733.821 1531.6 Q733.821 1540.33 730.742 1544.94 Q727.687 1549.52 721.877 1549.52 Q716.066 1549.52 712.988 1544.94 Q709.932 1540.33 709.932 1531.6 Q709.932 1522.85 712.988 1518.27 Q716.066 1513.66 721.877 1513.66 Z\" fill=\"#000000\" fill-rule=\"evenodd\" fill-opacity=\"1\" /><path clip-path=\"url(#clip740)\" d=\"M1152.53 1544.91 L1160.16 1544.91 L1160.16 1518.55 L1151.85 1520.21 L1151.85 1515.95 L1160.12 1514.29 L1164.79 1514.29 L1164.79 1544.91 L1172.43 1544.91 L1172.43 1548.85 L1152.53 1548.85 L1152.53 1544.91 Z\" fill=\"#000000\" fill-rule=\"evenodd\" fill-opacity=\"1\" /><path clip-path=\"url(#clip740)\" d=\"M1191.88 1517.37 Q1188.27 1517.37 1186.44 1520.93 Q1184.63 1524.47 1184.63 1531.6 Q1184.63 1538.71 1186.44 1542.27 Q1188.27 1545.82 1191.88 1545.82 Q1195.51 1545.82 1197.32 1542.27 Q1199.15 1538.71 1199.15 1531.6 Q1199.15 1524.47 1197.32 1520.93 Q1195.51 1517.37 1191.88 1517.37 M1191.88 1513.66 Q1197.69 1513.66 1200.74 1518.27 Q1203.82 1522.85 1203.82 1531.6 Q1203.82 1540.33 1200.74 1544.94 Q1197.69 1549.52 1191.88 1549.52 Q1186.07 1549.52 1182.99 1544.94 Q1179.93 1540.33 1179.93 1531.6 Q1179.93 1522.85 1182.99 1518.27 Q1186.07 1513.66 1191.88 1513.66 Z\" fill=\"#000000\" fill-rule=\"evenodd\" fill-opacity=\"1\" /><path clip-path=\"url(#clip740)\" d=\"M1222.04 1517.37 Q1218.43 1517.37 1216.6 1520.93 Q1214.79 1524.47 1214.79 1531.6 Q1214.79 1538.71 1216.6 1542.27 Q1218.43 1545.82 1222.04 1545.82 Q1225.67 1545.82 1227.48 1542.27 Q1229.31 1538.71 1229.31 1531.6 Q1229.31 1524.47 1227.48 1520.93 Q1225.67 1517.37 1222.04 1517.37 M1222.04 1513.66 Q1227.85 1513.66 1230.9 1518.27 Q1233.98 1522.85 1233.98 1531.6 Q1233.98 1540.33 1230.9 1544.94 Q1227.85 1549.52 1222.04 1549.52 Q1216.23 1549.52 1213.15 1544.94 Q1210.09 1540.33 1210.09 1531.6 Q1210.09 1522.85 1213.15 1518.27 Q1216.23 1513.66 1222.04 1513.66 Z\" fill=\"#000000\" fill-rule=\"evenodd\" fill-opacity=\"1\" /><path clip-path=\"url(#clip740)\" d=\"M1638.38 1544.91 L1646.02 1544.91 L1646.02 1518.55 L1637.71 1520.21 L1637.71 1515.95 L1645.97 1514.29 L1650.65 1514.29 L1650.65 1544.91 L1658.29 1544.91 L1658.29 1548.85 L1638.38 1548.85 L1638.38 1544.91 Z\" fill=\"#000000\" fill-rule=\"evenodd\" fill-opacity=\"1\" /><path clip-path=\"url(#clip740)\" d=\"M1667.78 1514.29 L1686.14 1514.29 L1686.14 1518.22 L1672.06 1518.22 L1672.06 1526.7 Q1673.08 1526.35 1674.1 1526.19 Q1675.12 1526 1676.14 1526 Q1681.92 1526 1685.3 1529.17 Q1688.68 1532.34 1688.68 1537.76 Q1688.68 1543.34 1685.21 1546.44 Q1681.74 1549.52 1675.42 1549.52 Q1673.24 1549.52 1670.97 1549.15 Q1668.73 1548.78 1666.32 1548.04 L1666.32 1543.34 Q1668.41 1544.47 1670.63 1545.03 Q1672.85 1545.58 1675.33 1545.58 Q1679.33 1545.58 1681.67 1543.48 Q1684.01 1541.37 1684.01 1537.76 Q1684.01 1534.15 1681.67 1532.04 Q1679.33 1529.94 1675.33 1529.94 Q1673.45 1529.94 1671.58 1530.35 Q1669.72 1530.77 1667.78 1531.65 L1667.78 1514.29 Z\" fill=\"#000000\" fill-rule=\"evenodd\" fill-opacity=\"1\" /><path clip-path=\"url(#clip740)\" d=\"M1707.9 1517.37 Q1704.28 1517.37 1702.46 1520.93 Q1700.65 1524.47 1700.65 1531.6 Q1700.65 1538.71 1702.46 1542.27 Q1704.28 1545.82 1707.9 1545.82 Q1711.53 1545.82 1713.34 1542.27 Q1715.16 1538.71 1715.16 1531.6 Q1715.16 1524.47 1713.34 1520.93 Q1711.53 1517.37 1707.9 1517.37 M1707.9 1513.66 Q1713.71 1513.66 1716.76 1518.27 Q1719.84 1522.85 1719.84 1531.6 Q1719.84 1540.33 1716.76 1544.94 Q1713.71 1549.52 1707.9 1549.52 Q1702.09 1549.52 1699.01 1544.94 Q1695.95 1540.33 1695.95 1531.6 Q1695.95 1522.85 1699.01 1518.27 Q1702.09 1513.66 1707.9 1513.66 Z\" fill=\"#000000\" fill-rule=\"evenodd\" fill-opacity=\"1\" /><path clip-path=\"url(#clip740)\" d=\"M2128.32 1544.91 L2144.64 1544.91 L2144.64 1548.85 L2122.7 1548.85 L2122.7 1544.91 Q2125.36 1542.16 2129.94 1537.53 Q2134.55 1532.88 2135.73 1531.53 Q2137.98 1529.01 2138.86 1527.27 Q2139.76 1525.51 2139.76 1523.82 Q2139.76 1521.07 2137.82 1519.33 Q2135.89 1517.6 2132.79 1517.6 Q2130.59 1517.6 2128.14 1518.36 Q2125.71 1519.13 2122.93 1520.68 L2122.93 1515.95 Q2125.76 1514.82 2128.21 1514.24 Q2130.66 1513.66 2132.7 1513.66 Q2138.07 1513.66 2141.26 1516.35 Q2144.46 1519.03 2144.46 1523.52 Q2144.46 1525.65 2143.65 1527.57 Q2142.86 1529.47 2140.75 1532.07 Q2140.18 1532.74 2137.07 1535.95 Q2133.97 1539.15 2128.32 1544.91 Z\" fill=\"#000000\" fill-rule=\"evenodd\" fill-opacity=\"1\" /><path clip-path=\"url(#clip740)\" d=\"M2164.46 1517.37 Q2160.85 1517.37 2159.02 1520.93 Q2157.21 1524.47 2157.21 1531.6 Q2157.21 1538.71 2159.02 1542.27 Q2160.85 1545.82 2164.46 1545.82 Q2168.09 1545.82 2169.9 1542.27 Q2171.73 1538.71 2171.73 1531.6 Q2171.73 1524.47 2169.9 1520.93 Q2168.09 1517.37 2164.46 1517.37 M2164.46 1513.66 Q2170.27 1513.66 2173.32 1518.27 Q2176.4 1522.85 2176.4 1531.6 Q2176.4 1540.33 2173.32 1544.94 Q2170.27 1549.52 2164.46 1549.52 Q2158.65 1549.52 2155.57 1544.94 Q2152.51 1540.33 2152.51 1531.6 Q2152.51 1522.85 2155.57 1518.27 Q2158.65 1513.66 2164.46 1513.66 Z\" fill=\"#000000\" fill-rule=\"evenodd\" fill-opacity=\"1\" /><path clip-path=\"url(#clip740)\" d=\"M2194.62 1517.37 Q2191.01 1517.37 2189.18 1520.93 Q2187.38 1524.47 2187.38 1531.6 Q2187.38 1538.71 2189.18 1542.27 Q2191.01 1545.82 2194.62 1545.82 Q2198.25 1545.82 2200.06 1542.27 Q2201.89 1538.71 2201.89 1531.6 Q2201.89 1524.47 2200.06 1520.93 Q2198.25 1517.37 2194.62 1517.37 M2194.62 1513.66 Q2200.43 1513.66 2203.49 1518.27 Q2206.56 1522.85 2206.56 1531.6 Q2206.56 1540.33 2203.49 1544.94 Q2200.43 1549.52 2194.62 1549.52 Q2188.81 1549.52 2185.73 1544.94 Q2182.68 1540.33 2182.68 1531.6 Q2182.68 1522.85 2185.73 1518.27 Q2188.81 1513.66 2194.62 1513.66 Z\" fill=\"#000000\" fill-rule=\"evenodd\" fill-opacity=\"1\" /><polyline clip-path=\"url(#clip742)\" style=\"stroke:#000000; stroke-linecap:butt; stroke-linejoin:round; stroke-width:2; stroke-opacity:0.1; fill:none\" points=\"\n",
       "  169.121,1456.03 2352.76,1456.03 \n",
       "  \"/>\n",
       "<polyline clip-path=\"url(#clip742)\" style=\"stroke:#000000; stroke-linecap:butt; stroke-linejoin:round; stroke-width:2; stroke-opacity:0.1; fill:none\" points=\"\n",
       "  169.121,1112.3 2352.76,1112.3 \n",
       "  \"/>\n",
       "<polyline clip-path=\"url(#clip742)\" style=\"stroke:#000000; stroke-linecap:butt; stroke-linejoin:round; stroke-width:2; stroke-opacity:0.1; fill:none\" points=\"\n",
       "  169.121,768.565 2352.76,768.565 \n",
       "  \"/>\n",
       "<polyline clip-path=\"url(#clip742)\" style=\"stroke:#000000; stroke-linecap:butt; stroke-linejoin:round; stroke-width:2; stroke-opacity:0.1; fill:none\" points=\"\n",
       "  169.121,424.833 2352.76,424.833 \n",
       "  \"/>\n",
       "<polyline clip-path=\"url(#clip742)\" style=\"stroke:#000000; stroke-linecap:butt; stroke-linejoin:round; stroke-width:2; stroke-opacity:0.1; fill:none\" points=\"\n",
       "  169.121,81.1016 2352.76,81.1016 \n",
       "  \"/>\n",
       "<polyline clip-path=\"url(#clip740)\" style=\"stroke:#000000; stroke-linecap:butt; stroke-linejoin:round; stroke-width:4; stroke-opacity:1; fill:none\" points=\"\n",
       "  169.121,1486.45 169.121,47.2441 \n",
       "  \"/>\n",
       "<polyline clip-path=\"url(#clip740)\" style=\"stroke:#000000; stroke-linecap:butt; stroke-linejoin:round; stroke-width:4; stroke-opacity:1; fill:none\" points=\"\n",
       "  169.121,1456.03 188.019,1456.03 \n",
       "  \"/>\n",
       "<polyline clip-path=\"url(#clip740)\" style=\"stroke:#000000; stroke-linecap:butt; stroke-linejoin:round; stroke-width:4; stroke-opacity:1; fill:none\" points=\"\n",
       "  169.121,1112.3 188.019,1112.3 \n",
       "  \"/>\n",
       "<polyline clip-path=\"url(#clip740)\" style=\"stroke:#000000; stroke-linecap:butt; stroke-linejoin:round; stroke-width:4; stroke-opacity:1; fill:none\" points=\"\n",
       "  169.121,768.565 188.019,768.565 \n",
       "  \"/>\n",
       "<polyline clip-path=\"url(#clip740)\" style=\"stroke:#000000; stroke-linecap:butt; stroke-linejoin:round; stroke-width:4; stroke-opacity:1; fill:none\" points=\"\n",
       "  169.121,424.833 188.019,424.833 \n",
       "  \"/>\n",
       "<polyline clip-path=\"url(#clip740)\" style=\"stroke:#000000; stroke-linecap:butt; stroke-linejoin:round; stroke-width:4; stroke-opacity:1; fill:none\" points=\"\n",
       "  169.121,81.1016 188.019,81.1016 \n",
       "  \"/>\n",
       "<path clip-path=\"url(#clip740)\" d=\"M121.177 1441.83 Q117.566 1441.83 115.737 1445.39 Q113.932 1448.93 113.932 1456.06 Q113.932 1463.17 115.737 1466.73 Q117.566 1470.28 121.177 1470.28 Q124.811 1470.28 126.617 1466.73 Q128.445 1463.17 128.445 1456.06 Q128.445 1448.93 126.617 1445.39 Q124.811 1441.83 121.177 1441.83 M121.177 1438.12 Q126.987 1438.12 130.043 1442.73 Q133.121 1447.31 133.121 1456.06 Q133.121 1464.79 130.043 1469.4 Q126.987 1473.98 121.177 1473.98 Q115.367 1473.98 112.288 1469.4 Q109.233 1464.79 109.233 1456.06 Q109.233 1447.31 112.288 1442.73 Q115.367 1438.12 121.177 1438.12 Z\" fill=\"#000000\" fill-rule=\"evenodd\" fill-opacity=\"1\" /><path clip-path=\"url(#clip740)\" d=\"M86.0382 1125.64 L102.358 1125.64 L102.358 1129.58 L80.4133 1129.58 L80.4133 1125.64 Q83.0753 1122.89 87.6586 1118.26 Q92.2651 1113.6 93.4456 1112.26 Q95.691 1109.74 96.5706 1108 Q97.4734 1106.24 97.4734 1104.55 Q97.4734 1101.8 95.5289 1100.06 Q93.6076 1098.33 90.5058 1098.33 Q88.3067 1098.33 85.8531 1099.09 Q83.4225 1099.85 80.6447 1101.4 L80.6447 1096.68 Q83.4688 1095.55 85.9225 1094.97 Q88.3762 1094.39 90.4132 1094.39 Q95.7836 1094.39 98.978 1097.08 Q102.172 1099.76 102.172 1104.25 Q102.172 1106.38 101.362 1108.3 Q100.575 1110.2 98.4687 1112.79 Q97.89 1113.47 94.7882 1116.68 Q91.6864 1119.88 86.0382 1125.64 Z\" fill=\"#000000\" fill-rule=\"evenodd\" fill-opacity=\"1\" /><path clip-path=\"url(#clip740)\" d=\"M112.219 1095.02 L130.575 1095.02 L130.575 1098.95 L116.501 1098.95 L116.501 1107.42 Q117.52 1107.08 118.538 1106.91 Q119.557 1106.73 120.575 1106.73 Q126.362 1106.73 129.742 1109.9 Q133.121 1113.07 133.121 1118.49 Q133.121 1124.07 129.649 1127.17 Q126.177 1130.25 119.857 1130.25 Q117.682 1130.25 115.413 1129.88 Q113.168 1129.51 110.76 1128.77 L110.76 1124.07 Q112.844 1125.2 115.066 1125.76 Q117.288 1126.31 119.765 1126.31 Q123.77 1126.31 126.107 1124.21 Q128.445 1122.1 128.445 1118.49 Q128.445 1114.88 126.107 1112.77 Q123.77 1110.66 119.765 1110.66 Q117.89 1110.66 116.015 1111.08 Q114.163 1111.5 112.219 1112.38 L112.219 1095.02 Z\" fill=\"#000000\" fill-rule=\"evenodd\" fill-opacity=\"1\" /><path clip-path=\"url(#clip740)\" d=\"M81.0614 751.285 L99.4178 751.285 L99.4178 755.22 L85.3438 755.22 L85.3438 763.692 Q86.3623 763.345 87.3808 763.183 Q88.3993 762.998 89.4178 762.998 Q95.2049 762.998 98.5845 766.169 Q101.964 769.34 101.964 774.757 Q101.964 780.335 98.4919 783.437 Q95.0197 786.516 88.7003 786.516 Q86.5243 786.516 84.2558 786.146 Q82.0105 785.775 79.6031 785.034 L79.6031 780.335 Q81.6864 781.47 83.9086 782.025 Q86.1308 782.581 88.6077 782.581 Q92.6123 782.581 94.9502 780.474 Q97.2882 778.368 97.2882 774.757 Q97.2882 771.146 94.9502 769.039 Q92.6123 766.933 88.6077 766.933 Q86.7327 766.933 84.8577 767.349 Q83.0058 767.766 81.0614 768.646 L81.0614 751.285 Z\" fill=\"#000000\" fill-rule=\"evenodd\" fill-opacity=\"1\" /><path clip-path=\"url(#clip740)\" d=\"M121.177 754.363 Q117.566 754.363 115.737 757.928 Q113.932 761.47 113.932 768.599 Q113.932 775.706 115.737 779.271 Q117.566 782.812 121.177 782.812 Q124.811 782.812 126.617 779.271 Q128.445 775.706 128.445 768.599 Q128.445 761.47 126.617 757.928 Q124.811 754.363 121.177 754.363 M121.177 750.66 Q126.987 750.66 130.043 755.266 Q133.121 759.849 133.121 768.599 Q133.121 777.326 130.043 781.933 Q126.987 786.516 121.177 786.516 Q115.367 786.516 112.288 781.933 Q109.233 777.326 109.233 768.599 Q109.233 759.849 112.288 755.266 Q115.367 750.66 121.177 750.66 Z\" fill=\"#000000\" fill-rule=\"evenodd\" fill-opacity=\"1\" /><path clip-path=\"url(#clip740)\" d=\"M80.8299 407.553 L103.052 407.553 L103.052 409.544 L90.5058 442.113 L85.6216 442.113 L97.4271 411.488 L80.8299 411.488 L80.8299 407.553 Z\" fill=\"#000000\" fill-rule=\"evenodd\" fill-opacity=\"1\" /><path clip-path=\"url(#clip740)\" d=\"M112.219 407.553 L130.575 407.553 L130.575 411.488 L116.501 411.488 L116.501 419.96 Q117.52 419.613 118.538 419.451 Q119.557 419.266 120.575 419.266 Q126.362 419.266 129.742 422.437 Q133.121 425.609 133.121 431.025 Q133.121 436.604 129.649 439.706 Q126.177 442.784 119.857 442.784 Q117.682 442.784 115.413 442.414 Q113.168 442.044 110.76 441.303 L110.76 436.604 Q112.844 437.738 115.066 438.294 Q117.288 438.849 119.765 438.849 Q123.77 438.849 126.107 436.743 Q128.445 434.636 128.445 431.025 Q128.445 427.414 126.107 425.308 Q123.77 423.201 119.765 423.201 Q117.89 423.201 116.015 423.618 Q114.163 424.035 112.219 424.914 L112.219 407.553 Z\" fill=\"#000000\" fill-rule=\"evenodd\" fill-opacity=\"1\" /><path clip-path=\"url(#clip740)\" d=\"M51.6634 94.4465 L59.3023 94.4465 L59.3023 68.0809 L50.9921 69.7475 L50.9921 65.4883 L59.256 63.8216 L63.9319 63.8216 L63.9319 94.4465 L71.5707 94.4465 L71.5707 98.3816 L51.6634 98.3816 L51.6634 94.4465 Z\" fill=\"#000000\" fill-rule=\"evenodd\" fill-opacity=\"1\" /><path clip-path=\"url(#clip740)\" d=\"M91.0151 66.9003 Q87.404 66.9003 85.5753 70.4651 Q83.7697 74.0068 83.7697 81.1364 Q83.7697 88.2428 85.5753 91.8076 Q87.404 95.3493 91.0151 95.3493 Q94.6493 95.3493 96.4548 91.8076 Q98.2835 88.2428 98.2835 81.1364 Q98.2835 74.0068 96.4548 70.4651 Q94.6493 66.9003 91.0151 66.9003 M91.0151 63.1967 Q96.8252 63.1967 99.8808 67.8031 Q102.959 72.3864 102.959 81.1364 Q102.959 89.8632 99.8808 94.4696 Q96.8252 99.0529 91.0151 99.0529 Q85.2049 99.0529 82.1262 94.4696 Q79.0707 89.8632 79.0707 81.1364 Q79.0707 72.3864 82.1262 67.8031 Q85.2049 63.1967 91.0151 63.1967 Z\" fill=\"#000000\" fill-rule=\"evenodd\" fill-opacity=\"1\" /><path clip-path=\"url(#clip740)\" d=\"M121.177 66.9003 Q117.566 66.9003 115.737 70.4651 Q113.932 74.0068 113.932 81.1364 Q113.932 88.2428 115.737 91.8076 Q117.566 95.3493 121.177 95.3493 Q124.811 95.3493 126.617 91.8076 Q128.445 88.2428 128.445 81.1364 Q128.445 74.0068 126.617 70.4651 Q124.811 66.9003 121.177 66.9003 M121.177 63.1967 Q126.987 63.1967 130.043 67.8031 Q133.121 72.3864 133.121 81.1364 Q133.121 89.8632 130.043 94.4696 Q126.987 99.0529 121.177 99.0529 Q115.367 99.0529 112.288 94.4696 Q109.233 89.8632 109.233 81.1364 Q109.233 72.3864 112.288 67.8031 Q115.367 63.1967 121.177 63.1967 Z\" fill=\"#000000\" fill-rule=\"evenodd\" fill-opacity=\"1\" /><circle clip-path=\"url(#clip742)\" cx=\"230.922\" cy=\"974.804\" r=\"14\" fill=\"#009af9\" fill-rule=\"evenodd\" fill-opacity=\"1\" stroke=\"#000000\" stroke-opacity=\"1\" stroke-width=\"3.2\"/>\n",
       "<circle clip-path=\"url(#clip742)\" cx=\"240.639\" cy=\"1084.8\" r=\"14\" fill=\"#009af9\" fill-rule=\"evenodd\" fill-opacity=\"1\" stroke=\"#000000\" stroke-opacity=\"1\" stroke-width=\"3.2\"/>\n",
       "<circle clip-path=\"url(#clip742)\" cx=\"250.357\" cy=\"1263.54\" r=\"14\" fill=\"#009af9\" fill-rule=\"evenodd\" fill-opacity=\"1\" stroke=\"#000000\" stroke-opacity=\"1\" stroke-width=\"3.2\"/>\n",
       "<circle clip-path=\"url(#clip742)\" cx=\"260.074\" cy=\"699.818\" r=\"14\" fill=\"#009af9\" fill-rule=\"evenodd\" fill-opacity=\"1\" stroke=\"#000000\" stroke-opacity=\"1\" stroke-width=\"3.2\"/>\n",
       "<circle clip-path=\"url(#clip742)\" cx=\"269.791\" cy=\"87.9763\" r=\"14\" fill=\"#009af9\" fill-rule=\"evenodd\" fill-opacity=\"1\" stroke=\"#000000\" stroke-opacity=\"1\" stroke-width=\"3.2\"/>\n",
       "<circle clip-path=\"url(#clip742)\" cx=\"279.508\" cy=\"1029.8\" r=\"14\" fill=\"#009af9\" fill-rule=\"evenodd\" fill-opacity=\"1\" stroke=\"#000000\" stroke-opacity=\"1\" stroke-width=\"3.2\"/>\n",
       "<circle clip-path=\"url(#clip742)\" cx=\"289.225\" cy=\"1249.79\" r=\"14\" fill=\"#009af9\" fill-rule=\"evenodd\" fill-opacity=\"1\" stroke=\"#000000\" stroke-opacity=\"1\" stroke-width=\"3.2\"/>\n",
       "<circle clip-path=\"url(#clip742)\" cx=\"298.942\" cy=\"933.556\" r=\"14\" fill=\"#009af9\" fill-rule=\"evenodd\" fill-opacity=\"1\" stroke=\"#000000\" stroke-opacity=\"1\" stroke-width=\"3.2\"/>\n",
       "<circle clip-path=\"url(#clip742)\" cx=\"308.659\" cy=\"906.057\" r=\"14\" fill=\"#009af9\" fill-rule=\"evenodd\" fill-opacity=\"1\" stroke=\"#000000\" stroke-opacity=\"1\" stroke-width=\"3.2\"/>\n",
       "<circle clip-path=\"url(#clip742)\" cx=\"318.377\" cy=\"87.9763\" r=\"14\" fill=\"#009af9\" fill-rule=\"evenodd\" fill-opacity=\"1\" stroke=\"#000000\" stroke-opacity=\"1\" stroke-width=\"3.2\"/>\n",
       "<circle clip-path=\"url(#clip742)\" cx=\"328.094\" cy=\"878.559\" r=\"14\" fill=\"#009af9\" fill-rule=\"evenodd\" fill-opacity=\"1\" stroke=\"#000000\" stroke-opacity=\"1\" stroke-width=\"3.2\"/>\n",
       "<circle clip-path=\"url(#clip742)\" cx=\"337.811\" cy=\"87.9763\" r=\"14\" fill=\"#009af9\" fill-rule=\"evenodd\" fill-opacity=\"1\" stroke=\"#000000\" stroke-opacity=\"1\" stroke-width=\"3.2\"/>\n",
       "<circle clip-path=\"url(#clip742)\" cx=\"347.528\" cy=\"87.9763\" r=\"14\" fill=\"#009af9\" fill-rule=\"evenodd\" fill-opacity=\"1\" stroke=\"#000000\" stroke-opacity=\"1\" stroke-width=\"3.2\"/>\n",
       "<circle clip-path=\"url(#clip742)\" cx=\"357.245\" cy=\"87.9763\" r=\"14\" fill=\"#009af9\" fill-rule=\"evenodd\" fill-opacity=\"1\" stroke=\"#000000\" stroke-opacity=\"1\" stroke-width=\"3.2\"/>\n",
       "<circle clip-path=\"url(#clip742)\" cx=\"366.962\" cy=\"87.9763\" r=\"14\" fill=\"#009af9\" fill-rule=\"evenodd\" fill-opacity=\"1\" stroke=\"#000000\" stroke-opacity=\"1\" stroke-width=\"3.2\"/>\n",
       "<circle clip-path=\"url(#clip742)\" cx=\"376.679\" cy=\"1359.78\" r=\"14\" fill=\"#009af9\" fill-rule=\"evenodd\" fill-opacity=\"1\" stroke=\"#000000\" stroke-opacity=\"1\" stroke-width=\"3.2\"/>\n",
       "<circle clip-path=\"url(#clip742)\" cx=\"386.396\" cy=\"1167.29\" r=\"14\" fill=\"#009af9\" fill-rule=\"evenodd\" fill-opacity=\"1\" stroke=\"#000000\" stroke-opacity=\"1\" stroke-width=\"3.2\"/>\n",
       "<circle clip-path=\"url(#clip742)\" cx=\"396.114\" cy=\"1153.54\" r=\"14\" fill=\"#009af9\" fill-rule=\"evenodd\" fill-opacity=\"1\" stroke=\"#000000\" stroke-opacity=\"1\" stroke-width=\"3.2\"/>\n",
       "<circle clip-path=\"url(#clip742)\" cx=\"405.831\" cy=\"87.9763\" r=\"14\" fill=\"#009af9\" fill-rule=\"evenodd\" fill-opacity=\"1\" stroke=\"#000000\" stroke-opacity=\"1\" stroke-width=\"3.2\"/>\n",
       "<circle clip-path=\"url(#clip742)\" cx=\"415.548\" cy=\"1057.3\" r=\"14\" fill=\"#009af9\" fill-rule=\"evenodd\" fill-opacity=\"1\" stroke=\"#000000\" stroke-opacity=\"1\" stroke-width=\"3.2\"/>\n",
       "<circle clip-path=\"url(#clip742)\" cx=\"425.265\" cy=\"1098.55\" r=\"14\" fill=\"#009af9\" fill-rule=\"evenodd\" fill-opacity=\"1\" stroke=\"#000000\" stroke-opacity=\"1\" stroke-width=\"3.2\"/>\n",
       "<circle clip-path=\"url(#clip742)\" cx=\"434.982\" cy=\"1444.62\" r=\"14\" fill=\"#009af9\" fill-rule=\"evenodd\" fill-opacity=\"1\" stroke=\"#000000\" stroke-opacity=\"1\" stroke-width=\"3.2\"/>\n",
       "<circle clip-path=\"url(#clip742)\" cx=\"444.699\" cy=\"1153.54\" r=\"14\" fill=\"#009af9\" fill-rule=\"evenodd\" fill-opacity=\"1\" stroke=\"#000000\" stroke-opacity=\"1\" stroke-width=\"3.2\"/>\n",
       "<circle clip-path=\"url(#clip742)\" cx=\"454.416\" cy=\"1057.3\" r=\"14\" fill=\"#009af9\" fill-rule=\"evenodd\" fill-opacity=\"1\" stroke=\"#000000\" stroke-opacity=\"1\" stroke-width=\"3.2\"/>\n",
       "<circle clip-path=\"url(#clip742)\" cx=\"464.134\" cy=\"87.9763\" r=\"14\" fill=\"#009af9\" fill-rule=\"evenodd\" fill-opacity=\"1\" stroke=\"#000000\" stroke-opacity=\"1\" stroke-width=\"3.2\"/>\n",
       "<circle clip-path=\"url(#clip742)\" cx=\"473.851\" cy=\"1126.05\" r=\"14\" fill=\"#009af9\" fill-rule=\"evenodd\" fill-opacity=\"1\" stroke=\"#000000\" stroke-opacity=\"1\" stroke-width=\"3.2\"/>\n",
       "<circle clip-path=\"url(#clip742)\" cx=\"483.568\" cy=\"1057.3\" r=\"14\" fill=\"#009af9\" fill-rule=\"evenodd\" fill-opacity=\"1\" stroke=\"#000000\" stroke-opacity=\"1\" stroke-width=\"3.2\"/>\n",
       "<circle clip-path=\"url(#clip742)\" cx=\"493.285\" cy=\"1181.04\" r=\"14\" fill=\"#009af9\" fill-rule=\"evenodd\" fill-opacity=\"1\" stroke=\"#000000\" stroke-opacity=\"1\" stroke-width=\"3.2\"/>\n",
       "<circle clip-path=\"url(#clip742)\" cx=\"503.002\" cy=\"988.553\" r=\"14\" fill=\"#009af9\" fill-rule=\"evenodd\" fill-opacity=\"1\" stroke=\"#000000\" stroke-opacity=\"1\" stroke-width=\"3.2\"/>\n",
       "<circle clip-path=\"url(#clip742)\" cx=\"512.719\" cy=\"988.553\" r=\"14\" fill=\"#009af9\" fill-rule=\"evenodd\" fill-opacity=\"1\" stroke=\"#000000\" stroke-opacity=\"1\" stroke-width=\"3.2\"/>\n",
       "<circle clip-path=\"url(#clip742)\" cx=\"522.436\" cy=\"947.305\" r=\"14\" fill=\"#009af9\" fill-rule=\"evenodd\" fill-opacity=\"1\" stroke=\"#000000\" stroke-opacity=\"1\" stroke-width=\"3.2\"/>\n",
       "<circle clip-path=\"url(#clip742)\" cx=\"532.153\" cy=\"1167.29\" r=\"14\" fill=\"#009af9\" fill-rule=\"evenodd\" fill-opacity=\"1\" stroke=\"#000000\" stroke-opacity=\"1\" stroke-width=\"3.2\"/>\n",
       "<circle clip-path=\"url(#clip742)\" cx=\"541.871\" cy=\"87.9763\" r=\"14\" fill=\"#009af9\" fill-rule=\"evenodd\" fill-opacity=\"1\" stroke=\"#000000\" stroke-opacity=\"1\" stroke-width=\"3.2\"/>\n",
       "<circle clip-path=\"url(#clip742)\" cx=\"551.588\" cy=\"1153.54\" r=\"14\" fill=\"#009af9\" fill-rule=\"evenodd\" fill-opacity=\"1\" stroke=\"#000000\" stroke-opacity=\"1\" stroke-width=\"3.2\"/>\n",
       "<circle clip-path=\"url(#clip742)\" cx=\"561.305\" cy=\"1222.29\" r=\"14\" fill=\"#009af9\" fill-rule=\"evenodd\" fill-opacity=\"1\" stroke=\"#000000\" stroke-opacity=\"1\" stroke-width=\"3.2\"/>\n",
       "<circle clip-path=\"url(#clip742)\" cx=\"571.022\" cy=\"713.568\" r=\"14\" fill=\"#009af9\" fill-rule=\"evenodd\" fill-opacity=\"1\" stroke=\"#000000\" stroke-opacity=\"1\" stroke-width=\"3.2\"/>\n",
       "<circle clip-path=\"url(#clip742)\" cx=\"580.739\" cy=\"1057.3\" r=\"14\" fill=\"#009af9\" fill-rule=\"evenodd\" fill-opacity=\"1\" stroke=\"#000000\" stroke-opacity=\"1\" stroke-width=\"3.2\"/>\n",
       "<circle clip-path=\"url(#clip742)\" cx=\"590.456\" cy=\"1139.79\" r=\"14\" fill=\"#009af9\" fill-rule=\"evenodd\" fill-opacity=\"1\" stroke=\"#000000\" stroke-opacity=\"1\" stroke-width=\"3.2\"/>\n",
       "<circle clip-path=\"url(#clip742)\" cx=\"600.173\" cy=\"1194.79\" r=\"14\" fill=\"#009af9\" fill-rule=\"evenodd\" fill-opacity=\"1\" stroke=\"#000000\" stroke-opacity=\"1\" stroke-width=\"3.2\"/>\n",
       "<circle clip-path=\"url(#clip742)\" cx=\"609.891\" cy=\"1084.8\" r=\"14\" fill=\"#009af9\" fill-rule=\"evenodd\" fill-opacity=\"1\" stroke=\"#000000\" stroke-opacity=\"1\" stroke-width=\"3.2\"/>\n",
       "<circle clip-path=\"url(#clip742)\" cx=\"619.608\" cy=\"87.9763\" r=\"14\" fill=\"#009af9\" fill-rule=\"evenodd\" fill-opacity=\"1\" stroke=\"#000000\" stroke-opacity=\"1\" stroke-width=\"3.2\"/>\n",
       "<circle clip-path=\"url(#clip742)\" cx=\"629.325\" cy=\"754.815\" r=\"14\" fill=\"#009af9\" fill-rule=\"evenodd\" fill-opacity=\"1\" stroke=\"#000000\" stroke-opacity=\"1\" stroke-width=\"3.2\"/>\n",
       "<circle clip-path=\"url(#clip742)\" cx=\"639.042\" cy=\"87.9763\" r=\"14\" fill=\"#009af9\" fill-rule=\"evenodd\" fill-opacity=\"1\" stroke=\"#000000\" stroke-opacity=\"1\" stroke-width=\"3.2\"/>\n",
       "<circle clip-path=\"url(#clip742)\" cx=\"648.759\" cy=\"87.9763\" r=\"14\" fill=\"#009af9\" fill-rule=\"evenodd\" fill-opacity=\"1\" stroke=\"#000000\" stroke-opacity=\"1\" stroke-width=\"3.2\"/>\n",
       "<circle clip-path=\"url(#clip742)\" cx=\"658.476\" cy=\"1071.05\" r=\"14\" fill=\"#009af9\" fill-rule=\"evenodd\" fill-opacity=\"1\" stroke=\"#000000\" stroke-opacity=\"1\" stroke-width=\"3.2\"/>\n",
       "<circle clip-path=\"url(#clip742)\" cx=\"668.193\" cy=\"1167.29\" r=\"14\" fill=\"#009af9\" fill-rule=\"evenodd\" fill-opacity=\"1\" stroke=\"#000000\" stroke-opacity=\"1\" stroke-width=\"3.2\"/>\n",
       "<circle clip-path=\"url(#clip742)\" cx=\"677.911\" cy=\"87.9763\" r=\"14\" fill=\"#009af9\" fill-rule=\"evenodd\" fill-opacity=\"1\" stroke=\"#000000\" stroke-opacity=\"1\" stroke-width=\"3.2\"/>\n",
       "<circle clip-path=\"url(#clip742)\" cx=\"687.628\" cy=\"961.054\" r=\"14\" fill=\"#009af9\" fill-rule=\"evenodd\" fill-opacity=\"1\" stroke=\"#000000\" stroke-opacity=\"1\" stroke-width=\"3.2\"/>\n",
       "<circle clip-path=\"url(#clip742)\" cx=\"697.345\" cy=\"87.9763\" r=\"14\" fill=\"#009af9\" fill-rule=\"evenodd\" fill-opacity=\"1\" stroke=\"#000000\" stroke-opacity=\"1\" stroke-width=\"3.2\"/>\n",
       "<circle clip-path=\"url(#clip742)\" cx=\"707.062\" cy=\"1414.78\" r=\"14\" fill=\"#009af9\" fill-rule=\"evenodd\" fill-opacity=\"1\" stroke=\"#000000\" stroke-opacity=\"1\" stroke-width=\"3.2\"/>\n",
       "<circle clip-path=\"url(#clip742)\" cx=\"716.779\" cy=\"658.571\" r=\"14\" fill=\"#009af9\" fill-rule=\"evenodd\" fill-opacity=\"1\" stroke=\"#000000\" stroke-opacity=\"1\" stroke-width=\"3.2\"/>\n",
       "<circle clip-path=\"url(#clip742)\" cx=\"726.496\" cy=\"1428.53\" r=\"14\" fill=\"#009af9\" fill-rule=\"evenodd\" fill-opacity=\"1\" stroke=\"#000000\" stroke-opacity=\"1\" stroke-width=\"3.2\"/>\n",
       "<circle clip-path=\"url(#clip742)\" cx=\"736.213\" cy=\"1098.55\" r=\"14\" fill=\"#009af9\" fill-rule=\"evenodd\" fill-opacity=\"1\" stroke=\"#000000\" stroke-opacity=\"1\" stroke-width=\"3.2\"/>\n",
       "<circle clip-path=\"url(#clip742)\" cx=\"745.93\" cy=\"1153.54\" r=\"14\" fill=\"#009af9\" fill-rule=\"evenodd\" fill-opacity=\"1\" stroke=\"#000000\" stroke-opacity=\"1\" stroke-width=\"3.2\"/>\n",
       "<circle clip-path=\"url(#clip742)\" cx=\"755.648\" cy=\"1084.8\" r=\"14\" fill=\"#009af9\" fill-rule=\"evenodd\" fill-opacity=\"1\" stroke=\"#000000\" stroke-opacity=\"1\" stroke-width=\"3.2\"/>\n",
       "<circle clip-path=\"url(#clip742)\" cx=\"765.365\" cy=\"87.9763\" r=\"14\" fill=\"#009af9\" fill-rule=\"evenodd\" fill-opacity=\"1\" stroke=\"#000000\" stroke-opacity=\"1\" stroke-width=\"3.2\"/>\n",
       "<circle clip-path=\"url(#clip742)\" cx=\"775.082\" cy=\"87.9763\" r=\"14\" fill=\"#009af9\" fill-rule=\"evenodd\" fill-opacity=\"1\" stroke=\"#000000\" stroke-opacity=\"1\" stroke-width=\"3.2\"/>\n",
       "<circle clip-path=\"url(#clip742)\" cx=\"784.799\" cy=\"1057.3\" r=\"14\" fill=\"#009af9\" fill-rule=\"evenodd\" fill-opacity=\"1\" stroke=\"#000000\" stroke-opacity=\"1\" stroke-width=\"3.2\"/>\n",
       "<circle clip-path=\"url(#clip742)\" cx=\"794.516\" cy=\"1153.54\" r=\"14\" fill=\"#009af9\" fill-rule=\"evenodd\" fill-opacity=\"1\" stroke=\"#000000\" stroke-opacity=\"1\" stroke-width=\"3.2\"/>\n",
       "<circle clip-path=\"url(#clip742)\" cx=\"804.233\" cy=\"1043.55\" r=\"14\" fill=\"#009af9\" fill-rule=\"evenodd\" fill-opacity=\"1\" stroke=\"#000000\" stroke-opacity=\"1\" stroke-width=\"3.2\"/>\n",
       "<circle clip-path=\"url(#clip742)\" cx=\"813.95\" cy=\"851.06\" r=\"14\" fill=\"#009af9\" fill-rule=\"evenodd\" fill-opacity=\"1\" stroke=\"#000000\" stroke-opacity=\"1\" stroke-width=\"3.2\"/>\n",
       "<circle clip-path=\"url(#clip742)\" cx=\"823.668\" cy=\"947.305\" r=\"14\" fill=\"#009af9\" fill-rule=\"evenodd\" fill-opacity=\"1\" stroke=\"#000000\" stroke-opacity=\"1\" stroke-width=\"3.2\"/>\n",
       "<circle clip-path=\"url(#clip742)\" cx=\"833.385\" cy=\"87.9763\" r=\"14\" fill=\"#009af9\" fill-rule=\"evenodd\" fill-opacity=\"1\" stroke=\"#000000\" stroke-opacity=\"1\" stroke-width=\"3.2\"/>\n",
       "<circle clip-path=\"url(#clip742)\" cx=\"843.102\" cy=\"603.574\" r=\"14\" fill=\"#009af9\" fill-rule=\"evenodd\" fill-opacity=\"1\" stroke=\"#000000\" stroke-opacity=\"1\" stroke-width=\"3.2\"/>\n",
       "<circle clip-path=\"url(#clip742)\" cx=\"852.819\" cy=\"1057.3\" r=\"14\" fill=\"#009af9\" fill-rule=\"evenodd\" fill-opacity=\"1\" stroke=\"#000000\" stroke-opacity=\"1\" stroke-width=\"3.2\"/>\n",
       "<circle clip-path=\"url(#clip742)\" cx=\"862.536\" cy=\"974.804\" r=\"14\" fill=\"#009af9\" fill-rule=\"evenodd\" fill-opacity=\"1\" stroke=\"#000000\" stroke-opacity=\"1\" stroke-width=\"3.2\"/>\n",
       "<circle clip-path=\"url(#clip742)\" cx=\"872.253\" cy=\"87.9763\" r=\"14\" fill=\"#009af9\" fill-rule=\"evenodd\" fill-opacity=\"1\" stroke=\"#000000\" stroke-opacity=\"1\" stroke-width=\"3.2\"/>\n",
       "<circle clip-path=\"url(#clip742)\" cx=\"881.97\" cy=\"741.066\" r=\"14\" fill=\"#009af9\" fill-rule=\"evenodd\" fill-opacity=\"1\" stroke=\"#000000\" stroke-opacity=\"1\" stroke-width=\"3.2\"/>\n",
       "<circle clip-path=\"url(#clip742)\" cx=\"891.687\" cy=\"906.057\" r=\"14\" fill=\"#009af9\" fill-rule=\"evenodd\" fill-opacity=\"1\" stroke=\"#000000\" stroke-opacity=\"1\" stroke-width=\"3.2\"/>\n",
       "<circle clip-path=\"url(#clip742)\" cx=\"901.405\" cy=\"87.9763\" r=\"14\" fill=\"#009af9\" fill-rule=\"evenodd\" fill-opacity=\"1\" stroke=\"#000000\" stroke-opacity=\"1\" stroke-width=\"3.2\"/>\n",
       "<circle clip-path=\"url(#clip742)\" cx=\"911.122\" cy=\"947.305\" r=\"14\" fill=\"#009af9\" fill-rule=\"evenodd\" fill-opacity=\"1\" stroke=\"#000000\" stroke-opacity=\"1\" stroke-width=\"3.2\"/>\n",
       "<circle clip-path=\"url(#clip742)\" cx=\"920.839\" cy=\"87.9763\" r=\"14\" fill=\"#009af9\" fill-rule=\"evenodd\" fill-opacity=\"1\" stroke=\"#000000\" stroke-opacity=\"1\" stroke-width=\"3.2\"/>\n",
       "<circle clip-path=\"url(#clip742)\" cx=\"930.556\" cy=\"562.326\" r=\"14\" fill=\"#009af9\" fill-rule=\"evenodd\" fill-opacity=\"1\" stroke=\"#000000\" stroke-opacity=\"1\" stroke-width=\"3.2\"/>\n",
       "<circle clip-path=\"url(#clip742)\" cx=\"940.273\" cy=\"1153.54\" r=\"14\" fill=\"#009af9\" fill-rule=\"evenodd\" fill-opacity=\"1\" stroke=\"#000000\" stroke-opacity=\"1\" stroke-width=\"3.2\"/>\n",
       "<circle clip-path=\"url(#clip742)\" cx=\"949.99\" cy=\"878.559\" r=\"14\" fill=\"#009af9\" fill-rule=\"evenodd\" fill-opacity=\"1\" stroke=\"#000000\" stroke-opacity=\"1\" stroke-width=\"3.2\"/>\n",
       "<circle clip-path=\"url(#clip742)\" cx=\"959.707\" cy=\"1098.55\" r=\"14\" fill=\"#009af9\" fill-rule=\"evenodd\" fill-opacity=\"1\" stroke=\"#000000\" stroke-opacity=\"1\" stroke-width=\"3.2\"/>\n",
       "<circle clip-path=\"url(#clip742)\" cx=\"969.425\" cy=\"961.054\" r=\"14\" fill=\"#009af9\" fill-rule=\"evenodd\" fill-opacity=\"1\" stroke=\"#000000\" stroke-opacity=\"1\" stroke-width=\"3.2\"/>\n",
       "<circle clip-path=\"url(#clip742)\" cx=\"979.142\" cy=\"1126.05\" r=\"14\" fill=\"#009af9\" fill-rule=\"evenodd\" fill-opacity=\"1\" stroke=\"#000000\" stroke-opacity=\"1\" stroke-width=\"3.2\"/>\n",
       "<circle clip-path=\"url(#clip742)\" cx=\"988.859\" cy=\"1428.53\" r=\"14\" fill=\"#009af9\" fill-rule=\"evenodd\" fill-opacity=\"1\" stroke=\"#000000\" stroke-opacity=\"1\" stroke-width=\"3.2\"/>\n",
       "<circle clip-path=\"url(#clip742)\" cx=\"998.576\" cy=\"87.9763\" r=\"14\" fill=\"#009af9\" fill-rule=\"evenodd\" fill-opacity=\"1\" stroke=\"#000000\" stroke-opacity=\"1\" stroke-width=\"3.2\"/>\n",
       "<circle clip-path=\"url(#clip742)\" cx=\"1008.29\" cy=\"1208.54\" r=\"14\" fill=\"#009af9\" fill-rule=\"evenodd\" fill-opacity=\"1\" stroke=\"#000000\" stroke-opacity=\"1\" stroke-width=\"3.2\"/>\n",
       "<circle clip-path=\"url(#clip742)\" cx=\"1018.01\" cy=\"1098.55\" r=\"14\" fill=\"#009af9\" fill-rule=\"evenodd\" fill-opacity=\"1\" stroke=\"#000000\" stroke-opacity=\"1\" stroke-width=\"3.2\"/>\n",
       "<circle clip-path=\"url(#clip742)\" cx=\"1027.73\" cy=\"1043.55\" r=\"14\" fill=\"#009af9\" fill-rule=\"evenodd\" fill-opacity=\"1\" stroke=\"#000000\" stroke-opacity=\"1\" stroke-width=\"3.2\"/>\n",
       "<circle clip-path=\"url(#clip742)\" cx=\"1037.44\" cy=\"87.9763\" r=\"14\" fill=\"#009af9\" fill-rule=\"evenodd\" fill-opacity=\"1\" stroke=\"#000000\" stroke-opacity=\"1\" stroke-width=\"3.2\"/>\n",
       "<circle clip-path=\"url(#clip742)\" cx=\"1047.16\" cy=\"961.054\" r=\"14\" fill=\"#009af9\" fill-rule=\"evenodd\" fill-opacity=\"1\" stroke=\"#000000\" stroke-opacity=\"1\" stroke-width=\"3.2\"/>\n",
       "<circle clip-path=\"url(#clip742)\" cx=\"1056.88\" cy=\"933.556\" r=\"14\" fill=\"#009af9\" fill-rule=\"evenodd\" fill-opacity=\"1\" stroke=\"#000000\" stroke-opacity=\"1\" stroke-width=\"3.2\"/>\n",
       "<circle clip-path=\"url(#clip742)\" cx=\"1066.6\" cy=\"1126.05\" r=\"14\" fill=\"#009af9\" fill-rule=\"evenodd\" fill-opacity=\"1\" stroke=\"#000000\" stroke-opacity=\"1\" stroke-width=\"3.2\"/>\n",
       "<circle clip-path=\"url(#clip742)\" cx=\"1076.31\" cy=\"906.057\" r=\"14\" fill=\"#009af9\" fill-rule=\"evenodd\" fill-opacity=\"1\" stroke=\"#000000\" stroke-opacity=\"1\" stroke-width=\"3.2\"/>\n",
       "<circle clip-path=\"url(#clip742)\" cx=\"1086.03\" cy=\"1414.78\" r=\"14\" fill=\"#009af9\" fill-rule=\"evenodd\" fill-opacity=\"1\" stroke=\"#000000\" stroke-opacity=\"1\" stroke-width=\"3.2\"/>\n",
       "<circle clip-path=\"url(#clip742)\" cx=\"1095.75\" cy=\"1057.3\" r=\"14\" fill=\"#009af9\" fill-rule=\"evenodd\" fill-opacity=\"1\" stroke=\"#000000\" stroke-opacity=\"1\" stroke-width=\"3.2\"/>\n",
       "<circle clip-path=\"url(#clip742)\" cx=\"1105.46\" cy=\"1043.55\" r=\"14\" fill=\"#009af9\" fill-rule=\"evenodd\" fill-opacity=\"1\" stroke=\"#000000\" stroke-opacity=\"1\" stroke-width=\"3.2\"/>\n",
       "<circle clip-path=\"url(#clip742)\" cx=\"1115.18\" cy=\"87.9763\" r=\"14\" fill=\"#009af9\" fill-rule=\"evenodd\" fill-opacity=\"1\" stroke=\"#000000\" stroke-opacity=\"1\" stroke-width=\"3.2\"/>\n",
       "<circle clip-path=\"url(#clip742)\" cx=\"1124.9\" cy=\"87.9763\" r=\"14\" fill=\"#009af9\" fill-rule=\"evenodd\" fill-opacity=\"1\" stroke=\"#000000\" stroke-opacity=\"1\" stroke-width=\"3.2\"/>\n",
       "<circle clip-path=\"url(#clip742)\" cx=\"1134.62\" cy=\"1016.05\" r=\"14\" fill=\"#009af9\" fill-rule=\"evenodd\" fill-opacity=\"1\" stroke=\"#000000\" stroke-opacity=\"1\" stroke-width=\"3.2\"/>\n",
       "<circle clip-path=\"url(#clip742)\" cx=\"1144.33\" cy=\"1208.54\" r=\"14\" fill=\"#009af9\" fill-rule=\"evenodd\" fill-opacity=\"1\" stroke=\"#000000\" stroke-opacity=\"1\" stroke-width=\"3.2\"/>\n",
       "<circle clip-path=\"url(#clip742)\" cx=\"1154.05\" cy=\"1222.29\" r=\"14\" fill=\"#009af9\" fill-rule=\"evenodd\" fill-opacity=\"1\" stroke=\"#000000\" stroke-opacity=\"1\" stroke-width=\"3.2\"/>\n",
       "<circle clip-path=\"url(#clip742)\" cx=\"1163.77\" cy=\"1071.05\" r=\"14\" fill=\"#009af9\" fill-rule=\"evenodd\" fill-opacity=\"1\" stroke=\"#000000\" stroke-opacity=\"1\" stroke-width=\"3.2\"/>\n",
       "<circle clip-path=\"url(#clip742)\" cx=\"1173.48\" cy=\"1139.79\" r=\"14\" fill=\"#009af9\" fill-rule=\"evenodd\" fill-opacity=\"1\" stroke=\"#000000\" stroke-opacity=\"1\" stroke-width=\"3.2\"/>\n",
       "<circle clip-path=\"url(#clip742)\" cx=\"1183.2\" cy=\"919.807\" r=\"14\" fill=\"#009af9\" fill-rule=\"evenodd\" fill-opacity=\"1\" stroke=\"#000000\" stroke-opacity=\"1\" stroke-width=\"3.2\"/>\n",
       "<circle clip-path=\"url(#clip742)\" cx=\"1192.92\" cy=\"1098.55\" r=\"14\" fill=\"#009af9\" fill-rule=\"evenodd\" fill-opacity=\"1\" stroke=\"#000000\" stroke-opacity=\"1\" stroke-width=\"3.2\"/>\n",
       "<circle clip-path=\"url(#clip742)\" cx=\"1202.64\" cy=\"1071.05\" r=\"14\" fill=\"#009af9\" fill-rule=\"evenodd\" fill-opacity=\"1\" stroke=\"#000000\" stroke-opacity=\"1\" stroke-width=\"3.2\"/>\n",
       "<circle clip-path=\"url(#clip742)\" cx=\"1212.35\" cy=\"988.553\" r=\"14\" fill=\"#009af9\" fill-rule=\"evenodd\" fill-opacity=\"1\" stroke=\"#000000\" stroke-opacity=\"1\" stroke-width=\"3.2\"/>\n",
       "<circle clip-path=\"url(#clip742)\" cx=\"1222.07\" cy=\"754.815\" r=\"14\" fill=\"#009af9\" fill-rule=\"evenodd\" fill-opacity=\"1\" stroke=\"#000000\" stroke-opacity=\"1\" stroke-width=\"3.2\"/>\n",
       "<circle clip-path=\"url(#clip742)\" cx=\"1231.79\" cy=\"87.9763\" r=\"14\" fill=\"#009af9\" fill-rule=\"evenodd\" fill-opacity=\"1\" stroke=\"#000000\" stroke-opacity=\"1\" stroke-width=\"3.2\"/>\n",
       "<circle clip-path=\"url(#clip742)\" cx=\"1241.5\" cy=\"1071.05\" r=\"14\" fill=\"#009af9\" fill-rule=\"evenodd\" fill-opacity=\"1\" stroke=\"#000000\" stroke-opacity=\"1\" stroke-width=\"3.2\"/>\n",
       "<circle clip-path=\"url(#clip742)\" cx=\"1251.22\" cy=\"1126.05\" r=\"14\" fill=\"#009af9\" fill-rule=\"evenodd\" fill-opacity=\"1\" stroke=\"#000000\" stroke-opacity=\"1\" stroke-width=\"3.2\"/>\n",
       "<circle clip-path=\"url(#clip742)\" cx=\"1260.94\" cy=\"576.075\" r=\"14\" fill=\"#009af9\" fill-rule=\"evenodd\" fill-opacity=\"1\" stroke=\"#000000\" stroke-opacity=\"1\" stroke-width=\"3.2\"/>\n",
       "<circle clip-path=\"url(#clip742)\" cx=\"1270.66\" cy=\"1112.3\" r=\"14\" fill=\"#009af9\" fill-rule=\"evenodd\" fill-opacity=\"1\" stroke=\"#000000\" stroke-opacity=\"1\" stroke-width=\"3.2\"/>\n",
       "<circle clip-path=\"url(#clip742)\" cx=\"1280.37\" cy=\"87.9763\" r=\"14\" fill=\"#009af9\" fill-rule=\"evenodd\" fill-opacity=\"1\" stroke=\"#000000\" stroke-opacity=\"1\" stroke-width=\"3.2\"/>\n",
       "<circle clip-path=\"url(#clip742)\" cx=\"1290.09\" cy=\"1277.29\" r=\"14\" fill=\"#009af9\" fill-rule=\"evenodd\" fill-opacity=\"1\" stroke=\"#000000\" stroke-opacity=\"1\" stroke-width=\"3.2\"/>\n",
       "<circle clip-path=\"url(#clip742)\" cx=\"1299.81\" cy=\"961.054\" r=\"14\" fill=\"#009af9\" fill-rule=\"evenodd\" fill-opacity=\"1\" stroke=\"#000000\" stroke-opacity=\"1\" stroke-width=\"3.2\"/>\n",
       "<circle clip-path=\"url(#clip742)\" cx=\"1309.52\" cy=\"87.9763\" r=\"14\" fill=\"#009af9\" fill-rule=\"evenodd\" fill-opacity=\"1\" stroke=\"#000000\" stroke-opacity=\"1\" stroke-width=\"3.2\"/>\n",
       "<circle clip-path=\"url(#clip742)\" cx=\"1319.24\" cy=\"87.9763\" r=\"14\" fill=\"#009af9\" fill-rule=\"evenodd\" fill-opacity=\"1\" stroke=\"#000000\" stroke-opacity=\"1\" stroke-width=\"3.2\"/>\n",
       "<circle clip-path=\"url(#clip742)\" cx=\"1328.96\" cy=\"796.063\" r=\"14\" fill=\"#009af9\" fill-rule=\"evenodd\" fill-opacity=\"1\" stroke=\"#000000\" stroke-opacity=\"1\" stroke-width=\"3.2\"/>\n",
       "<circle clip-path=\"url(#clip742)\" cx=\"1338.68\" cy=\"87.9763\" r=\"14\" fill=\"#009af9\" fill-rule=\"evenodd\" fill-opacity=\"1\" stroke=\"#000000\" stroke-opacity=\"1\" stroke-width=\"3.2\"/>\n",
       "<circle clip-path=\"url(#clip742)\" cx=\"1348.39\" cy=\"933.556\" r=\"14\" fill=\"#009af9\" fill-rule=\"evenodd\" fill-opacity=\"1\" stroke=\"#000000\" stroke-opacity=\"1\" stroke-width=\"3.2\"/>\n",
       "<circle clip-path=\"url(#clip742)\" cx=\"1358.11\" cy=\"87.9763\" r=\"14\" fill=\"#009af9\" fill-rule=\"evenodd\" fill-opacity=\"1\" stroke=\"#000000\" stroke-opacity=\"1\" stroke-width=\"3.2\"/>\n",
       "<circle clip-path=\"url(#clip742)\" cx=\"1367.83\" cy=\"933.556\" r=\"14\" fill=\"#009af9\" fill-rule=\"evenodd\" fill-opacity=\"1\" stroke=\"#000000\" stroke-opacity=\"1\" stroke-width=\"3.2\"/>\n",
       "<circle clip-path=\"url(#clip742)\" cx=\"1377.54\" cy=\"1002.3\" r=\"14\" fill=\"#009af9\" fill-rule=\"evenodd\" fill-opacity=\"1\" stroke=\"#000000\" stroke-opacity=\"1\" stroke-width=\"3.2\"/>\n",
       "<circle clip-path=\"url(#clip742)\" cx=\"1387.26\" cy=\"988.553\" r=\"14\" fill=\"#009af9\" fill-rule=\"evenodd\" fill-opacity=\"1\" stroke=\"#000000\" stroke-opacity=\"1\" stroke-width=\"3.2\"/>\n",
       "<circle clip-path=\"url(#clip742)\" cx=\"1396.98\" cy=\"1057.3\" r=\"14\" fill=\"#009af9\" fill-rule=\"evenodd\" fill-opacity=\"1\" stroke=\"#000000\" stroke-opacity=\"1\" stroke-width=\"3.2\"/>\n",
       "<circle clip-path=\"url(#clip742)\" cx=\"1406.7\" cy=\"87.9763\" r=\"14\" fill=\"#009af9\" fill-rule=\"evenodd\" fill-opacity=\"1\" stroke=\"#000000\" stroke-opacity=\"1\" stroke-width=\"3.2\"/>\n",
       "<circle clip-path=\"url(#clip742)\" cx=\"1416.41\" cy=\"87.9763\" r=\"14\" fill=\"#009af9\" fill-rule=\"evenodd\" fill-opacity=\"1\" stroke=\"#000000\" stroke-opacity=\"1\" stroke-width=\"3.2\"/>\n",
       "<circle clip-path=\"url(#clip742)\" cx=\"1426.13\" cy=\"947.305\" r=\"14\" fill=\"#009af9\" fill-rule=\"evenodd\" fill-opacity=\"1\" stroke=\"#000000\" stroke-opacity=\"1\" stroke-width=\"3.2\"/>\n",
       "<circle clip-path=\"url(#clip742)\" cx=\"1435.85\" cy=\"1208.54\" r=\"14\" fill=\"#009af9\" fill-rule=\"evenodd\" fill-opacity=\"1\" stroke=\"#000000\" stroke-opacity=\"1\" stroke-width=\"3.2\"/>\n",
       "<circle clip-path=\"url(#clip742)\" cx=\"1445.56\" cy=\"1002.3\" r=\"14\" fill=\"#009af9\" fill-rule=\"evenodd\" fill-opacity=\"1\" stroke=\"#000000\" stroke-opacity=\"1\" stroke-width=\"3.2\"/>\n",
       "<circle clip-path=\"url(#clip742)\" cx=\"1455.28\" cy=\"1057.3\" r=\"14\" fill=\"#009af9\" fill-rule=\"evenodd\" fill-opacity=\"1\" stroke=\"#000000\" stroke-opacity=\"1\" stroke-width=\"3.2\"/>\n",
       "<circle clip-path=\"url(#clip742)\" cx=\"1465\" cy=\"1126.05\" r=\"14\" fill=\"#009af9\" fill-rule=\"evenodd\" fill-opacity=\"1\" stroke=\"#000000\" stroke-opacity=\"1\" stroke-width=\"3.2\"/>\n",
       "<circle clip-path=\"url(#clip742)\" cx=\"1474.72\" cy=\"988.553\" r=\"14\" fill=\"#009af9\" fill-rule=\"evenodd\" fill-opacity=\"1\" stroke=\"#000000\" stroke-opacity=\"1\" stroke-width=\"3.2\"/>\n",
       "<circle clip-path=\"url(#clip742)\" cx=\"1484.43\" cy=\"1016.05\" r=\"14\" fill=\"#009af9\" fill-rule=\"evenodd\" fill-opacity=\"1\" stroke=\"#000000\" stroke-opacity=\"1\" stroke-width=\"3.2\"/>\n",
       "<circle clip-path=\"url(#clip742)\" cx=\"1494.15\" cy=\"1043.55\" r=\"14\" fill=\"#009af9\" fill-rule=\"evenodd\" fill-opacity=\"1\" stroke=\"#000000\" stroke-opacity=\"1\" stroke-width=\"3.2\"/>\n",
       "<circle clip-path=\"url(#clip742)\" cx=\"1503.87\" cy=\"87.9763\" r=\"14\" fill=\"#009af9\" fill-rule=\"evenodd\" fill-opacity=\"1\" stroke=\"#000000\" stroke-opacity=\"1\" stroke-width=\"3.2\"/>\n",
       "<circle clip-path=\"url(#clip742)\" cx=\"1513.58\" cy=\"87.9763\" r=\"14\" fill=\"#009af9\" fill-rule=\"evenodd\" fill-opacity=\"1\" stroke=\"#000000\" stroke-opacity=\"1\" stroke-width=\"3.2\"/>\n",
       "<circle clip-path=\"url(#clip742)\" cx=\"1523.3\" cy=\"1043.55\" r=\"14\" fill=\"#009af9\" fill-rule=\"evenodd\" fill-opacity=\"1\" stroke=\"#000000\" stroke-opacity=\"1\" stroke-width=\"3.2\"/>\n",
       "<circle clip-path=\"url(#clip742)\" cx=\"1533.02\" cy=\"1043.55\" r=\"14\" fill=\"#009af9\" fill-rule=\"evenodd\" fill-opacity=\"1\" stroke=\"#000000\" stroke-opacity=\"1\" stroke-width=\"3.2\"/>\n",
       "<circle clip-path=\"url(#clip742)\" cx=\"1542.74\" cy=\"1016.05\" r=\"14\" fill=\"#009af9\" fill-rule=\"evenodd\" fill-opacity=\"1\" stroke=\"#000000\" stroke-opacity=\"1\" stroke-width=\"3.2\"/>\n",
       "<circle clip-path=\"url(#clip742)\" cx=\"1552.45\" cy=\"1346.03\" r=\"14\" fill=\"#009af9\" fill-rule=\"evenodd\" fill-opacity=\"1\" stroke=\"#000000\" stroke-opacity=\"1\" stroke-width=\"3.2\"/>\n",
       "<circle clip-path=\"url(#clip742)\" cx=\"1562.17\" cy=\"1153.54\" r=\"14\" fill=\"#009af9\" fill-rule=\"evenodd\" fill-opacity=\"1\" stroke=\"#000000\" stroke-opacity=\"1\" stroke-width=\"3.2\"/>\n",
       "<circle clip-path=\"url(#clip742)\" cx=\"1571.89\" cy=\"919.807\" r=\"14\" fill=\"#009af9\" fill-rule=\"evenodd\" fill-opacity=\"1\" stroke=\"#000000\" stroke-opacity=\"1\" stroke-width=\"3.2\"/>\n",
       "<circle clip-path=\"url(#clip742)\" cx=\"1581.6\" cy=\"1071.05\" r=\"14\" fill=\"#009af9\" fill-rule=\"evenodd\" fill-opacity=\"1\" stroke=\"#000000\" stroke-opacity=\"1\" stroke-width=\"3.2\"/>\n",
       "<circle clip-path=\"url(#clip742)\" cx=\"1591.32\" cy=\"1057.3\" r=\"14\" fill=\"#009af9\" fill-rule=\"evenodd\" fill-opacity=\"1\" stroke=\"#000000\" stroke-opacity=\"1\" stroke-width=\"3.2\"/>\n",
       "<circle clip-path=\"url(#clip742)\" cx=\"1601.04\" cy=\"87.9763\" r=\"14\" fill=\"#009af9\" fill-rule=\"evenodd\" fill-opacity=\"1\" stroke=\"#000000\" stroke-opacity=\"1\" stroke-width=\"3.2\"/>\n",
       "<circle clip-path=\"url(#clip742)\" cx=\"1610.76\" cy=\"988.553\" r=\"14\" fill=\"#009af9\" fill-rule=\"evenodd\" fill-opacity=\"1\" stroke=\"#000000\" stroke-opacity=\"1\" stroke-width=\"3.2\"/>\n",
       "<circle clip-path=\"url(#clip742)\" cx=\"1620.47\" cy=\"919.807\" r=\"14\" fill=\"#009af9\" fill-rule=\"evenodd\" fill-opacity=\"1\" stroke=\"#000000\" stroke-opacity=\"1\" stroke-width=\"3.2\"/>\n",
       "<circle clip-path=\"url(#clip742)\" cx=\"1630.19\" cy=\"87.9763\" r=\"14\" fill=\"#009af9\" fill-rule=\"evenodd\" fill-opacity=\"1\" stroke=\"#000000\" stroke-opacity=\"1\" stroke-width=\"3.2\"/>\n",
       "<circle clip-path=\"url(#clip742)\" cx=\"1639.91\" cy=\"1153.54\" r=\"14\" fill=\"#009af9\" fill-rule=\"evenodd\" fill-opacity=\"1\" stroke=\"#000000\" stroke-opacity=\"1\" stroke-width=\"3.2\"/>\n",
       "<circle clip-path=\"url(#clip742)\" cx=\"1649.62\" cy=\"974.804\" r=\"14\" fill=\"#009af9\" fill-rule=\"evenodd\" fill-opacity=\"1\" stroke=\"#000000\" stroke-opacity=\"1\" stroke-width=\"3.2\"/>\n",
       "<circle clip-path=\"url(#clip742)\" cx=\"1659.34\" cy=\"87.9763\" r=\"14\" fill=\"#009af9\" fill-rule=\"evenodd\" fill-opacity=\"1\" stroke=\"#000000\" stroke-opacity=\"1\" stroke-width=\"3.2\"/>\n",
       "<circle clip-path=\"url(#clip742)\" cx=\"1669.06\" cy=\"1126.05\" r=\"14\" fill=\"#009af9\" fill-rule=\"evenodd\" fill-opacity=\"1\" stroke=\"#000000\" stroke-opacity=\"1\" stroke-width=\"3.2\"/>\n",
       "<circle clip-path=\"url(#clip742)\" cx=\"1678.78\" cy=\"1098.55\" r=\"14\" fill=\"#009af9\" fill-rule=\"evenodd\" fill-opacity=\"1\" stroke=\"#000000\" stroke-opacity=\"1\" stroke-width=\"3.2\"/>\n",
       "<circle clip-path=\"url(#clip742)\" cx=\"1688.49\" cy=\"878.559\" r=\"14\" fill=\"#009af9\" fill-rule=\"evenodd\" fill-opacity=\"1\" stroke=\"#000000\" stroke-opacity=\"1\" stroke-width=\"3.2\"/>\n",
       "<circle clip-path=\"url(#clip742)\" cx=\"1698.21\" cy=\"1332.28\" r=\"14\" fill=\"#009af9\" fill-rule=\"evenodd\" fill-opacity=\"1\" stroke=\"#000000\" stroke-opacity=\"1\" stroke-width=\"3.2\"/>\n",
       "<circle clip-path=\"url(#clip742)\" cx=\"1707.93\" cy=\"1029.8\" r=\"14\" fill=\"#009af9\" fill-rule=\"evenodd\" fill-opacity=\"1\" stroke=\"#000000\" stroke-opacity=\"1\" stroke-width=\"3.2\"/>\n",
       "<circle clip-path=\"url(#clip742)\" cx=\"1717.64\" cy=\"87.9763\" r=\"14\" fill=\"#009af9\" fill-rule=\"evenodd\" fill-opacity=\"1\" stroke=\"#000000\" stroke-opacity=\"1\" stroke-width=\"3.2\"/>\n",
       "<circle clip-path=\"url(#clip742)\" cx=\"1727.36\" cy=\"1445.72\" r=\"14\" fill=\"#009af9\" fill-rule=\"evenodd\" fill-opacity=\"1\" stroke=\"#000000\" stroke-opacity=\"1\" stroke-width=\"3.2\"/>\n",
       "<circle clip-path=\"url(#clip742)\" cx=\"1737.08\" cy=\"796.063\" r=\"14\" fill=\"#009af9\" fill-rule=\"evenodd\" fill-opacity=\"1\" stroke=\"#000000\" stroke-opacity=\"1\" stroke-width=\"3.2\"/>\n",
       "<circle clip-path=\"url(#clip742)\" cx=\"1746.8\" cy=\"87.9763\" r=\"14\" fill=\"#009af9\" fill-rule=\"evenodd\" fill-opacity=\"1\" stroke=\"#000000\" stroke-opacity=\"1\" stroke-width=\"3.2\"/>\n",
       "<circle clip-path=\"url(#clip742)\" cx=\"1756.51\" cy=\"658.571\" r=\"14\" fill=\"#009af9\" fill-rule=\"evenodd\" fill-opacity=\"1\" stroke=\"#000000\" stroke-opacity=\"1\" stroke-width=\"3.2\"/>\n",
       "<circle clip-path=\"url(#clip742)\" cx=\"1766.23\" cy=\"768.565\" r=\"14\" fill=\"#009af9\" fill-rule=\"evenodd\" fill-opacity=\"1\" stroke=\"#000000\" stroke-opacity=\"1\" stroke-width=\"3.2\"/>\n",
       "<circle clip-path=\"url(#clip742)\" cx=\"1775.95\" cy=\"906.057\" r=\"14\" fill=\"#009af9\" fill-rule=\"evenodd\" fill-opacity=\"1\" stroke=\"#000000\" stroke-opacity=\"1\" stroke-width=\"3.2\"/>\n",
       "<circle clip-path=\"url(#clip742)\" cx=\"1785.66\" cy=\"809.812\" r=\"14\" fill=\"#009af9\" fill-rule=\"evenodd\" fill-opacity=\"1\" stroke=\"#000000\" stroke-opacity=\"1\" stroke-width=\"3.2\"/>\n",
       "<circle clip-path=\"url(#clip742)\" cx=\"1795.38\" cy=\"1016.05\" r=\"14\" fill=\"#009af9\" fill-rule=\"evenodd\" fill-opacity=\"1\" stroke=\"#000000\" stroke-opacity=\"1\" stroke-width=\"3.2\"/>\n",
       "<circle clip-path=\"url(#clip742)\" cx=\"1805.1\" cy=\"1112.3\" r=\"14\" fill=\"#009af9\" fill-rule=\"evenodd\" fill-opacity=\"1\" stroke=\"#000000\" stroke-opacity=\"1\" stroke-width=\"3.2\"/>\n",
       "<circle clip-path=\"url(#clip742)\" cx=\"1814.82\" cy=\"87.9763\" r=\"14\" fill=\"#009af9\" fill-rule=\"evenodd\" fill-opacity=\"1\" stroke=\"#000000\" stroke-opacity=\"1\" stroke-width=\"3.2\"/>\n",
       "<circle clip-path=\"url(#clip742)\" cx=\"1824.53\" cy=\"87.9763\" r=\"14\" fill=\"#009af9\" fill-rule=\"evenodd\" fill-opacity=\"1\" stroke=\"#000000\" stroke-opacity=\"1\" stroke-width=\"3.2\"/>\n",
       "<circle clip-path=\"url(#clip742)\" cx=\"1834.25\" cy=\"1098.55\" r=\"14\" fill=\"#009af9\" fill-rule=\"evenodd\" fill-opacity=\"1\" stroke=\"#000000\" stroke-opacity=\"1\" stroke-width=\"3.2\"/>\n",
       "<circle clip-path=\"url(#clip742)\" cx=\"1843.97\" cy=\"87.9763\" r=\"14\" fill=\"#009af9\" fill-rule=\"evenodd\" fill-opacity=\"1\" stroke=\"#000000\" stroke-opacity=\"1\" stroke-width=\"3.2\"/>\n",
       "<circle clip-path=\"url(#clip742)\" cx=\"1853.68\" cy=\"796.063\" r=\"14\" fill=\"#009af9\" fill-rule=\"evenodd\" fill-opacity=\"1\" stroke=\"#000000\" stroke-opacity=\"1\" stroke-width=\"3.2\"/>\n",
       "<circle clip-path=\"url(#clip742)\" cx=\"1863.4\" cy=\"1057.3\" r=\"14\" fill=\"#009af9\" fill-rule=\"evenodd\" fill-opacity=\"1\" stroke=\"#000000\" stroke-opacity=\"1\" stroke-width=\"3.2\"/>\n",
       "<circle clip-path=\"url(#clip742)\" cx=\"1873.12\" cy=\"87.9763\" r=\"14\" fill=\"#009af9\" fill-rule=\"evenodd\" fill-opacity=\"1\" stroke=\"#000000\" stroke-opacity=\"1\" stroke-width=\"3.2\"/>\n",
       "<circle clip-path=\"url(#clip742)\" cx=\"1882.84\" cy=\"988.553\" r=\"14\" fill=\"#009af9\" fill-rule=\"evenodd\" fill-opacity=\"1\" stroke=\"#000000\" stroke-opacity=\"1\" stroke-width=\"3.2\"/>\n",
       "<circle clip-path=\"url(#clip742)\" cx=\"1892.55\" cy=\"1181.04\" r=\"14\" fill=\"#009af9\" fill-rule=\"evenodd\" fill-opacity=\"1\" stroke=\"#000000\" stroke-opacity=\"1\" stroke-width=\"3.2\"/>\n",
       "<circle clip-path=\"url(#clip742)\" cx=\"1902.27\" cy=\"1112.3\" r=\"14\" fill=\"#009af9\" fill-rule=\"evenodd\" fill-opacity=\"1\" stroke=\"#000000\" stroke-opacity=\"1\" stroke-width=\"3.2\"/>\n",
       "<circle clip-path=\"url(#clip742)\" cx=\"1911.99\" cy=\"1064.17\" r=\"14\" fill=\"#009af9\" fill-rule=\"evenodd\" fill-opacity=\"1\" stroke=\"#000000\" stroke-opacity=\"1\" stroke-width=\"3.2\"/>\n",
       "<circle clip-path=\"url(#clip742)\" cx=\"1921.7\" cy=\"974.804\" r=\"14\" fill=\"#009af9\" fill-rule=\"evenodd\" fill-opacity=\"1\" stroke=\"#000000\" stroke-opacity=\"1\" stroke-width=\"3.2\"/>\n",
       "<circle clip-path=\"url(#clip742)\" cx=\"1931.42\" cy=\"87.9763\" r=\"14\" fill=\"#009af9\" fill-rule=\"evenodd\" fill-opacity=\"1\" stroke=\"#000000\" stroke-opacity=\"1\" stroke-width=\"3.2\"/>\n",
       "<circle clip-path=\"url(#clip742)\" cx=\"1941.14\" cy=\"87.9763\" r=\"14\" fill=\"#009af9\" fill-rule=\"evenodd\" fill-opacity=\"1\" stroke=\"#000000\" stroke-opacity=\"1\" stroke-width=\"3.2\"/>\n",
       "<circle clip-path=\"url(#clip742)\" cx=\"1950.86\" cy=\"1029.8\" r=\"14\" fill=\"#009af9\" fill-rule=\"evenodd\" fill-opacity=\"1\" stroke=\"#000000\" stroke-opacity=\"1\" stroke-width=\"3.2\"/>\n",
       "<circle clip-path=\"url(#clip742)\" cx=\"1960.57\" cy=\"1373.53\" r=\"14\" fill=\"#009af9\" fill-rule=\"evenodd\" fill-opacity=\"1\" stroke=\"#000000\" stroke-opacity=\"1\" stroke-width=\"3.2\"/>\n",
       "<circle clip-path=\"url(#clip742)\" cx=\"1970.29\" cy=\"1139.79\" r=\"14\" fill=\"#009af9\" fill-rule=\"evenodd\" fill-opacity=\"1\" stroke=\"#000000\" stroke-opacity=\"1\" stroke-width=\"3.2\"/>\n",
       "<circle clip-path=\"url(#clip742)\" cx=\"1980.01\" cy=\"754.815\" r=\"14\" fill=\"#009af9\" fill-rule=\"evenodd\" fill-opacity=\"1\" stroke=\"#000000\" stroke-opacity=\"1\" stroke-width=\"3.2\"/>\n",
       "<circle clip-path=\"url(#clip742)\" cx=\"1989.72\" cy=\"87.9763\" r=\"14\" fill=\"#009af9\" fill-rule=\"evenodd\" fill-opacity=\"1\" stroke=\"#000000\" stroke-opacity=\"1\" stroke-width=\"3.2\"/>\n",
       "<circle clip-path=\"url(#clip742)\" cx=\"1999.44\" cy=\"87.9763\" r=\"14\" fill=\"#009af9\" fill-rule=\"evenodd\" fill-opacity=\"1\" stroke=\"#000000\" stroke-opacity=\"1\" stroke-width=\"3.2\"/>\n",
       "<circle clip-path=\"url(#clip742)\" cx=\"2009.16\" cy=\"1016.05\" r=\"14\" fill=\"#009af9\" fill-rule=\"evenodd\" fill-opacity=\"1\" stroke=\"#000000\" stroke-opacity=\"1\" stroke-width=\"3.2\"/>\n",
       "<circle clip-path=\"url(#clip742)\" cx=\"2018.88\" cy=\"864.809\" r=\"14\" fill=\"#009af9\" fill-rule=\"evenodd\" fill-opacity=\"1\" stroke=\"#000000\" stroke-opacity=\"1\" stroke-width=\"3.2\"/>\n",
       "<circle clip-path=\"url(#clip742)\" cx=\"2028.59\" cy=\"1208.54\" r=\"14\" fill=\"#009af9\" fill-rule=\"evenodd\" fill-opacity=\"1\" stroke=\"#000000\" stroke-opacity=\"1\" stroke-width=\"3.2\"/>\n",
       "<circle clip-path=\"url(#clip742)\" cx=\"2038.31\" cy=\"1346.03\" r=\"14\" fill=\"#009af9\" fill-rule=\"evenodd\" fill-opacity=\"1\" stroke=\"#000000\" stroke-opacity=\"1\" stroke-width=\"3.2\"/>\n",
       "<circle clip-path=\"url(#clip742)\" cx=\"2048.03\" cy=\"87.9763\" r=\"14\" fill=\"#009af9\" fill-rule=\"evenodd\" fill-opacity=\"1\" stroke=\"#000000\" stroke-opacity=\"1\" stroke-width=\"3.2\"/>\n",
       "<circle clip-path=\"url(#clip742)\" cx=\"2057.74\" cy=\"87.9763\" r=\"14\" fill=\"#009af9\" fill-rule=\"evenodd\" fill-opacity=\"1\" stroke=\"#000000\" stroke-opacity=\"1\" stroke-width=\"3.2\"/>\n",
       "<circle clip-path=\"url(#clip742)\" cx=\"2067.46\" cy=\"919.807\" r=\"14\" fill=\"#009af9\" fill-rule=\"evenodd\" fill-opacity=\"1\" stroke=\"#000000\" stroke-opacity=\"1\" stroke-width=\"3.2\"/>\n",
       "<circle clip-path=\"url(#clip742)\" cx=\"2077.18\" cy=\"782.314\" r=\"14\" fill=\"#009af9\" fill-rule=\"evenodd\" fill-opacity=\"1\" stroke=\"#000000\" stroke-opacity=\"1\" stroke-width=\"3.2\"/>\n",
       "<circle clip-path=\"url(#clip742)\" cx=\"2086.9\" cy=\"1304.79\" r=\"14\" fill=\"#009af9\" fill-rule=\"evenodd\" fill-opacity=\"1\" stroke=\"#000000\" stroke-opacity=\"1\" stroke-width=\"3.2\"/>\n",
       "<circle clip-path=\"url(#clip742)\" cx=\"2096.61\" cy=\"919.807\" r=\"14\" fill=\"#009af9\" fill-rule=\"evenodd\" fill-opacity=\"1\" stroke=\"#000000\" stroke-opacity=\"1\" stroke-width=\"3.2\"/>\n",
       "<circle clip-path=\"url(#clip742)\" cx=\"2106.33\" cy=\"1036.68\" r=\"14\" fill=\"#009af9\" fill-rule=\"evenodd\" fill-opacity=\"1\" stroke=\"#000000\" stroke-opacity=\"1\" stroke-width=\"3.2\"/>\n",
       "<circle clip-path=\"url(#clip742)\" cx=\"2116.05\" cy=\"1139.79\" r=\"14\" fill=\"#009af9\" fill-rule=\"evenodd\" fill-opacity=\"1\" stroke=\"#000000\" stroke-opacity=\"1\" stroke-width=\"3.2\"/>\n",
       "<circle clip-path=\"url(#clip742)\" cx=\"2125.76\" cy=\"864.809\" r=\"14\" fill=\"#009af9\" fill-rule=\"evenodd\" fill-opacity=\"1\" stroke=\"#000000\" stroke-opacity=\"1\" stroke-width=\"3.2\"/>\n",
       "<circle clip-path=\"url(#clip742)\" cx=\"2135.48\" cy=\"741.066\" r=\"14\" fill=\"#009af9\" fill-rule=\"evenodd\" fill-opacity=\"1\" stroke=\"#000000\" stroke-opacity=\"1\" stroke-width=\"3.2\"/>\n",
       "<circle clip-path=\"url(#clip742)\" cx=\"2145.2\" cy=\"87.9763\" r=\"14\" fill=\"#009af9\" fill-rule=\"evenodd\" fill-opacity=\"1\" stroke=\"#000000\" stroke-opacity=\"1\" stroke-width=\"3.2\"/>\n",
       "<circle clip-path=\"url(#clip742)\" cx=\"2154.92\" cy=\"1249.79\" r=\"14\" fill=\"#009af9\" fill-rule=\"evenodd\" fill-opacity=\"1\" stroke=\"#000000\" stroke-opacity=\"1\" stroke-width=\"3.2\"/>\n",
       "<circle clip-path=\"url(#clip742)\" cx=\"2164.63\" cy=\"1016.05\" r=\"14\" fill=\"#009af9\" fill-rule=\"evenodd\" fill-opacity=\"1\" stroke=\"#000000\" stroke-opacity=\"1\" stroke-width=\"3.2\"/>\n",
       "<circle clip-path=\"url(#clip742)\" cx=\"2174.35\" cy=\"87.9763\" r=\"14\" fill=\"#009af9\" fill-rule=\"evenodd\" fill-opacity=\"1\" stroke=\"#000000\" stroke-opacity=\"1\" stroke-width=\"3.2\"/>\n",
       "<circle clip-path=\"url(#clip742)\" cx=\"2184.07\" cy=\"878.559\" r=\"14\" fill=\"#009af9\" fill-rule=\"evenodd\" fill-opacity=\"1\" stroke=\"#000000\" stroke-opacity=\"1\" stroke-width=\"3.2\"/>\n",
       "<circle clip-path=\"url(#clip742)\" cx=\"2193.78\" cy=\"438.582\" r=\"14\" fill=\"#009af9\" fill-rule=\"evenodd\" fill-opacity=\"1\" stroke=\"#000000\" stroke-opacity=\"1\" stroke-width=\"3.2\"/>\n",
       "<circle clip-path=\"url(#clip742)\" cx=\"2203.5\" cy=\"1332.28\" r=\"14\" fill=\"#009af9\" fill-rule=\"evenodd\" fill-opacity=\"1\" stroke=\"#000000\" stroke-opacity=\"1\" stroke-width=\"3.2\"/>\n",
       "<circle clip-path=\"url(#clip742)\" cx=\"2213.22\" cy=\"851.06\" r=\"14\" fill=\"#009af9\" fill-rule=\"evenodd\" fill-opacity=\"1\" stroke=\"#000000\" stroke-opacity=\"1\" stroke-width=\"3.2\"/>\n",
       "<circle clip-path=\"url(#clip742)\" cx=\"2222.93\" cy=\"1126.05\" r=\"14\" fill=\"#009af9\" fill-rule=\"evenodd\" fill-opacity=\"1\" stroke=\"#000000\" stroke-opacity=\"1\" stroke-width=\"3.2\"/>\n",
       "<circle clip-path=\"url(#clip742)\" cx=\"2232.65\" cy=\"796.063\" r=\"14\" fill=\"#009af9\" fill-rule=\"evenodd\" fill-opacity=\"1\" stroke=\"#000000\" stroke-opacity=\"1\" stroke-width=\"3.2\"/>\n",
       "<circle clip-path=\"url(#clip742)\" cx=\"2242.37\" cy=\"1084.8\" r=\"14\" fill=\"#009af9\" fill-rule=\"evenodd\" fill-opacity=\"1\" stroke=\"#000000\" stroke-opacity=\"1\" stroke-width=\"3.2\"/>\n",
       "<circle clip-path=\"url(#clip742)\" cx=\"2252.09\" cy=\"1098.55\" r=\"14\" fill=\"#009af9\" fill-rule=\"evenodd\" fill-opacity=\"1\" stroke=\"#000000\" stroke-opacity=\"1\" stroke-width=\"3.2\"/>\n",
       "<circle clip-path=\"url(#clip742)\" cx=\"2261.8\" cy=\"809.812\" r=\"14\" fill=\"#009af9\" fill-rule=\"evenodd\" fill-opacity=\"1\" stroke=\"#000000\" stroke-opacity=\"1\" stroke-width=\"3.2\"/>\n",
       "<circle clip-path=\"url(#clip742)\" cx=\"2271.52\" cy=\"1249.79\" r=\"14\" fill=\"#009af9\" fill-rule=\"evenodd\" fill-opacity=\"1\" stroke=\"#000000\" stroke-opacity=\"1\" stroke-width=\"3.2\"/>\n",
       "<circle clip-path=\"url(#clip742)\" cx=\"2281.24\" cy=\"1181.04\" r=\"14\" fill=\"#009af9\" fill-rule=\"evenodd\" fill-opacity=\"1\" stroke=\"#000000\" stroke-opacity=\"1\" stroke-width=\"3.2\"/>\n",
       "<circle clip-path=\"url(#clip742)\" cx=\"2290.95\" cy=\"87.9763\" r=\"14\" fill=\"#009af9\" fill-rule=\"evenodd\" fill-opacity=\"1\" stroke=\"#000000\" stroke-opacity=\"1\" stroke-width=\"3.2\"/>\n",
       "<path clip-path=\"url(#clip740)\" d=\"\n",
       "M1987.54 198.898 L2279.97 198.898 L2279.97 95.2176 L1987.54 95.2176  Z\n",
       "  \" fill=\"#ffffff\" fill-rule=\"evenodd\" fill-opacity=\"1\"/>\n",
       "<polyline clip-path=\"url(#clip740)\" style=\"stroke:#000000; stroke-linecap:butt; stroke-linejoin:round; stroke-width:4; stroke-opacity:1; fill:none\" points=\"\n",
       "  1987.54,198.898 2279.97,198.898 2279.97,95.2176 1987.54,95.2176 1987.54,198.898 \n",
       "  \"/>\n",
       "<circle clip-path=\"url(#clip740)\" cx=\"2083.54\" cy=\"147.058\" r=\"23\" fill=\"#009af9\" fill-rule=\"evenodd\" fill-opacity=\"1\" stroke=\"#000000\" stroke-opacity=\"1\" stroke-width=\"5.12\"/>\n",
       "<path clip-path=\"url(#clip740)\" d=\"M2193.38 166.745 Q2191.57 171.375 2189.86 172.787 Q2188.15 174.199 2185.28 174.199 L2181.88 174.199 L2181.88 170.634 L2184.38 170.634 Q2186.13 170.634 2187.11 169.8 Q2188.08 168.967 2189.26 165.865 L2190.02 163.921 L2179.54 138.412 L2184.05 138.412 L2192.15 158.689 L2200.26 138.412 L2204.77 138.412 L2193.38 166.745 Z\" fill=\"#000000\" fill-rule=\"evenodd\" fill-opacity=\"1\" /><path clip-path=\"url(#clip740)\" d=\"M2212.06 160.402 L2219.7 160.402 L2219.7 134.037 L2211.39 135.703 L2211.39 131.444 L2219.65 129.778 L2224.33 129.778 L2224.33 160.402 L2231.97 160.402 L2231.97 164.338 L2212.06 164.338 L2212.06 160.402 Z\" fill=\"#000000\" fill-rule=\"evenodd\" fill-opacity=\"1\" /></svg>\n"
      ]
     },
     "execution_count": 124,
     "metadata": {},
     "output_type": "execute_result"
    }
   ],
   "source": [
    "scatter(test.Age)"
   ]
  },
  {
   "cell_type": "code",
   "execution_count": null,
   "metadata": {},
   "outputs": [],
   "source": []
  }
 ],
 "metadata": {
  "kernelspec": {
   "display_name": "Julia 1.7.1",
   "language": "julia",
   "name": "julia-1.7"
  },
  "language_info": {
   "file_extension": ".jl",
   "mimetype": "application/julia",
   "name": "julia",
   "version": "1.7.1"
  }
 },
 "nbformat": 4,
 "nbformat_minor": 4
}
