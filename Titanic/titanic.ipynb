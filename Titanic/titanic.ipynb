{
 "cells": [
  {
   "cell_type": "code",
   "execution_count": 150,
   "metadata": {},
   "outputs": [],
   "source": [
    "using DataFrames\n",
    "using CSV\n",
    "ENV[\"COLUMNS\"] = 1000\n",
    "using CategoricalArrays\n",
    "\n",
    "\n",
    "using Pipe: @pipe\n",
    "using Setfield"
   ]
  },
  {
   "cell_type": "markdown",
   "metadata": {},
   "source": [
    "## Initial steps"
   ]
  },
  {
   "cell_type": "code",
   "execution_count": 38,
   "metadata": {},
   "outputs": [
    {
     "data": {
      "text/html": [
       "<div class=\"data-frame\"><p>891 rows × 12 columns</p><table class=\"data-frame\"><thead><tr><th></th><th>PassengerId</th><th>Survived</th><th>Pclass</th><th>Name</th><th>Sex</th><th>Age</th><th>SibSp</th><th>Parch</th><th>Ticket</th><th>Fare</th><th>Cabin</th><th>Embarked</th></tr><tr><th></th><th title=\"Int64\">Int64</th><th title=\"Int64\">Int64</th><th title=\"Int64\">Int64</th><th title=\"String\">String</th><th title=\"String7\">String7</th><th title=\"Union{Missing, Float64}\">Float64?</th><th title=\"Int64\">Int64</th><th title=\"Int64\">Int64</th><th title=\"String31\">String31</th><th title=\"Float64\">Float64</th><th title=\"Union{Missing, String15}\">String15?</th><th title=\"Union{Missing, String1}\">String1?</th></tr></thead><tbody><tr><th>1</th><td>1</td><td>0</td><td>3</td><td>Braund, Mr. Owen Harris</td><td>male</td><td>22.0</td><td>1</td><td>0</td><td>A/5 21171</td><td>7.25</td><td><em>missing</em></td><td>S</td></tr><tr><th>2</th><td>2</td><td>1</td><td>1</td><td>Cumings, Mrs. John Bradley (Florence Briggs Thayer)</td><td>female</td><td>38.0</td><td>1</td><td>0</td><td>PC 17599</td><td>71.2833</td><td>C85</td><td>C</td></tr><tr><th>3</th><td>3</td><td>1</td><td>3</td><td>Heikkinen, Miss. Laina</td><td>female</td><td>26.0</td><td>0</td><td>0</td><td>STON/O2. 3101282</td><td>7.925</td><td><em>missing</em></td><td>S</td></tr><tr><th>4</th><td>4</td><td>1</td><td>1</td><td>Futrelle, Mrs. Jacques Heath (Lily May Peel)</td><td>female</td><td>35.0</td><td>1</td><td>0</td><td>113803</td><td>53.1</td><td>C123</td><td>S</td></tr><tr><th>5</th><td>5</td><td>0</td><td>3</td><td>Allen, Mr. William Henry</td><td>male</td><td>35.0</td><td>0</td><td>0</td><td>373450</td><td>8.05</td><td><em>missing</em></td><td>S</td></tr><tr><th>6</th><td>6</td><td>0</td><td>3</td><td>Moran, Mr. James</td><td>male</td><td><em>missing</em></td><td>0</td><td>0</td><td>330877</td><td>8.4583</td><td><em>missing</em></td><td>Q</td></tr><tr><th>7</th><td>7</td><td>0</td><td>1</td><td>McCarthy, Mr. Timothy J</td><td>male</td><td>54.0</td><td>0</td><td>0</td><td>17463</td><td>51.8625</td><td>E46</td><td>S</td></tr><tr><th>8</th><td>8</td><td>0</td><td>3</td><td>Palsson, Master. Gosta Leonard</td><td>male</td><td>2.0</td><td>3</td><td>1</td><td>349909</td><td>21.075</td><td><em>missing</em></td><td>S</td></tr><tr><th>9</th><td>9</td><td>1</td><td>3</td><td>Johnson, Mrs. Oscar W (Elisabeth Vilhelmina Berg)</td><td>female</td><td>27.0</td><td>0</td><td>2</td><td>347742</td><td>11.1333</td><td><em>missing</em></td><td>S</td></tr><tr><th>10</th><td>10</td><td>1</td><td>2</td><td>Nasser, Mrs. Nicholas (Adele Achem)</td><td>female</td><td>14.0</td><td>1</td><td>0</td><td>237736</td><td>30.0708</td><td><em>missing</em></td><td>C</td></tr><tr><th>11</th><td>11</td><td>1</td><td>3</td><td>Sandstrom, Miss. Marguerite Rut</td><td>female</td><td>4.0</td><td>1</td><td>1</td><td>PP 9549</td><td>16.7</td><td>G6</td><td>S</td></tr><tr><th>12</th><td>12</td><td>1</td><td>1</td><td>Bonnell, Miss. Elizabeth</td><td>female</td><td>58.0</td><td>0</td><td>0</td><td>113783</td><td>26.55</td><td>C103</td><td>S</td></tr><tr><th>13</th><td>13</td><td>0</td><td>3</td><td>Saundercock, Mr. William Henry</td><td>male</td><td>20.0</td><td>0</td><td>0</td><td>A/5. 2151</td><td>8.05</td><td><em>missing</em></td><td>S</td></tr><tr><th>14</th><td>14</td><td>0</td><td>3</td><td>Andersson, Mr. Anders Johan</td><td>male</td><td>39.0</td><td>1</td><td>5</td><td>347082</td><td>31.275</td><td><em>missing</em></td><td>S</td></tr><tr><th>15</th><td>15</td><td>0</td><td>3</td><td>Vestrom, Miss. Hulda Amanda Adolfina</td><td>female</td><td>14.0</td><td>0</td><td>0</td><td>350406</td><td>7.8542</td><td><em>missing</em></td><td>S</td></tr><tr><th>16</th><td>16</td><td>1</td><td>2</td><td>Hewlett, Mrs. (Mary D Kingcome) </td><td>female</td><td>55.0</td><td>0</td><td>0</td><td>248706</td><td>16.0</td><td><em>missing</em></td><td>S</td></tr><tr><th>17</th><td>17</td><td>0</td><td>3</td><td>Rice, Master. Eugene</td><td>male</td><td>2.0</td><td>4</td><td>1</td><td>382652</td><td>29.125</td><td><em>missing</em></td><td>Q</td></tr><tr><th>18</th><td>18</td><td>1</td><td>2</td><td>Williams, Mr. Charles Eugene</td><td>male</td><td><em>missing</em></td><td>0</td><td>0</td><td>244373</td><td>13.0</td><td><em>missing</em></td><td>S</td></tr><tr><th>19</th><td>19</td><td>0</td><td>3</td><td>Vander Planke, Mrs. Julius (Emelia Maria Vandemoortele)</td><td>female</td><td>31.0</td><td>1</td><td>0</td><td>345763</td><td>18.0</td><td><em>missing</em></td><td>S</td></tr><tr><th>20</th><td>20</td><td>1</td><td>3</td><td>Masselmani, Mrs. Fatima</td><td>female</td><td><em>missing</em></td><td>0</td><td>0</td><td>2649</td><td>7.225</td><td><em>missing</em></td><td>C</td></tr><tr><th>21</th><td>21</td><td>0</td><td>2</td><td>Fynney, Mr. Joseph J</td><td>male</td><td>35.0</td><td>0</td><td>0</td><td>239865</td><td>26.0</td><td><em>missing</em></td><td>S</td></tr><tr><th>22</th><td>22</td><td>1</td><td>2</td><td>Beesley, Mr. Lawrence</td><td>male</td><td>34.0</td><td>0</td><td>0</td><td>248698</td><td>13.0</td><td>D56</td><td>S</td></tr><tr><th>23</th><td>23</td><td>1</td><td>3</td><td>McGowan, Miss. Anna &quot;Annie&quot;</td><td>female</td><td>15.0</td><td>0</td><td>0</td><td>330923</td><td>8.0292</td><td><em>missing</em></td><td>Q</td></tr><tr><th>24</th><td>24</td><td>1</td><td>1</td><td>Sloper, Mr. William Thompson</td><td>male</td><td>28.0</td><td>0</td><td>0</td><td>113788</td><td>35.5</td><td>A6</td><td>S</td></tr><tr><th>25</th><td>25</td><td>0</td><td>3</td><td>Palsson, Miss. Torborg Danira</td><td>female</td><td>8.0</td><td>3</td><td>1</td><td>349909</td><td>21.075</td><td><em>missing</em></td><td>S</td></tr><tr><th>26</th><td>26</td><td>1</td><td>3</td><td>Asplund, Mrs. Carl Oscar (Selma Augusta Emilia Johansson)</td><td>female</td><td>38.0</td><td>1</td><td>5</td><td>347077</td><td>31.3875</td><td><em>missing</em></td><td>S</td></tr><tr><th>27</th><td>27</td><td>0</td><td>3</td><td>Emir, Mr. Farred Chehab</td><td>male</td><td><em>missing</em></td><td>0</td><td>0</td><td>2631</td><td>7.225</td><td><em>missing</em></td><td>C</td></tr><tr><th>28</th><td>28</td><td>0</td><td>1</td><td>Fortune, Mr. Charles Alexander</td><td>male</td><td>19.0</td><td>3</td><td>2</td><td>19950</td><td>263.0</td><td>C23 C25 C27</td><td>S</td></tr><tr><th>29</th><td>29</td><td>1</td><td>3</td><td>O&apos;Dwyer, Miss. Ellen &quot;Nellie&quot;</td><td>female</td><td><em>missing</em></td><td>0</td><td>0</td><td>330959</td><td>7.8792</td><td><em>missing</em></td><td>Q</td></tr><tr><th>30</th><td>30</td><td>0</td><td>3</td><td>Todoroff, Mr. Lalio</td><td>male</td><td><em>missing</em></td><td>0</td><td>0</td><td>349216</td><td>7.8958</td><td><em>missing</em></td><td>S</td></tr><tr><th>&vellip;</th><td>&vellip;</td><td>&vellip;</td><td>&vellip;</td><td>&vellip;</td><td>&vellip;</td><td>&vellip;</td><td>&vellip;</td><td>&vellip;</td><td>&vellip;</td><td>&vellip;</td><td>&vellip;</td><td>&vellip;</td></tr></tbody></table></div>"
      ],
      "text/latex": [
       "\\begin{tabular}{r|cccccccccccc}\n",
       "\t& PassengerId & Survived & Pclass & Name & Sex & Age & SibSp & Parch & Ticket & Fare & Cabin & Embarked\\\\\n",
       "\t\\hline\n",
       "\t& Int64 & Int64 & Int64 & String & String7 & Float64? & Int64 & Int64 & String31 & Float64 & String15? & String1?\\\\\n",
       "\t\\hline\n",
       "\t1 & 1 & 0 & 3 & Braund, Mr. Owen Harris & male & 22.0 & 1 & 0 & A/5 21171 & 7.25 & \\emph{missing} & S \\\\\n",
       "\t2 & 2 & 1 & 1 & Cumings, Mrs. John Bradley (Florence Briggs Thayer) & female & 38.0 & 1 & 0 & PC 17599 & 71.2833 & C85 & C \\\\\n",
       "\t3 & 3 & 1 & 3 & Heikkinen, Miss. Laina & female & 26.0 & 0 & 0 & STON/O2. 3101282 & 7.925 & \\emph{missing} & S \\\\\n",
       "\t4 & 4 & 1 & 1 & Futrelle, Mrs. Jacques Heath (Lily May Peel) & female & 35.0 & 1 & 0 & 113803 & 53.1 & C123 & S \\\\\n",
       "\t5 & 5 & 0 & 3 & Allen, Mr. William Henry & male & 35.0 & 0 & 0 & 373450 & 8.05 & \\emph{missing} & S \\\\\n",
       "\t6 & 6 & 0 & 3 & Moran, Mr. James & male & \\emph{missing} & 0 & 0 & 330877 & 8.4583 & \\emph{missing} & Q \\\\\n",
       "\t7 & 7 & 0 & 1 & McCarthy, Mr. Timothy J & male & 54.0 & 0 & 0 & 17463 & 51.8625 & E46 & S \\\\\n",
       "\t8 & 8 & 0 & 3 & Palsson, Master. Gosta Leonard & male & 2.0 & 3 & 1 & 349909 & 21.075 & \\emph{missing} & S \\\\\n",
       "\t9 & 9 & 1 & 3 & Johnson, Mrs. Oscar W (Elisabeth Vilhelmina Berg) & female & 27.0 & 0 & 2 & 347742 & 11.1333 & \\emph{missing} & S \\\\\n",
       "\t10 & 10 & 1 & 2 & Nasser, Mrs. Nicholas (Adele Achem) & female & 14.0 & 1 & 0 & 237736 & 30.0708 & \\emph{missing} & C \\\\\n",
       "\t11 & 11 & 1 & 3 & Sandstrom, Miss. Marguerite Rut & female & 4.0 & 1 & 1 & PP 9549 & 16.7 & G6 & S \\\\\n",
       "\t12 & 12 & 1 & 1 & Bonnell, Miss. Elizabeth & female & 58.0 & 0 & 0 & 113783 & 26.55 & C103 & S \\\\\n",
       "\t13 & 13 & 0 & 3 & Saundercock, Mr. William Henry & male & 20.0 & 0 & 0 & A/5. 2151 & 8.05 & \\emph{missing} & S \\\\\n",
       "\t14 & 14 & 0 & 3 & Andersson, Mr. Anders Johan & male & 39.0 & 1 & 5 & 347082 & 31.275 & \\emph{missing} & S \\\\\n",
       "\t15 & 15 & 0 & 3 & Vestrom, Miss. Hulda Amanda Adolfina & female & 14.0 & 0 & 0 & 350406 & 7.8542 & \\emph{missing} & S \\\\\n",
       "\t16 & 16 & 1 & 2 & Hewlett, Mrs. (Mary D Kingcome)  & female & 55.0 & 0 & 0 & 248706 & 16.0 & \\emph{missing} & S \\\\\n",
       "\t17 & 17 & 0 & 3 & Rice, Master. Eugene & male & 2.0 & 4 & 1 & 382652 & 29.125 & \\emph{missing} & Q \\\\\n",
       "\t18 & 18 & 1 & 2 & Williams, Mr. Charles Eugene & male & \\emph{missing} & 0 & 0 & 244373 & 13.0 & \\emph{missing} & S \\\\\n",
       "\t19 & 19 & 0 & 3 & Vander Planke, Mrs. Julius (Emelia Maria Vandemoortele) & female & 31.0 & 1 & 0 & 345763 & 18.0 & \\emph{missing} & S \\\\\n",
       "\t20 & 20 & 1 & 3 & Masselmani, Mrs. Fatima & female & \\emph{missing} & 0 & 0 & 2649 & 7.225 & \\emph{missing} & C \\\\\n",
       "\t21 & 21 & 0 & 2 & Fynney, Mr. Joseph J & male & 35.0 & 0 & 0 & 239865 & 26.0 & \\emph{missing} & S \\\\\n",
       "\t22 & 22 & 1 & 2 & Beesley, Mr. Lawrence & male & 34.0 & 0 & 0 & 248698 & 13.0 & D56 & S \\\\\n",
       "\t23 & 23 & 1 & 3 & McGowan, Miss. Anna \"Annie\" & female & 15.0 & 0 & 0 & 330923 & 8.0292 & \\emph{missing} & Q \\\\\n",
       "\t24 & 24 & 1 & 1 & Sloper, Mr. William Thompson & male & 28.0 & 0 & 0 & 113788 & 35.5 & A6 & S \\\\\n",
       "\t25 & 25 & 0 & 3 & Palsson, Miss. Torborg Danira & female & 8.0 & 3 & 1 & 349909 & 21.075 & \\emph{missing} & S \\\\\n",
       "\t26 & 26 & 1 & 3 & Asplund, Mrs. Carl Oscar (Selma Augusta Emilia Johansson) & female & 38.0 & 1 & 5 & 347077 & 31.3875 & \\emph{missing} & S \\\\\n",
       "\t27 & 27 & 0 & 3 & Emir, Mr. Farred Chehab & male & \\emph{missing} & 0 & 0 & 2631 & 7.225 & \\emph{missing} & C \\\\\n",
       "\t28 & 28 & 0 & 1 & Fortune, Mr. Charles Alexander & male & 19.0 & 3 & 2 & 19950 & 263.0 & C23 C25 C27 & S \\\\\n",
       "\t29 & 29 & 1 & 3 & O'Dwyer, Miss. Ellen \"Nellie\" & female & \\emph{missing} & 0 & 0 & 330959 & 7.8792 & \\emph{missing} & Q \\\\\n",
       "\t30 & 30 & 0 & 3 & Todoroff, Mr. Lalio & male & \\emph{missing} & 0 & 0 & 349216 & 7.8958 & \\emph{missing} & S \\\\\n",
       "\t$\\dots$ & $\\dots$ & $\\dots$ & $\\dots$ & $\\dots$ & $\\dots$ & $\\dots$ & $\\dots$ & $\\dots$ & $\\dots$ & $\\dots$ & $\\dots$ & $\\dots$ \\\\\n",
       "\\end{tabular}\n"
      ],
      "text/plain": [
       "\u001b[1m891×12 DataFrame\u001b[0m\n",
       "\u001b[1m Row \u001b[0m│\u001b[1m PassengerId \u001b[0m\u001b[1m Survived \u001b[0m\u001b[1m Pclass \u001b[0m\u001b[1m Name                              \u001b[0m\u001b[1m Sex     \u001b[0m\u001b[1m Age       \u001b[0m\u001b[1m SibSp \u001b[0m\u001b[1m Parch \u001b[0m\u001b[1m Ticket           \u001b[0m\u001b[1m Fare    \u001b[0m\u001b[1m Cabin     \u001b[0m\u001b[1m Embarked \u001b[0m\n",
       "\u001b[1m     \u001b[0m│\u001b[90m Int64       \u001b[0m\u001b[90m Int64    \u001b[0m\u001b[90m Int64  \u001b[0m\u001b[90m String                            \u001b[0m\u001b[90m String7 \u001b[0m\u001b[90m Float64?  \u001b[0m\u001b[90m Int64 \u001b[0m\u001b[90m Int64 \u001b[0m\u001b[90m String31         \u001b[0m\u001b[90m Float64 \u001b[0m\u001b[90m String15? \u001b[0m\u001b[90m String1? \u001b[0m\n",
       "─────┼────────────────────────────────────────────────────────────────────────────────────────────────────────────────────────────────────────────────────\n",
       "   1 │           1         0       3  Braund, Mr. Owen Harris            male          22.0      1      0  A/5 21171          7.25   \u001b[90m missing   \u001b[0m S\n",
       "   2 │           2         1       1  Cumings, Mrs. John Bradley (Flor…  female        38.0      1      0  PC 17599          71.2833  C85        C\n",
       "   3 │           3         1       3  Heikkinen, Miss. Laina             female        26.0      0      0  STON/O2. 3101282   7.925  \u001b[90m missing   \u001b[0m S\n",
       "   4 │           4         1       1  Futrelle, Mrs. Jacques Heath (Li…  female        35.0      1      0  113803            53.1     C123       S\n",
       "   5 │           5         0       3  Allen, Mr. William Henry           male          35.0      0      0  373450             8.05   \u001b[90m missing   \u001b[0m S\n",
       "   6 │           6         0       3  Moran, Mr. James                   male    \u001b[90m missing   \u001b[0m     0      0  330877             8.4583 \u001b[90m missing   \u001b[0m Q\n",
       "   7 │           7         0       1  McCarthy, Mr. Timothy J            male          54.0      0      0  17463             51.8625  E46        S\n",
       "   8 │           8         0       3  Palsson, Master. Gosta Leonard     male           2.0      3      1  349909            21.075  \u001b[90m missing   \u001b[0m S\n",
       "   9 │           9         1       3  Johnson, Mrs. Oscar W (Elisabeth…  female        27.0      0      2  347742            11.1333 \u001b[90m missing   \u001b[0m S\n",
       "  10 │          10         1       2  Nasser, Mrs. Nicholas (Adele Ach…  female        14.0      1      0  237736            30.0708 \u001b[90m missing   \u001b[0m C\n",
       "  11 │          11         1       3  Sandstrom, Miss. Marguerite Rut    female         4.0      1      1  PP 9549           16.7     G6         S\n",
       "  ⋮  │      ⋮          ⋮        ⋮                     ⋮                     ⋮         ⋮        ⋮      ⋮           ⋮             ⋮         ⋮         ⋮\n",
       " 882 │         882         0       3  Markun, Mr. Johann                 male          33.0      0      0  349257             7.8958 \u001b[90m missing   \u001b[0m S\n",
       " 883 │         883         0       3  Dahlberg, Miss. Gerda Ulrika       female        22.0      0      0  7552              10.5167 \u001b[90m missing   \u001b[0m S\n",
       " 884 │         884         0       2  Banfield, Mr. Frederick James      male          28.0      0      0  C.A./SOTON 34068  10.5    \u001b[90m missing   \u001b[0m S\n",
       " 885 │         885         0       3  Sutehall, Mr. Henry Jr             male          25.0      0      0  SOTON/OQ 392076    7.05   \u001b[90m missing   \u001b[0m S\n",
       " 886 │         886         0       3  Rice, Mrs. William (Margaret Nor…  female        39.0      0      5  382652            29.125  \u001b[90m missing   \u001b[0m Q\n",
       " 887 │         887         0       2  Montvila, Rev. Juozas              male          27.0      0      0  211536            13.0    \u001b[90m missing   \u001b[0m S\n",
       " 888 │         888         1       1  Graham, Miss. Margaret Edith       female        19.0      0      0  112053            30.0     B42        S\n",
       " 889 │         889         0       3  Johnston, Miss. Catherine Helen …  female  \u001b[90m missing   \u001b[0m     1      2  W./C. 6607        23.45   \u001b[90m missing   \u001b[0m S\n",
       " 890 │         890         1       1  Behr, Mr. Karl Howell              male          26.0      0      0  111369            30.0     C148       C\n",
       " 891 │         891         0       3  Dooley, Mr. Patrick                male          32.0      0      0  370376             7.75   \u001b[90m missing   \u001b[0m Q\n",
       "\u001b[36m                                                                                                                                          870 rows omitted\u001b[0m"
      ]
     },
     "execution_count": 38,
     "metadata": {},
     "output_type": "execute_result"
    }
   ],
   "source": [
    "df = CSV.File(\"data/train.csv\") |> DataFrame"
   ]
  },
  {
   "cell_type": "code",
   "execution_count": 22,
   "metadata": {},
   "outputs": [
    {
     "name": "stdout",
     "output_type": "stream",
     "text": [
      "[\"PassengerId\", \"Survived\", \"Pclass\", \"Name\", \"Sex\", \"Age\", \"SibSp\", \"Parch\", \"Ticket\", \"Fare\", \"Cabin\", \"Embarked\"]"
     ]
    },
    {
     "data": {
      "text/html": [
       "<div class=\"data-frame\"><p>12 rows × 7 columns</p><table class=\"data-frame\"><thead><tr><th></th><th>variable</th><th>mean</th><th>min</th><th>median</th><th>max</th><th>nmissing</th><th>eltype</th></tr><tr><th></th><th title=\"Symbol\">Symbol</th><th title=\"Union{Nothing, Float64}\">Union…</th><th title=\"Any\">Any</th><th title=\"Union{Nothing, Float64}\">Union…</th><th title=\"Any\">Any</th><th title=\"Int64\">Int64</th><th title=\"Type\">Type</th></tr></thead><tbody><tr><th>1</th><td>PassengerId</td><td>446.0</td><td>1</td><td>446.0</td><td>891</td><td>0</td><td>Int64</td></tr><tr><th>2</th><td>Survived</td><td>0.383838</td><td>0</td><td>0.0</td><td>1</td><td>0</td><td>Int64</td></tr><tr><th>3</th><td>Pclass</td><td>2.30864</td><td>1</td><td>3.0</td><td>3</td><td>0</td><td>Int64</td></tr><tr><th>4</th><td>Name</td><td></td><td>Abbing, Mr. Anthony</td><td></td><td>van Melkebeke, Mr. Philemon</td><td>0</td><td>String</td></tr><tr><th>5</th><td>Sex</td><td></td><td>female</td><td></td><td>male</td><td>0</td><td>String7</td></tr><tr><th>6</th><td>Age</td><td>29.6991</td><td>0.42</td><td>28.0</td><td>80.0</td><td>177</td><td>Union{Missing, Float64}</td></tr><tr><th>7</th><td>SibSp</td><td>0.523008</td><td>0</td><td>0.0</td><td>8</td><td>0</td><td>Int64</td></tr><tr><th>8</th><td>Parch</td><td>0.381594</td><td>0</td><td>0.0</td><td>6</td><td>0</td><td>Int64</td></tr><tr><th>9</th><td>Ticket</td><td></td><td>110152</td><td></td><td>WE/P 5735</td><td>0</td><td>String31</td></tr><tr><th>10</th><td>Fare</td><td>32.2042</td><td>0.0</td><td>14.4542</td><td>512.329</td><td>0</td><td>Float64</td></tr><tr><th>11</th><td>Cabin</td><td></td><td>A10</td><td></td><td>T</td><td>687</td><td>Union{Missing, String15}</td></tr><tr><th>12</th><td>Embarked</td><td></td><td>C</td><td></td><td>S</td><td>2</td><td>Union{Missing, String1}</td></tr></tbody></table></div>"
      ],
      "text/latex": [
       "\\begin{tabular}{r|ccccccc}\n",
       "\t& variable & mean & min & median & max & nmissing & eltype\\\\\n",
       "\t\\hline\n",
       "\t& Symbol & Union… & Any & Union… & Any & Int64 & Type\\\\\n",
       "\t\\hline\n",
       "\t1 & PassengerId & 446.0 & 1 & 446.0 & 891 & 0 & Int64 \\\\\n",
       "\t2 & Survived & 0.383838 & 0 & 0.0 & 1 & 0 & Int64 \\\\\n",
       "\t3 & Pclass & 2.30864 & 1 & 3.0 & 3 & 0 & Int64 \\\\\n",
       "\t4 & Name &  & Abbing, Mr. Anthony &  & van Melkebeke, Mr. Philemon & 0 & String \\\\\n",
       "\t5 & Sex &  & female &  & male & 0 & String7 \\\\\n",
       "\t6 & Age & 29.6991 & 0.42 & 28.0 & 80.0 & 177 & Union\\{Missing, Float64\\} \\\\\n",
       "\t7 & SibSp & 0.523008 & 0 & 0.0 & 8 & 0 & Int64 \\\\\n",
       "\t8 & Parch & 0.381594 & 0 & 0.0 & 6 & 0 & Int64 \\\\\n",
       "\t9 & Ticket &  & 110152 &  & WE/P 5735 & 0 & String31 \\\\\n",
       "\t10 & Fare & 32.2042 & 0.0 & 14.4542 & 512.329 & 0 & Float64 \\\\\n",
       "\t11 & Cabin &  & A10 &  & T & 687 & Union\\{Missing, String15\\} \\\\\n",
       "\t12 & Embarked &  & C &  & S & 2 & Union\\{Missing, String1\\} \\\\\n",
       "\\end{tabular}\n"
      ],
      "text/plain": [
       "\u001b[1m12×7 DataFrame\u001b[0m\n",
       "\u001b[1m Row \u001b[0m│\u001b[1m variable    \u001b[0m\u001b[1m mean     \u001b[0m\u001b[1m min                 \u001b[0m\u001b[1m median  \u001b[0m\u001b[1m max                         \u001b[0m\u001b[1m nmissing \u001b[0m\u001b[1m eltype                   \u001b[0m\n",
       "\u001b[1m     \u001b[0m│\u001b[90m Symbol      \u001b[0m\u001b[90m Union…   \u001b[0m\u001b[90m Any                 \u001b[0m\u001b[90m Union…  \u001b[0m\u001b[90m Any                         \u001b[0m\u001b[90m Int64    \u001b[0m\u001b[90m Type                     \u001b[0m\n",
       "─────┼──────────────────────────────────────────────────────────────────────────────────────────────────────────────────────\n",
       "   1 │ PassengerId  446.0     1                    446.0    891                                 0  Int64\n",
       "   2 │ Survived     0.383838  0                    0.0      1                                   0  Int64\n",
       "   3 │ Pclass       2.30864   1                    3.0      3                                   0  Int64\n",
       "   4 │ Name        \u001b[90m          \u001b[0m Abbing, Mr. Anthony \u001b[90m         \u001b[0m van Melkebeke, Mr. Philemon         0  String\n",
       "   5 │ Sex         \u001b[90m          \u001b[0m female              \u001b[90m         \u001b[0m male                                0  String7\n",
       "   6 │ Age          29.6991   0.42                 28.0     80.0                              177  Union{Missing, Float64}\n",
       "   7 │ SibSp        0.523008  0                    0.0      8                                   0  Int64\n",
       "   8 │ Parch        0.381594  0                    0.0      6                                   0  Int64\n",
       "   9 │ Ticket      \u001b[90m          \u001b[0m 110152              \u001b[90m         \u001b[0m WE/P 5735                           0  String31\n",
       "  10 │ Fare         32.2042   0.0                  14.4542  512.329                             0  Float64\n",
       "  11 │ Cabin       \u001b[90m          \u001b[0m A10                 \u001b[90m         \u001b[0m T                                 687  Union{Missing, String15}\n",
       "  12 │ Embarked    \u001b[90m          \u001b[0m C                   \u001b[90m         \u001b[0m S                                   2  Union{Missing, String1}"
      ]
     },
     "execution_count": 22,
     "metadata": {},
     "output_type": "execute_result"
    }
   ],
   "source": [
    "names(df) |> show\n",
    "describe(df) "
   ]
  },
  {
   "cell_type": "code",
   "execution_count": 23,
   "metadata": {},
   "outputs": [
    {
     "data": {
      "text/html": [
       "<div class=\"data-frame\"><p>5 rows × 2 columns</p><table class=\"data-frame\"><thead><tr><th></th><th>Survived</th><th>Name</th></tr><tr><th></th><th title=\"Int64\">Int64</th><th title=\"String\">String</th></tr></thead><tbody><tr><th>1</th><td>0</td><td>Braund, Mr. Owen Harris</td></tr><tr><th>2</th><td>1</td><td>Cumings, Mrs. John Bradley (Florence Briggs Thayer)</td></tr><tr><th>3</th><td>1</td><td>Heikkinen, Miss. Laina</td></tr><tr><th>4</th><td>1</td><td>Futrelle, Mrs. Jacques Heath (Lily May Peel)</td></tr><tr><th>5</th><td>0</td><td>Allen, Mr. William Henry</td></tr></tbody></table></div>"
      ],
      "text/latex": [
       "\\begin{tabular}{r|cc}\n",
       "\t& Survived & Name\\\\\n",
       "\t\\hline\n",
       "\t& Int64 & String\\\\\n",
       "\t\\hline\n",
       "\t1 & 0 & Braund, Mr. Owen Harris \\\\\n",
       "\t2 & 1 & Cumings, Mrs. John Bradley (Florence Briggs Thayer) \\\\\n",
       "\t3 & 1 & Heikkinen, Miss. Laina \\\\\n",
       "\t4 & 1 & Futrelle, Mrs. Jacques Heath (Lily May Peel) \\\\\n",
       "\t5 & 0 & Allen, Mr. William Henry \\\\\n",
       "\\end{tabular}\n"
      ],
      "text/plain": [
       "\u001b[1m5×2 DataFrame\u001b[0m\n",
       "\u001b[1m Row \u001b[0m│\u001b[1m Survived \u001b[0m\u001b[1m Name                              \u001b[0m\n",
       "\u001b[1m     \u001b[0m│\u001b[90m Int64    \u001b[0m\u001b[90m String                            \u001b[0m\n",
       "─────┼─────────────────────────────────────────────\n",
       "   1 │        0  Braund, Mr. Owen Harris\n",
       "   2 │        1  Cumings, Mrs. John Bradley (Flor…\n",
       "   3 │        1  Heikkinen, Miss. Laina\n",
       "   4 │        1  Futrelle, Mrs. Jacques Heath (Li…\n",
       "   5 │        0  Allen, Mr. William Henry"
      ]
     },
     "execution_count": 23,
     "metadata": {},
     "output_type": "execute_result"
    }
   ],
   "source": [
    "df[1:5,[:Survived,:Name]]"
   ]
  },
  {
   "cell_type": "code",
   "execution_count": 43,
   "metadata": {},
   "outputs": [
    {
     "data": {
      "text/plain": [
       "2-element Vector{Bool}:\n",
       " 0\n",
       " 1"
      ]
     },
     "execution_count": 43,
     "metadata": {},
     "output_type": "execute_result"
    }
   ],
   "source": [
    "# List of recorded sexes\n",
    "levels(df[!,:Sex])"
   ]
  },
  {
   "cell_type": "code",
   "execution_count": 42,
   "metadata": {},
   "outputs": [
    {
     "data": {
      "text/html": [
       "<div class=\"data-frame\"><p>891 rows × 12 columns</p><table class=\"data-frame\"><thead><tr><th></th><th>PassengerId</th><th>Survived</th><th>Pclass</th><th>Name</th><th>Sex</th><th>Age</th><th>SibSp</th><th>Parch</th><th>Ticket</th><th>Fare</th><th>Cabin</th><th>Embarked</th></tr><tr><th></th><th title=\"Int64\">Int64</th><th title=\"Bool\">Bool</th><th title=\"Int64\">Int64</th><th title=\"String\">String</th><th title=\"Bool\">Bool</th><th title=\"Union{Missing, Float64}\">Float64?</th><th title=\"Int64\">Int64</th><th title=\"Int64\">Int64</th><th title=\"String31\">String31</th><th title=\"Float64\">Float64</th><th title=\"Union{Missing, String15}\">String15?</th><th title=\"Union{Missing, String1}\">String1?</th></tr></thead><tbody><tr><th>1</th><td>1</td><td>0</td><td>3</td><td>Braund, Mr. Owen Harris</td><td>1</td><td>22.0</td><td>1</td><td>0</td><td>A/5 21171</td><td>7.25</td><td><em>missing</em></td><td>S</td></tr><tr><th>2</th><td>2</td><td>1</td><td>1</td><td>Cumings, Mrs. John Bradley (Florence Briggs Thayer)</td><td>0</td><td>38.0</td><td>1</td><td>0</td><td>PC 17599</td><td>71.2833</td><td>C85</td><td>C</td></tr><tr><th>3</th><td>3</td><td>1</td><td>3</td><td>Heikkinen, Miss. Laina</td><td>0</td><td>26.0</td><td>0</td><td>0</td><td>STON/O2. 3101282</td><td>7.925</td><td><em>missing</em></td><td>S</td></tr><tr><th>4</th><td>4</td><td>1</td><td>1</td><td>Futrelle, Mrs. Jacques Heath (Lily May Peel)</td><td>0</td><td>35.0</td><td>1</td><td>0</td><td>113803</td><td>53.1</td><td>C123</td><td>S</td></tr><tr><th>5</th><td>5</td><td>0</td><td>3</td><td>Allen, Mr. William Henry</td><td>1</td><td>35.0</td><td>0</td><td>0</td><td>373450</td><td>8.05</td><td><em>missing</em></td><td>S</td></tr><tr><th>6</th><td>6</td><td>0</td><td>3</td><td>Moran, Mr. James</td><td>1</td><td><em>missing</em></td><td>0</td><td>0</td><td>330877</td><td>8.4583</td><td><em>missing</em></td><td>Q</td></tr><tr><th>7</th><td>7</td><td>0</td><td>1</td><td>McCarthy, Mr. Timothy J</td><td>1</td><td>54.0</td><td>0</td><td>0</td><td>17463</td><td>51.8625</td><td>E46</td><td>S</td></tr><tr><th>8</th><td>8</td><td>0</td><td>3</td><td>Palsson, Master. Gosta Leonard</td><td>1</td><td>2.0</td><td>3</td><td>1</td><td>349909</td><td>21.075</td><td><em>missing</em></td><td>S</td></tr><tr><th>9</th><td>9</td><td>1</td><td>3</td><td>Johnson, Mrs. Oscar W (Elisabeth Vilhelmina Berg)</td><td>0</td><td>27.0</td><td>0</td><td>2</td><td>347742</td><td>11.1333</td><td><em>missing</em></td><td>S</td></tr><tr><th>10</th><td>10</td><td>1</td><td>2</td><td>Nasser, Mrs. Nicholas (Adele Achem)</td><td>0</td><td>14.0</td><td>1</td><td>0</td><td>237736</td><td>30.0708</td><td><em>missing</em></td><td>C</td></tr><tr><th>11</th><td>11</td><td>1</td><td>3</td><td>Sandstrom, Miss. Marguerite Rut</td><td>0</td><td>4.0</td><td>1</td><td>1</td><td>PP 9549</td><td>16.7</td><td>G6</td><td>S</td></tr><tr><th>12</th><td>12</td><td>1</td><td>1</td><td>Bonnell, Miss. Elizabeth</td><td>0</td><td>58.0</td><td>0</td><td>0</td><td>113783</td><td>26.55</td><td>C103</td><td>S</td></tr><tr><th>13</th><td>13</td><td>0</td><td>3</td><td>Saundercock, Mr. William Henry</td><td>1</td><td>20.0</td><td>0</td><td>0</td><td>A/5. 2151</td><td>8.05</td><td><em>missing</em></td><td>S</td></tr><tr><th>14</th><td>14</td><td>0</td><td>3</td><td>Andersson, Mr. Anders Johan</td><td>1</td><td>39.0</td><td>1</td><td>5</td><td>347082</td><td>31.275</td><td><em>missing</em></td><td>S</td></tr><tr><th>15</th><td>15</td><td>0</td><td>3</td><td>Vestrom, Miss. Hulda Amanda Adolfina</td><td>0</td><td>14.0</td><td>0</td><td>0</td><td>350406</td><td>7.8542</td><td><em>missing</em></td><td>S</td></tr><tr><th>16</th><td>16</td><td>1</td><td>2</td><td>Hewlett, Mrs. (Mary D Kingcome) </td><td>0</td><td>55.0</td><td>0</td><td>0</td><td>248706</td><td>16.0</td><td><em>missing</em></td><td>S</td></tr><tr><th>17</th><td>17</td><td>0</td><td>3</td><td>Rice, Master. Eugene</td><td>1</td><td>2.0</td><td>4</td><td>1</td><td>382652</td><td>29.125</td><td><em>missing</em></td><td>Q</td></tr><tr><th>18</th><td>18</td><td>1</td><td>2</td><td>Williams, Mr. Charles Eugene</td><td>1</td><td><em>missing</em></td><td>0</td><td>0</td><td>244373</td><td>13.0</td><td><em>missing</em></td><td>S</td></tr><tr><th>19</th><td>19</td><td>0</td><td>3</td><td>Vander Planke, Mrs. Julius (Emelia Maria Vandemoortele)</td><td>0</td><td>31.0</td><td>1</td><td>0</td><td>345763</td><td>18.0</td><td><em>missing</em></td><td>S</td></tr><tr><th>20</th><td>20</td><td>1</td><td>3</td><td>Masselmani, Mrs. Fatima</td><td>0</td><td><em>missing</em></td><td>0</td><td>0</td><td>2649</td><td>7.225</td><td><em>missing</em></td><td>C</td></tr><tr><th>21</th><td>21</td><td>0</td><td>2</td><td>Fynney, Mr. Joseph J</td><td>1</td><td>35.0</td><td>0</td><td>0</td><td>239865</td><td>26.0</td><td><em>missing</em></td><td>S</td></tr><tr><th>22</th><td>22</td><td>1</td><td>2</td><td>Beesley, Mr. Lawrence</td><td>1</td><td>34.0</td><td>0</td><td>0</td><td>248698</td><td>13.0</td><td>D56</td><td>S</td></tr><tr><th>23</th><td>23</td><td>1</td><td>3</td><td>McGowan, Miss. Anna &quot;Annie&quot;</td><td>0</td><td>15.0</td><td>0</td><td>0</td><td>330923</td><td>8.0292</td><td><em>missing</em></td><td>Q</td></tr><tr><th>24</th><td>24</td><td>1</td><td>1</td><td>Sloper, Mr. William Thompson</td><td>1</td><td>28.0</td><td>0</td><td>0</td><td>113788</td><td>35.5</td><td>A6</td><td>S</td></tr><tr><th>25</th><td>25</td><td>0</td><td>3</td><td>Palsson, Miss. Torborg Danira</td><td>0</td><td>8.0</td><td>3</td><td>1</td><td>349909</td><td>21.075</td><td><em>missing</em></td><td>S</td></tr><tr><th>26</th><td>26</td><td>1</td><td>3</td><td>Asplund, Mrs. Carl Oscar (Selma Augusta Emilia Johansson)</td><td>0</td><td>38.0</td><td>1</td><td>5</td><td>347077</td><td>31.3875</td><td><em>missing</em></td><td>S</td></tr><tr><th>27</th><td>27</td><td>0</td><td>3</td><td>Emir, Mr. Farred Chehab</td><td>1</td><td><em>missing</em></td><td>0</td><td>0</td><td>2631</td><td>7.225</td><td><em>missing</em></td><td>C</td></tr><tr><th>28</th><td>28</td><td>0</td><td>1</td><td>Fortune, Mr. Charles Alexander</td><td>1</td><td>19.0</td><td>3</td><td>2</td><td>19950</td><td>263.0</td><td>C23 C25 C27</td><td>S</td></tr><tr><th>29</th><td>29</td><td>1</td><td>3</td><td>O&apos;Dwyer, Miss. Ellen &quot;Nellie&quot;</td><td>0</td><td><em>missing</em></td><td>0</td><td>0</td><td>330959</td><td>7.8792</td><td><em>missing</em></td><td>Q</td></tr><tr><th>30</th><td>30</td><td>0</td><td>3</td><td>Todoroff, Mr. Lalio</td><td>1</td><td><em>missing</em></td><td>0</td><td>0</td><td>349216</td><td>7.8958</td><td><em>missing</em></td><td>S</td></tr><tr><th>&vellip;</th><td>&vellip;</td><td>&vellip;</td><td>&vellip;</td><td>&vellip;</td><td>&vellip;</td><td>&vellip;</td><td>&vellip;</td><td>&vellip;</td><td>&vellip;</td><td>&vellip;</td><td>&vellip;</td><td>&vellip;</td></tr></tbody></table></div>"
      ],
      "text/latex": [
       "\\begin{tabular}{r|cccccccccccc}\n",
       "\t& PassengerId & Survived & Pclass & Name & Sex & Age & SibSp & Parch & Ticket & Fare & Cabin & Embarked\\\\\n",
       "\t\\hline\n",
       "\t& Int64 & Bool & Int64 & String & Bool & Float64? & Int64 & Int64 & String31 & Float64 & String15? & String1?\\\\\n",
       "\t\\hline\n",
       "\t1 & 1 & 0 & 3 & Braund, Mr. Owen Harris & 1 & 22.0 & 1 & 0 & A/5 21171 & 7.25 & \\emph{missing} & S \\\\\n",
       "\t2 & 2 & 1 & 1 & Cumings, Mrs. John Bradley (Florence Briggs Thayer) & 0 & 38.0 & 1 & 0 & PC 17599 & 71.2833 & C85 & C \\\\\n",
       "\t3 & 3 & 1 & 3 & Heikkinen, Miss. Laina & 0 & 26.0 & 0 & 0 & STON/O2. 3101282 & 7.925 & \\emph{missing} & S \\\\\n",
       "\t4 & 4 & 1 & 1 & Futrelle, Mrs. Jacques Heath (Lily May Peel) & 0 & 35.0 & 1 & 0 & 113803 & 53.1 & C123 & S \\\\\n",
       "\t5 & 5 & 0 & 3 & Allen, Mr. William Henry & 1 & 35.0 & 0 & 0 & 373450 & 8.05 & \\emph{missing} & S \\\\\n",
       "\t6 & 6 & 0 & 3 & Moran, Mr. James & 1 & \\emph{missing} & 0 & 0 & 330877 & 8.4583 & \\emph{missing} & Q \\\\\n",
       "\t7 & 7 & 0 & 1 & McCarthy, Mr. Timothy J & 1 & 54.0 & 0 & 0 & 17463 & 51.8625 & E46 & S \\\\\n",
       "\t8 & 8 & 0 & 3 & Palsson, Master. Gosta Leonard & 1 & 2.0 & 3 & 1 & 349909 & 21.075 & \\emph{missing} & S \\\\\n",
       "\t9 & 9 & 1 & 3 & Johnson, Mrs. Oscar W (Elisabeth Vilhelmina Berg) & 0 & 27.0 & 0 & 2 & 347742 & 11.1333 & \\emph{missing} & S \\\\\n",
       "\t10 & 10 & 1 & 2 & Nasser, Mrs. Nicholas (Adele Achem) & 0 & 14.0 & 1 & 0 & 237736 & 30.0708 & \\emph{missing} & C \\\\\n",
       "\t11 & 11 & 1 & 3 & Sandstrom, Miss. Marguerite Rut & 0 & 4.0 & 1 & 1 & PP 9549 & 16.7 & G6 & S \\\\\n",
       "\t12 & 12 & 1 & 1 & Bonnell, Miss. Elizabeth & 0 & 58.0 & 0 & 0 & 113783 & 26.55 & C103 & S \\\\\n",
       "\t13 & 13 & 0 & 3 & Saundercock, Mr. William Henry & 1 & 20.0 & 0 & 0 & A/5. 2151 & 8.05 & \\emph{missing} & S \\\\\n",
       "\t14 & 14 & 0 & 3 & Andersson, Mr. Anders Johan & 1 & 39.0 & 1 & 5 & 347082 & 31.275 & \\emph{missing} & S \\\\\n",
       "\t15 & 15 & 0 & 3 & Vestrom, Miss. Hulda Amanda Adolfina & 0 & 14.0 & 0 & 0 & 350406 & 7.8542 & \\emph{missing} & S \\\\\n",
       "\t16 & 16 & 1 & 2 & Hewlett, Mrs. (Mary D Kingcome)  & 0 & 55.0 & 0 & 0 & 248706 & 16.0 & \\emph{missing} & S \\\\\n",
       "\t17 & 17 & 0 & 3 & Rice, Master. Eugene & 1 & 2.0 & 4 & 1 & 382652 & 29.125 & \\emph{missing} & Q \\\\\n",
       "\t18 & 18 & 1 & 2 & Williams, Mr. Charles Eugene & 1 & \\emph{missing} & 0 & 0 & 244373 & 13.0 & \\emph{missing} & S \\\\\n",
       "\t19 & 19 & 0 & 3 & Vander Planke, Mrs. Julius (Emelia Maria Vandemoortele) & 0 & 31.0 & 1 & 0 & 345763 & 18.0 & \\emph{missing} & S \\\\\n",
       "\t20 & 20 & 1 & 3 & Masselmani, Mrs. Fatima & 0 & \\emph{missing} & 0 & 0 & 2649 & 7.225 & \\emph{missing} & C \\\\\n",
       "\t21 & 21 & 0 & 2 & Fynney, Mr. Joseph J & 1 & 35.0 & 0 & 0 & 239865 & 26.0 & \\emph{missing} & S \\\\\n",
       "\t22 & 22 & 1 & 2 & Beesley, Mr. Lawrence & 1 & 34.0 & 0 & 0 & 248698 & 13.0 & D56 & S \\\\\n",
       "\t23 & 23 & 1 & 3 & McGowan, Miss. Anna \"Annie\" & 0 & 15.0 & 0 & 0 & 330923 & 8.0292 & \\emph{missing} & Q \\\\\n",
       "\t24 & 24 & 1 & 1 & Sloper, Mr. William Thompson & 1 & 28.0 & 0 & 0 & 113788 & 35.5 & A6 & S \\\\\n",
       "\t25 & 25 & 0 & 3 & Palsson, Miss. Torborg Danira & 0 & 8.0 & 3 & 1 & 349909 & 21.075 & \\emph{missing} & S \\\\\n",
       "\t26 & 26 & 1 & 3 & Asplund, Mrs. Carl Oscar (Selma Augusta Emilia Johansson) & 0 & 38.0 & 1 & 5 & 347077 & 31.3875 & \\emph{missing} & S \\\\\n",
       "\t27 & 27 & 0 & 3 & Emir, Mr. Farred Chehab & 1 & \\emph{missing} & 0 & 0 & 2631 & 7.225 & \\emph{missing} & C \\\\\n",
       "\t28 & 28 & 0 & 1 & Fortune, Mr. Charles Alexander & 1 & 19.0 & 3 & 2 & 19950 & 263.0 & C23 C25 C27 & S \\\\\n",
       "\t29 & 29 & 1 & 3 & O'Dwyer, Miss. Ellen \"Nellie\" & 0 & \\emph{missing} & 0 & 0 & 330959 & 7.8792 & \\emph{missing} & Q \\\\\n",
       "\t30 & 30 & 0 & 3 & Todoroff, Mr. Lalio & 1 & \\emph{missing} & 0 & 0 & 349216 & 7.8958 & \\emph{missing} & S \\\\\n",
       "\t$\\dots$ & $\\dots$ & $\\dots$ & $\\dots$ & $\\dots$ & $\\dots$ & $\\dots$ & $\\dots$ & $\\dots$ & $\\dots$ & $\\dots$ & $\\dots$ & $\\dots$ \\\\\n",
       "\\end{tabular}\n"
      ],
      "text/plain": [
       "\u001b[1m891×12 DataFrame\u001b[0m\n",
       "\u001b[1m Row \u001b[0m│\u001b[1m PassengerId \u001b[0m\u001b[1m Survived \u001b[0m\u001b[1m Pclass \u001b[0m\u001b[1m Name                              \u001b[0m\u001b[1m Sex   \u001b[0m\u001b[1m Age       \u001b[0m\u001b[1m SibSp \u001b[0m\u001b[1m Parch \u001b[0m\u001b[1m Ticket           \u001b[0m\u001b[1m Fare    \u001b[0m\u001b[1m Cabin     \u001b[0m\u001b[1m Embarked \u001b[0m\n",
       "\u001b[1m     \u001b[0m│\u001b[90m Int64       \u001b[0m\u001b[90m Bool     \u001b[0m\u001b[90m Int64  \u001b[0m\u001b[90m String                            \u001b[0m\u001b[90m Bool  \u001b[0m\u001b[90m Float64?  \u001b[0m\u001b[90m Int64 \u001b[0m\u001b[90m Int64 \u001b[0m\u001b[90m String31         \u001b[0m\u001b[90m Float64 \u001b[0m\u001b[90m String15? \u001b[0m\u001b[90m String1? \u001b[0m\n",
       "─────┼──────────────────────────────────────────────────────────────────────────────────────────────────────────────────────────────────────────────────\n",
       "   1 │           1     false       3  Braund, Mr. Owen Harris             true       22.0      1      0  A/5 21171          7.25   \u001b[90m missing   \u001b[0m S\n",
       "   2 │           2      true       1  Cumings, Mrs. John Bradley (Flor…  false       38.0      1      0  PC 17599          71.2833  C85        C\n",
       "   3 │           3      true       3  Heikkinen, Miss. Laina             false       26.0      0      0  STON/O2. 3101282   7.925  \u001b[90m missing   \u001b[0m S\n",
       "   4 │           4      true       1  Futrelle, Mrs. Jacques Heath (Li…  false       35.0      1      0  113803            53.1     C123       S\n",
       "   5 │           5     false       3  Allen, Mr. William Henry            true       35.0      0      0  373450             8.05   \u001b[90m missing   \u001b[0m S\n",
       "   6 │           6     false       3  Moran, Mr. James                    true \u001b[90m missing   \u001b[0m     0      0  330877             8.4583 \u001b[90m missing   \u001b[0m Q\n",
       "   7 │           7     false       1  McCarthy, Mr. Timothy J             true       54.0      0      0  17463             51.8625  E46        S\n",
       "   8 │           8     false       3  Palsson, Master. Gosta Leonard      true        2.0      3      1  349909            21.075  \u001b[90m missing   \u001b[0m S\n",
       "   9 │           9      true       3  Johnson, Mrs. Oscar W (Elisabeth…  false       27.0      0      2  347742            11.1333 \u001b[90m missing   \u001b[0m S\n",
       "  10 │          10      true       2  Nasser, Mrs. Nicholas (Adele Ach…  false       14.0      1      0  237736            30.0708 \u001b[90m missing   \u001b[0m C\n",
       "  11 │          11      true       3  Sandstrom, Miss. Marguerite Rut    false        4.0      1      1  PP 9549           16.7     G6         S\n",
       "  ⋮  │      ⋮          ⋮        ⋮                     ⋮                    ⋮        ⋮        ⋮      ⋮           ⋮             ⋮         ⋮         ⋮\n",
       " 882 │         882     false       3  Markun, Mr. Johann                  true       33.0      0      0  349257             7.8958 \u001b[90m missing   \u001b[0m S\n",
       " 883 │         883     false       3  Dahlberg, Miss. Gerda Ulrika       false       22.0      0      0  7552              10.5167 \u001b[90m missing   \u001b[0m S\n",
       " 884 │         884     false       2  Banfield, Mr. Frederick James       true       28.0      0      0  C.A./SOTON 34068  10.5    \u001b[90m missing   \u001b[0m S\n",
       " 885 │         885     false       3  Sutehall, Mr. Henry Jr              true       25.0      0      0  SOTON/OQ 392076    7.05   \u001b[90m missing   \u001b[0m S\n",
       " 886 │         886     false       3  Rice, Mrs. William (Margaret Nor…  false       39.0      0      5  382652            29.125  \u001b[90m missing   \u001b[0m Q\n",
       " 887 │         887     false       2  Montvila, Rev. Juozas               true       27.0      0      0  211536            13.0    \u001b[90m missing   \u001b[0m S\n",
       " 888 │         888      true       1  Graham, Miss. Margaret Edith       false       19.0      0      0  112053            30.0     B42        S\n",
       " 889 │         889     false       3  Johnston, Miss. Catherine Helen …  false \u001b[90m missing   \u001b[0m     1      2  W./C. 6607        23.45   \u001b[90m missing   \u001b[0m S\n",
       " 890 │         890      true       1  Behr, Mr. Karl Howell               true       26.0      0      0  111369            30.0     C148       C\n",
       " 891 │         891     false       3  Dooley, Mr. Patrick                 true       32.0      0      0  370376             7.75   \u001b[90m missing   \u001b[0m Q\n",
       "\u001b[36m                                                                                                                                        870 rows omitted\u001b[0m"
      ]
     },
     "execution_count": 42,
     "metadata": {},
     "output_type": "execute_result"
    }
   ],
   "source": [
    "# Convert Survived column to boolean\n",
    "df[!,:Survived] = convert.(Bool,df[!,:Survived])\n",
    "\n",
    "# Convert Sex column to boolean\n",
    "eltype(df[!,:Sex]) != Bool && (df[!,:Sex] = df[!,:Sex] .== \"male\")\n",
    "\n",
    "df.Embarked = categorical(df.Embarked)\n",
    "\n",
    "df"
   ]
  },
  {
   "cell_type": "code",
   "execution_count": 194,
   "metadata": {},
   "outputs": [
    {
     "data": {
      "text/html": [
       "<div class=\"data-frame\"><p>12 rows × 3 columns</p><table class=\"data-frame\"><thead><tr><th></th><th>Column</th><th>Total</th><th>Percent</th></tr><tr><th></th><th title=\"String\">String</th><th title=\"Int64\">Int64</th><th title=\"Float64\">Float64</th></tr></thead><tbody><tr><th>1</th><td>Cabin</td><td>687</td><td>0.771</td></tr><tr><th>2</th><td>Age</td><td>177</td><td>0.199</td></tr><tr><th>3</th><td>Embarked</td><td>2</td><td>0.002</td></tr><tr><th>4</th><td>PassengerId</td><td>0</td><td>0.0</td></tr><tr><th>5</th><td>Survived</td><td>0</td><td>0.0</td></tr><tr><th>6</th><td>Pclass</td><td>0</td><td>0.0</td></tr><tr><th>7</th><td>Name</td><td>0</td><td>0.0</td></tr><tr><th>8</th><td>Sex</td><td>0</td><td>0.0</td></tr><tr><th>9</th><td>SibSp</td><td>0</td><td>0.0</td></tr><tr><th>10</th><td>Parch</td><td>0</td><td>0.0</td></tr><tr><th>11</th><td>Ticket</td><td>0</td><td>0.0</td></tr><tr><th>12</th><td>Fare</td><td>0</td><td>0.0</td></tr></tbody></table></div>"
      ],
      "text/latex": [
       "\\begin{tabular}{r|ccc}\n",
       "\t& Column & Total & Percent\\\\\n",
       "\t\\hline\n",
       "\t& String & Int64 & Float64\\\\\n",
       "\t\\hline\n",
       "\t1 & Cabin & 687 & 0.771 \\\\\n",
       "\t2 & Age & 177 & 0.199 \\\\\n",
       "\t3 & Embarked & 2 & 0.002 \\\\\n",
       "\t4 & PassengerId & 0 & 0.0 \\\\\n",
       "\t5 & Survived & 0 & 0.0 \\\\\n",
       "\t6 & Pclass & 0 & 0.0 \\\\\n",
       "\t7 & Name & 0 & 0.0 \\\\\n",
       "\t8 & Sex & 0 & 0.0 \\\\\n",
       "\t9 & SibSp & 0 & 0.0 \\\\\n",
       "\t10 & Parch & 0 & 0.0 \\\\\n",
       "\t11 & Ticket & 0 & 0.0 \\\\\n",
       "\t12 & Fare & 0 & 0.0 \\\\\n",
       "\\end{tabular}\n"
      ],
      "text/plain": [
       "\u001b[1m12×3 DataFrame\u001b[0m\n",
       "\u001b[1m Row \u001b[0m│\u001b[1m Column      \u001b[0m\u001b[1m Total \u001b[0m\u001b[1m Percent \u001b[0m\n",
       "\u001b[1m     \u001b[0m│\u001b[90m String      \u001b[0m\u001b[90m Int64 \u001b[0m\u001b[90m Float64 \u001b[0m\n",
       "─────┼─────────────────────────────\n",
       "   1 │ Cabin          687    0.771\n",
       "   2 │ Age            177    0.199\n",
       "   3 │ Embarked         2    0.002\n",
       "   4 │ PassengerId      0    0.0\n",
       "   5 │ Survived         0    0.0\n",
       "   6 │ Pclass           0    0.0\n",
       "   7 │ Name             0    0.0\n",
       "   8 │ Sex              0    0.0\n",
       "   9 │ SibSp            0    0.0\n",
       "  10 │ Parch            0    0.0\n",
       "  11 │ Ticket           0    0.0\n",
       "  12 │ Fare             0    0.0"
      ]
     },
     "execution_count": 194,
     "metadata": {},
     "output_type": "execute_result"
    }
   ],
   "source": [
    "# Get missing stats\n",
    "\n",
    "emptycols = count.(ismissing, eachcol(df))\n",
    "emptyperc = round.(emptycols ./ fill(size(df)...), digits = 3)\n",
    "sort(DataFrame(Column = names(df), Total = emptycols, Percent = emptyperc), :Total, rev = true)"
   ]
  },
  {
   "cell_type": "code",
   "execution_count": 122,
   "metadata": {},
   "outputs": [
    {
     "ename": "LoadError",
     "evalue": "UndefVarError: colwise not defined",
     "output_type": "error",
     "traceback": [
      "UndefVarError: colwise not defined",
      "",
      "Stacktrace:",
      " [1] top-level scope",
      "   @ In[122]:2",
      " [2] eval",
      "   @ ./boot.jl:373 [inlined]",
      " [3] include_string(mapexpr::typeof(REPL.softscope), mod::Module, code::String, filename::String)",
      "   @ Base ./loading.jl:1196"
     ]
    }
   ],
   "source": [
    "\n",
    "colwise(ismissing,df)\n",
    "# count.(ismissing, eachcol(df))"
   ]
  },
  {
   "cell_type": "code",
   "execution_count": 192,
   "metadata": {
    "scrolled": true,
    "tags": []
   },
   "outputs": [
    {
     "name": "stdout",
     "output_type": "stream",
     "text": [
      "\u001b[1m204×2 DataFrame\u001b[0m\n",
      "\u001b[1m Row \u001b[0m│\u001b[1m Survived \u001b[0m\u001b[1m Cabin           \u001b[0m\n",
      "\u001b[1m     \u001b[0m│\u001b[90m Bool     \u001b[0m\u001b[90m String15        \u001b[0m\n",
      "─────┼───────────────────────────\n",
      "   1 │     true  G6\n",
      "   2 │     true  G6\n",
      "   3 │     true  F4\n",
      "   4 │     true  F4\n",
      "   5 │     true  F33\n",
      "   6 │     true  F33\n",
      "   7 │     true  F33\n",
      "   8 │     true  F2\n",
      "   9 │     true  F2\n",
      "  10 │     true  F E69\n",
      "  11 │     true  E8\n",
      "  12 │     true  E8\n",
      "  13 │     true  E68\n",
      "  14 │     true  E67\n",
      "  15 │     true  E50\n",
      "  16 │     true  E49\n",
      "  17 │     true  E44\n",
      "  18 │     true  E40\n",
      "  19 │     true  E36\n",
      "  20 │     true  E34\n",
      "  21 │     true  E33\n",
      "  22 │     true  E33\n",
      "  23 │     true  E25\n",
      "  24 │     true  E25\n",
      "  25 │     true  E24\n",
      "  26 │     true  E24\n",
      "  27 │     true  E17\n",
      "  28 │     true  E121\n",
      "  29 │     true  E121\n",
      "  30 │     true  E12\n",
      "  31 │     true  E101\n",
      "  32 │     true  E101\n",
      "  33 │     true  E101\n",
      "  34 │     true  E10\n",
      "  35 │     true  D9\n",
      "  36 │     true  D7\n",
      "  37 │     true  D56\n",
      "  38 │     true  D49\n",
      "  39 │     true  D47\n",
      "  40 │     true  D45\n",
      "  41 │     true  D37\n",
      "  42 │     true  D36\n",
      "  43 │     true  D36\n",
      "  44 │     true  D35\n",
      "  45 │     true  D35\n",
      "  46 │     true  D33\n",
      "  47 │     true  D33\n",
      "  48 │     true  D28\n",
      "  49 │     true  D21\n",
      "  50 │     true  D20\n",
      "  51 │     true  D20\n",
      "  52 │     true  D19\n",
      "  53 │     true  D17\n",
      "  54 │     true  D17\n",
      "  55 │     true  D15\n",
      "  56 │     true  D11\n",
      "  57 │     true  D10 D12\n",
      "  58 │     true  D\n",
      "  59 │     true  D\n",
      "  60 │     true  C99\n",
      "  61 │     true  C93\n",
      "  62 │     true  C93\n",
      "  63 │     true  C92\n",
      "  64 │     true  C92\n",
      "  65 │     true  C90\n",
      "  66 │     true  C85\n",
      "  67 │     true  C83\n",
      "  68 │     true  C78\n",
      "  69 │     true  C70\n",
      "  70 │     true  C7\n",
      "  71 │     true  C68\n",
      "  72 │     true  C65\n",
      "  73 │     true  C62 C64\n",
      "  74 │     true  C54\n",
      "  75 │     true  C52\n",
      "  76 │     true  C52\n",
      "  77 │     true  C50\n",
      "  78 │     true  C47\n",
      "  79 │     true  C45\n",
      "  80 │     true  C32\n",
      "  81 │     true  C23 C25 C27\n",
      "  82 │     true  C23 C25 C27\n",
      "  83 │     true  C22 C26\n",
      "  84 │     true  C2\n",
      "  85 │     true  C148\n",
      "  86 │     true  C126\n",
      "  87 │     true  C126\n",
      "  88 │     true  C125\n",
      "  89 │     true  C125\n",
      "  90 │     true  C123\n",
      "  91 │     true  C106\n",
      "  92 │     true  C104\n",
      "  93 │     true  C103\n",
      "  94 │     true  C101\n",
      "  95 │     true  B96 B98\n",
      "  96 │     true  B96 B98\n",
      "  97 │     true  B96 B98\n",
      "  98 │     true  B96 B98\n",
      "  99 │     true  B80\n",
      " 100 │     true  B79\n",
      " 101 │     true  B78\n",
      " 102 │     true  B77\n",
      " 103 │     true  B77\n",
      " 104 │     true  B73\n",
      " 105 │     true  B69\n",
      " 106 │     true  B58 B60\n",
      " 107 │     true  B57 B59 B63 B66\n",
      " 108 │     true  B57 B59 B63 B66\n",
      " 109 │     true  B51 B53 B55\n",
      " 110 │     true  B50\n",
      " 111 │     true  B5\n",
      " 112 │     true  B5\n",
      " 113 │     true  B49\n",
      " 114 │     true  B49\n",
      " 115 │     true  B42\n",
      " 116 │     true  B41\n",
      " 117 │     true  B4\n",
      " 118 │     true  B39\n",
      " 119 │     true  B35\n",
      " 120 │     true  B35\n",
      " 121 │     true  B3\n",
      " 122 │     true  B28\n",
      " 123 │     true  B28\n",
      " 124 │     true  B22\n",
      " 125 │     true  B20\n",
      " 126 │     true  B20\n",
      " 127 │     true  B18\n",
      " 128 │     true  B18\n",
      " 129 │     true  B101\n",
      " 130 │     true  A6\n",
      " 131 │     true  A34\n",
      " 132 │     true  A31\n",
      " 133 │     true  A26\n",
      " 134 │     true  A23\n",
      " 135 │     true  A20\n",
      " 136 │     true  A16\n",
      " 137 │    false  T\n",
      " 138 │    false  G6\n",
      " 139 │    false  G6\n",
      " 140 │    false  F38\n",
      " 141 │    false  F2\n",
      " 142 │    false  F G73\n",
      " 143 │    false  F G73\n",
      " 144 │    false  F G63\n",
      " 145 │    false  E77\n",
      " 146 │    false  E67\n",
      " 147 │    false  E63\n",
      " 148 │    false  E58\n",
      " 149 │    false  E46\n",
      " 150 │    false  E44\n",
      " 151 │    false  E38\n",
      " 152 │    false  E31\n",
      " 153 │    false  D6\n",
      " 154 │    false  D50\n",
      " 155 │    false  D48\n",
      " 156 │    false  D46\n",
      " 157 │    false  D30\n",
      " 158 │    false  D26\n",
      " 159 │    false  D26\n",
      " 160 │    false  D\n",
      " 161 │    false  C95\n",
      " 162 │    false  C91\n",
      " 163 │    false  C87\n",
      " 164 │    false  C86\n",
      " 165 │    false  C83\n",
      " 166 │    false  C82\n",
      " 167 │    false  C78\n",
      " 168 │    false  C68\n",
      " 169 │    false  C65\n",
      " 170 │    false  C49\n",
      " 171 │    false  C46\n",
      " 172 │    false  C30\n",
      " 173 │    false  C23 C25 C27\n",
      " 174 │    false  C23 C25 C27\n",
      " 175 │    false  C22 C26\n",
      " 176 │    false  C22 C26\n",
      " 177 │    false  C2\n",
      " 178 │    false  C128\n",
      " 179 │    false  C124\n",
      " 180 │    false  C124\n",
      " 181 │    false  C123\n",
      " 182 │    false  C118\n",
      " 183 │    false  C111\n",
      " 184 │    false  C110\n",
      " 185 │    false  B94\n",
      " 186 │    false  B86\n",
      " 187 │    false  B82 B84\n",
      " 188 │    false  B71\n",
      " 189 │    false  B58 B60\n",
      " 190 │    false  B51 B53 B55\n",
      " 191 │    false  B38\n",
      " 192 │    false  B37\n",
      " 193 │    false  B30\n",
      " 194 │    false  B22\n",
      " 195 │    false  B19\n",
      " 196 │    false  B102\n",
      " 197 │    false  A7\n",
      " 198 │    false  A5\n",
      " 199 │    false  A36\n",
      " 200 │    false  A32\n",
      " 201 │    false  A24\n",
      " 202 │    false  A19\n",
      " 203 │    false  A14\n",
      " 204 │    false  A10"
     ]
    },
    {
     "data": {
      "text/plain": [
       "204-element Vector{Char}:\n",
       " 'G': ASCII/Unicode U+0047 (category Lu: Letter, uppercase)\n",
       " 'G': ASCII/Unicode U+0047 (category Lu: Letter, uppercase)\n",
       " 'F': ASCII/Unicode U+0046 (category Lu: Letter, uppercase)\n",
       " 'F': ASCII/Unicode U+0046 (category Lu: Letter, uppercase)\n",
       " 'F': ASCII/Unicode U+0046 (category Lu: Letter, uppercase)\n",
       " 'F': ASCII/Unicode U+0046 (category Lu: Letter, uppercase)\n",
       " 'F': ASCII/Unicode U+0046 (category Lu: Letter, uppercase)\n",
       " 'F': ASCII/Unicode U+0046 (category Lu: Letter, uppercase)\n",
       " 'F': ASCII/Unicode U+0046 (category Lu: Letter, uppercase)\n",
       " 'F': ASCII/Unicode U+0046 (category Lu: Letter, uppercase)\n",
       " 'E': ASCII/Unicode U+0045 (category Lu: Letter, uppercase)\n",
       " 'E': ASCII/Unicode U+0045 (category Lu: Letter, uppercase)\n",
       " 'E': ASCII/Unicode U+0045 (category Lu: Letter, uppercase)\n",
       " ⋮\n",
       " 'B': ASCII/Unicode U+0042 (category Lu: Letter, uppercase)\n",
       " 'B': ASCII/Unicode U+0042 (category Lu: Letter, uppercase)\n",
       " 'B': ASCII/Unicode U+0042 (category Lu: Letter, uppercase)\n",
       " 'B': ASCII/Unicode U+0042 (category Lu: Letter, uppercase)\n",
       " 'A': ASCII/Unicode U+0041 (category Lu: Letter, uppercase)\n",
       " 'A': ASCII/Unicode U+0041 (category Lu: Letter, uppercase)\n",
       " 'A': ASCII/Unicode U+0041 (category Lu: Letter, uppercase)\n",
       " 'A': ASCII/Unicode U+0041 (category Lu: Letter, uppercase)\n",
       " 'A': ASCII/Unicode U+0041 (category Lu: Letter, uppercase)\n",
       " 'A': ASCII/Unicode U+0041 (category Lu: Letter, uppercase)\n",
       " 'A': ASCII/Unicode U+0041 (category Lu: Letter, uppercase)\n",
       " 'A': ASCII/Unicode U+0041 (category Lu: Letter, uppercase)"
      ]
     },
     "execution_count": 192,
     "metadata": {},
     "output_type": "execute_result"
    }
   ],
   "source": [
    "cabin = @pipe dropmissing(df[:,[:Survived,:Cabin]]) |> sort(_,rev=true)\n",
    "show(cabin, allrows=true)\n",
    "cabin.Cabin = getindex.(cabin[:,:Cabin],1)"
   ]
  },
  {
   "cell_type": "code",
   "execution_count": 191,
   "metadata": {},
   "outputs": [
    {
     "data": {
      "text/html": [
       "<div class=\"data-frame\"><p>8 rows × 5 columns</p><table class=\"data-frame\"><thead><tr><th></th><th>Cabin</th><th>Survived</th><th>Died</th><th>nrow</th><th>Ratio</th></tr><tr><th></th><th title=\"Char\">Char</th><th title=\"Int64\">Int64</th><th title=\"Int64\">Int64</th><th title=\"Int64\">Int64</th><th title=\"Float64\">Float64</th></tr></thead><tbody><tr><th>1</th><td>D</td><td>25</td><td>8</td><td>33</td><td>3.12</td></tr><tr><th>2</th><td>E</td><td>24</td><td>8</td><td>32</td><td>3.0</td></tr><tr><th>3</th><td>B</td><td>35</td><td>12</td><td>47</td><td>2.92</td></tr><tr><th>4</th><td>F</td><td>8</td><td>5</td><td>13</td><td>1.6</td></tr><tr><th>5</th><td>C</td><td>35</td><td>24</td><td>59</td><td>1.46</td></tr><tr><th>6</th><td>G</td><td>2</td><td>2</td><td>4</td><td>1.0</td></tr><tr><th>7</th><td>A</td><td>7</td><td>8</td><td>15</td><td>0.88</td></tr><tr><th>8</th><td>T</td><td>0</td><td>1</td><td>1</td><td>0.0</td></tr></tbody></table></div>"
      ],
      "text/latex": [
       "\\begin{tabular}{r|ccccc}\n",
       "\t& Cabin & Survived & Died & nrow & Ratio\\\\\n",
       "\t\\hline\n",
       "\t& Char & Int64 & Int64 & Int64 & Float64\\\\\n",
       "\t\\hline\n",
       "\t1 & D & 25 & 8 & 33 & 3.12 \\\\\n",
       "\t2 & E & 24 & 8 & 32 & 3.0 \\\\\n",
       "\t3 & B & 35 & 12 & 47 & 2.92 \\\\\n",
       "\t4 & F & 8 & 5 & 13 & 1.6 \\\\\n",
       "\t5 & C & 35 & 24 & 59 & 1.46 \\\\\n",
       "\t6 & G & 2 & 2 & 4 & 1.0 \\\\\n",
       "\t7 & A & 7 & 8 & 15 & 0.88 \\\\\n",
       "\t8 & T & 0 & 1 & 1 & 0.0 \\\\\n",
       "\\end{tabular}\n"
      ],
      "text/plain": [
       "\u001b[1m8×5 DataFrame\u001b[0m\n",
       "\u001b[1m Row \u001b[0m│\u001b[1m Cabin \u001b[0m\u001b[1m Survived \u001b[0m\u001b[1m Died  \u001b[0m\u001b[1m nrow  \u001b[0m\u001b[1m Ratio   \u001b[0m\n",
       "\u001b[1m     \u001b[0m│\u001b[90m Char  \u001b[0m\u001b[90m Int64    \u001b[0m\u001b[90m Int64 \u001b[0m\u001b[90m Int64 \u001b[0m\u001b[90m Float64 \u001b[0m\n",
       "─────┼────────────────────────────────────────\n",
       "   1 │ D            25      8     33     3.12\n",
       "   2 │ E            24      8     32     3.0\n",
       "   3 │ B            35     12     47     2.92\n",
       "   4 │ F             8      5     13     1.6\n",
       "   5 │ C            35     24     59     1.46\n",
       "   6 │ G             2      2      4     1.0\n",
       "   7 │ A             7      8     15     0.88\n",
       "   8 │ T             0      1      1     0.0"
      ]
     },
     "execution_count": 191,
     "metadata": {},
     "output_type": "execute_result"
    }
   ],
   "source": [
    "@pipe groupby(cabin, :Cabin) |>\n",
    "      combine(_,\n",
    "          :Survived => sum => :Survived,\n",
    "          :Survived => (s -> count(s .== false)) => :Died,\n",
    "          nrow,\n",
    "          :Survived => (s -> round(sum(s) / count(s .== false), digits = 2)) => :Ratio\n",
    "      ) |> sort(_, :Ratio, rev = true)"
   ]
  },
  {
   "cell_type": "code",
   "execution_count": null,
   "metadata": {},
   "outputs": [],
   "source": []
  }
 ],
 "metadata": {
  "kernelspec": {
   "display_name": "Julia 1.7.1",
   "language": "julia",
   "name": "julia-1.7"
  },
  "language_info": {
   "file_extension": ".jl",
   "mimetype": "application/julia",
   "name": "julia",
   "version": "1.7.1"
  }
 },
 "nbformat": 4,
 "nbformat_minor": 4
}
